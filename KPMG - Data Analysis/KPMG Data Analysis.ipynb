{
 "cells": [
  {
   "cell_type": "markdown",
   "id": "bd4f7c09",
   "metadata": {},
   "source": [
    "# Import Libraries"
   ]
  },
  {
   "cell_type": "code",
   "execution_count": 1,
   "id": "be0b5df4",
   "metadata": {
    "ExecuteTime": {
     "end_time": "2022-08-19T01:03:04.629005Z",
     "start_time": "2022-08-19T01:02:43.710279Z"
    }
   },
   "outputs": [],
   "source": [
    "import pandas as pd\n",
    "import matplotlib.pyplot as plt\n",
    "import seaborn as sns\n",
    "import numpy as np"
   ]
  },
  {
   "cell_type": "markdown",
   "id": "ec370649",
   "metadata": {},
   "source": [
    "# Dataset Overview"
   ]
  },
  {
   "cell_type": "code",
   "execution_count": 2,
   "id": "87cf5b7f",
   "metadata": {
    "ExecuteTime": {
     "end_time": "2022-08-19T01:05:35.664950Z",
     "start_time": "2022-08-19T01:05:29.659174Z"
    }
   },
   "outputs": [
    {
     "data": {
      "text/html": [
       "<div>\n",
       "<style scoped>\n",
       "    .dataframe tbody tr th:only-of-type {\n",
       "        vertical-align: middle;\n",
       "    }\n",
       "\n",
       "    .dataframe tbody tr th {\n",
       "        vertical-align: top;\n",
       "    }\n",
       "\n",
       "    .dataframe thead th {\n",
       "        text-align: right;\n",
       "    }\n",
       "</style>\n",
       "<table border=\"1\" class=\"dataframe\">\n",
       "  <thead>\n",
       "    <tr style=\"text-align: right;\">\n",
       "      <th></th>\n",
       "      <th>transaction_id</th>\n",
       "      <th>product_id</th>\n",
       "      <th>customer_id</th>\n",
       "      <th>transaction_date</th>\n",
       "      <th>online_order</th>\n",
       "      <th>order_status</th>\n",
       "      <th>brand</th>\n",
       "      <th>product_line</th>\n",
       "      <th>product_class</th>\n",
       "      <th>product_size</th>\n",
       "      <th>list_price</th>\n",
       "      <th>standard_cost</th>\n",
       "      <th>product_first_sold_date</th>\n",
       "    </tr>\n",
       "  </thead>\n",
       "  <tbody>\n",
       "    <tr>\n",
       "      <th>0</th>\n",
       "      <td>1</td>\n",
       "      <td>2</td>\n",
       "      <td>2950</td>\n",
       "      <td>2017-02-25</td>\n",
       "      <td>0.0</td>\n",
       "      <td>Approved</td>\n",
       "      <td>Solex</td>\n",
       "      <td>Standard</td>\n",
       "      <td>medium</td>\n",
       "      <td>medium</td>\n",
       "      <td>71.49</td>\n",
       "      <td>53.62</td>\n",
       "      <td>41245.0</td>\n",
       "    </tr>\n",
       "    <tr>\n",
       "      <th>1</th>\n",
       "      <td>2</td>\n",
       "      <td>3</td>\n",
       "      <td>3120</td>\n",
       "      <td>2017-05-21</td>\n",
       "      <td>1.0</td>\n",
       "      <td>Approved</td>\n",
       "      <td>Trek Bicycles</td>\n",
       "      <td>Standard</td>\n",
       "      <td>medium</td>\n",
       "      <td>large</td>\n",
       "      <td>2091.47</td>\n",
       "      <td>388.92</td>\n",
       "      <td>41701.0</td>\n",
       "    </tr>\n",
       "    <tr>\n",
       "      <th>2</th>\n",
       "      <td>3</td>\n",
       "      <td>37</td>\n",
       "      <td>402</td>\n",
       "      <td>2017-10-16</td>\n",
       "      <td>0.0</td>\n",
       "      <td>Approved</td>\n",
       "      <td>OHM Cycles</td>\n",
       "      <td>Standard</td>\n",
       "      <td>low</td>\n",
       "      <td>medium</td>\n",
       "      <td>1793.43</td>\n",
       "      <td>248.82</td>\n",
       "      <td>36361.0</td>\n",
       "    </tr>\n",
       "    <tr>\n",
       "      <th>3</th>\n",
       "      <td>4</td>\n",
       "      <td>88</td>\n",
       "      <td>3135</td>\n",
       "      <td>2017-08-31</td>\n",
       "      <td>0.0</td>\n",
       "      <td>Approved</td>\n",
       "      <td>Norco Bicycles</td>\n",
       "      <td>Standard</td>\n",
       "      <td>medium</td>\n",
       "      <td>medium</td>\n",
       "      <td>1198.46</td>\n",
       "      <td>381.10</td>\n",
       "      <td>36145.0</td>\n",
       "    </tr>\n",
       "    <tr>\n",
       "      <th>4</th>\n",
       "      <td>5</td>\n",
       "      <td>78</td>\n",
       "      <td>787</td>\n",
       "      <td>2017-10-01</td>\n",
       "      <td>1.0</td>\n",
       "      <td>Approved</td>\n",
       "      <td>Giant Bicycles</td>\n",
       "      <td>Standard</td>\n",
       "      <td>medium</td>\n",
       "      <td>large</td>\n",
       "      <td>1765.30</td>\n",
       "      <td>709.48</td>\n",
       "      <td>42226.0</td>\n",
       "    </tr>\n",
       "  </tbody>\n",
       "</table>\n",
       "</div>"
      ],
      "text/plain": [
       "   transaction_id  product_id  customer_id transaction_date  online_order  \\\n",
       "0               1           2         2950       2017-02-25           0.0   \n",
       "1               2           3         3120       2017-05-21           1.0   \n",
       "2               3          37          402       2017-10-16           0.0   \n",
       "3               4          88         3135       2017-08-31           0.0   \n",
       "4               5          78          787       2017-10-01           1.0   \n",
       "\n",
       "  order_status           brand product_line product_class product_size  \\\n",
       "0     Approved           Solex     Standard        medium       medium   \n",
       "1     Approved   Trek Bicycles     Standard        medium        large   \n",
       "2     Approved      OHM Cycles     Standard           low       medium   \n",
       "3     Approved  Norco Bicycles     Standard        medium       medium   \n",
       "4     Approved  Giant Bicycles     Standard        medium        large   \n",
       "\n",
       "   list_price  standard_cost  product_first_sold_date  \n",
       "0       71.49          53.62                  41245.0  \n",
       "1     2091.47         388.92                  41701.0  \n",
       "2     1793.43         248.82                  36361.0  \n",
       "3     1198.46         381.10                  36145.0  \n",
       "4     1765.30         709.48                  42226.0  "
      ]
     },
     "execution_count": 2,
     "metadata": {},
     "output_type": "execute_result"
    }
   ],
   "source": [
    "df_trx = pd.read_excel('KPMG_VI_New_raw_data_update_final.xlsx', sheet_name=1, header=1)\n",
    "df_trx.head()"
   ]
  },
  {
   "cell_type": "code",
   "execution_count": 84,
   "id": "3165c04b",
   "metadata": {
    "ExecuteTime": {
     "end_time": "2022-08-19T01:59:11.211778Z",
     "start_time": "2022-08-19T01:59:10.465563Z"
    }
   },
   "outputs": [
    {
     "name": "stderr",
     "output_type": "stream",
     "text": [
      "/var/folders/v4/0_xjmlhs3g97b1210d3fl8y80000gn/T/ipykernel_1035/3488962859.py:1: FutureWarning: Inferring datetime64[ns] from data containing strings is deprecated and will be removed in a future version. To retain the old behavior explicitly pass Series(data, dtype={value.dtype})\n",
      "  df_cust = pd.read_excel('KPMG_VI_New_raw_data_update_final.xlsx', sheet_name=2, header=1)\n"
     ]
    },
    {
     "data": {
      "text/html": [
       "<div>\n",
       "<style scoped>\n",
       "    .dataframe tbody tr th:only-of-type {\n",
       "        vertical-align: middle;\n",
       "    }\n",
       "\n",
       "    .dataframe tbody tr th {\n",
       "        vertical-align: top;\n",
       "    }\n",
       "\n",
       "    .dataframe thead th {\n",
       "        text-align: right;\n",
       "    }\n",
       "</style>\n",
       "<table border=\"1\" class=\"dataframe\">\n",
       "  <thead>\n",
       "    <tr style=\"text-align: right;\">\n",
       "      <th></th>\n",
       "      <th>first_name</th>\n",
       "      <th>last_name</th>\n",
       "      <th>gender</th>\n",
       "      <th>past_3_years_bike_related_purchases</th>\n",
       "      <th>DOB</th>\n",
       "      <th>job_title</th>\n",
       "      <th>job_industry_category</th>\n",
       "      <th>wealth_segment</th>\n",
       "      <th>deceased_indicator</th>\n",
       "      <th>owns_car</th>\n",
       "      <th>...</th>\n",
       "      <th>state</th>\n",
       "      <th>country</th>\n",
       "      <th>property_valuation</th>\n",
       "      <th>Unnamed: 16</th>\n",
       "      <th>Unnamed: 17</th>\n",
       "      <th>Unnamed: 18</th>\n",
       "      <th>Unnamed: 19</th>\n",
       "      <th>Unnamed: 20</th>\n",
       "      <th>Rank</th>\n",
       "      <th>Value</th>\n",
       "    </tr>\n",
       "  </thead>\n",
       "  <tbody>\n",
       "    <tr>\n",
       "      <th>0</th>\n",
       "      <td>Chickie</td>\n",
       "      <td>Brister</td>\n",
       "      <td>Male</td>\n",
       "      <td>86</td>\n",
       "      <td>1957-07-12</td>\n",
       "      <td>General Manager</td>\n",
       "      <td>Manufacturing</td>\n",
       "      <td>Mass Customer</td>\n",
       "      <td>N</td>\n",
       "      <td>Yes</td>\n",
       "      <td>...</td>\n",
       "      <td>QLD</td>\n",
       "      <td>Australia</td>\n",
       "      <td>6</td>\n",
       "      <td>0.56</td>\n",
       "      <td>0.7000</td>\n",
       "      <td>0.8750</td>\n",
       "      <td>0.743750</td>\n",
       "      <td>1</td>\n",
       "      <td>1</td>\n",
       "      <td>1.718750</td>\n",
       "    </tr>\n",
       "    <tr>\n",
       "      <th>1</th>\n",
       "      <td>Morly</td>\n",
       "      <td>Genery</td>\n",
       "      <td>Male</td>\n",
       "      <td>69</td>\n",
       "      <td>1970-03-22</td>\n",
       "      <td>Structural Engineer</td>\n",
       "      <td>Property</td>\n",
       "      <td>Mass Customer</td>\n",
       "      <td>N</td>\n",
       "      <td>No</td>\n",
       "      <td>...</td>\n",
       "      <td>NSW</td>\n",
       "      <td>Australia</td>\n",
       "      <td>11</td>\n",
       "      <td>0.89</td>\n",
       "      <td>0.8900</td>\n",
       "      <td>1.1125</td>\n",
       "      <td>0.945625</td>\n",
       "      <td>1</td>\n",
       "      <td>1</td>\n",
       "      <td>1.718750</td>\n",
       "    </tr>\n",
       "    <tr>\n",
       "      <th>2</th>\n",
       "      <td>Ardelis</td>\n",
       "      <td>Forrester</td>\n",
       "      <td>Female</td>\n",
       "      <td>10</td>\n",
       "      <td>1974-08-28</td>\n",
       "      <td>Senior Cost Accountant</td>\n",
       "      <td>Financial Services</td>\n",
       "      <td>Affluent Customer</td>\n",
       "      <td>N</td>\n",
       "      <td>No</td>\n",
       "      <td>...</td>\n",
       "      <td>VIC</td>\n",
       "      <td>Australia</td>\n",
       "      <td>5</td>\n",
       "      <td>1.01</td>\n",
       "      <td>1.0100</td>\n",
       "      <td>1.0100</td>\n",
       "      <td>1.010000</td>\n",
       "      <td>1</td>\n",
       "      <td>1</td>\n",
       "      <td>1.718750</td>\n",
       "    </tr>\n",
       "    <tr>\n",
       "      <th>3</th>\n",
       "      <td>Lucine</td>\n",
       "      <td>Stutt</td>\n",
       "      <td>Female</td>\n",
       "      <td>64</td>\n",
       "      <td>1979-01-28</td>\n",
       "      <td>Account Representative III</td>\n",
       "      <td>Manufacturing</td>\n",
       "      <td>Affluent Customer</td>\n",
       "      <td>N</td>\n",
       "      <td>Yes</td>\n",
       "      <td>...</td>\n",
       "      <td>QLD</td>\n",
       "      <td>Australia</td>\n",
       "      <td>1</td>\n",
       "      <td>0.87</td>\n",
       "      <td>1.0875</td>\n",
       "      <td>1.0875</td>\n",
       "      <td>1.087500</td>\n",
       "      <td>4</td>\n",
       "      <td>4</td>\n",
       "      <td>1.703125</td>\n",
       "    </tr>\n",
       "    <tr>\n",
       "      <th>4</th>\n",
       "      <td>Melinda</td>\n",
       "      <td>Hadlee</td>\n",
       "      <td>Female</td>\n",
       "      <td>34</td>\n",
       "      <td>1965-09-21</td>\n",
       "      <td>Financial Analyst</td>\n",
       "      <td>Financial Services</td>\n",
       "      <td>Affluent Customer</td>\n",
       "      <td>N</td>\n",
       "      <td>No</td>\n",
       "      <td>...</td>\n",
       "      <td>NSW</td>\n",
       "      <td>Australia</td>\n",
       "      <td>9</td>\n",
       "      <td>0.52</td>\n",
       "      <td>0.5200</td>\n",
       "      <td>0.6500</td>\n",
       "      <td>0.650000</td>\n",
       "      <td>4</td>\n",
       "      <td>4</td>\n",
       "      <td>1.703125</td>\n",
       "    </tr>\n",
       "  </tbody>\n",
       "</table>\n",
       "<p>5 rows × 23 columns</p>\n",
       "</div>"
      ],
      "text/plain": [
       "  first_name  last_name  gender  past_3_years_bike_related_purchases  \\\n",
       "0    Chickie    Brister    Male                                   86   \n",
       "1      Morly     Genery    Male                                   69   \n",
       "2    Ardelis  Forrester  Female                                   10   \n",
       "3     Lucine      Stutt  Female                                   64   \n",
       "4    Melinda     Hadlee  Female                                   34   \n",
       "\n",
       "         DOB                   job_title job_industry_category  \\\n",
       "0 1957-07-12             General Manager         Manufacturing   \n",
       "1 1970-03-22         Structural Engineer              Property   \n",
       "2 1974-08-28      Senior Cost Accountant    Financial Services   \n",
       "3 1979-01-28  Account Representative III         Manufacturing   \n",
       "4 1965-09-21           Financial Analyst    Financial Services   \n",
       "\n",
       "      wealth_segment deceased_indicator owns_car  ...  state    country  \\\n",
       "0      Mass Customer                  N      Yes  ...    QLD  Australia   \n",
       "1      Mass Customer                  N       No  ...    NSW  Australia   \n",
       "2  Affluent Customer                  N       No  ...    VIC  Australia   \n",
       "3  Affluent Customer                  N      Yes  ...    QLD  Australia   \n",
       "4  Affluent Customer                  N       No  ...    NSW  Australia   \n",
       "\n",
       "   property_valuation Unnamed: 16 Unnamed: 17  Unnamed: 18  Unnamed: 19  \\\n",
       "0                   6        0.56      0.7000       0.8750     0.743750   \n",
       "1                  11        0.89      0.8900       1.1125     0.945625   \n",
       "2                   5        1.01      1.0100       1.0100     1.010000   \n",
       "3                   1        0.87      1.0875       1.0875     1.087500   \n",
       "4                   9        0.52      0.5200       0.6500     0.650000   \n",
       "\n",
       "   Unnamed: 20  Rank     Value  \n",
       "0            1     1  1.718750  \n",
       "1            1     1  1.718750  \n",
       "2            1     1  1.718750  \n",
       "3            4     4  1.703125  \n",
       "4            4     4  1.703125  \n",
       "\n",
       "[5 rows x 23 columns]"
      ]
     },
     "execution_count": 84,
     "metadata": {},
     "output_type": "execute_result"
    }
   ],
   "source": [
    "df_cust = pd.read_excel('KPMG_VI_New_raw_data_update_final.xlsx', sheet_name=2, header=1)\n",
    "df_cust.head()"
   ]
  },
  {
   "cell_type": "code",
   "execution_count": 126,
   "id": "7d08a798",
   "metadata": {
    "ExecuteTime": {
     "end_time": "2022-08-19T03:48:05.465586Z",
     "start_time": "2022-08-19T03:48:05.317373Z"
    }
   },
   "outputs": [
    {
     "data": {
      "text/html": [
       "<div>\n",
       "<style scoped>\n",
       "    .dataframe tbody tr th:only-of-type {\n",
       "        vertical-align: middle;\n",
       "    }\n",
       "\n",
       "    .dataframe tbody tr th {\n",
       "        vertical-align: top;\n",
       "    }\n",
       "\n",
       "    .dataframe thead th {\n",
       "        text-align: right;\n",
       "    }\n",
       "</style>\n",
       "<table border=\"1\" class=\"dataframe\">\n",
       "  <thead>\n",
       "    <tr style=\"text-align: right;\">\n",
       "      <th></th>\n",
       "      <th>first_name</th>\n",
       "      <th>last_name</th>\n",
       "      <th>gender</th>\n",
       "      <th>past_3_years_bike_related_purchases</th>\n",
       "      <th>DOB</th>\n",
       "      <th>job_title</th>\n",
       "      <th>job_industry_category</th>\n",
       "      <th>wealth_segment</th>\n",
       "      <th>deceased_indicator</th>\n",
       "      <th>owns_car</th>\n",
       "      <th>...</th>\n",
       "      <th>address</th>\n",
       "      <th>postcode</th>\n",
       "      <th>state</th>\n",
       "      <th>country</th>\n",
       "      <th>property_valuation</th>\n",
       "      <th>Rank</th>\n",
       "      <th>Value</th>\n",
       "      <th>Age</th>\n",
       "      <th>gender_fe</th>\n",
       "      <th>Age_Bin</th>\n",
       "    </tr>\n",
       "  </thead>\n",
       "  <tbody>\n",
       "    <tr>\n",
       "      <th>0</th>\n",
       "      <td>Chickie</td>\n",
       "      <td>Brister</td>\n",
       "      <td>Male</td>\n",
       "      <td>86</td>\n",
       "      <td>1957-07-12</td>\n",
       "      <td>General Manager</td>\n",
       "      <td>Manufacturing</td>\n",
       "      <td>Mass Customer</td>\n",
       "      <td>N</td>\n",
       "      <td>Yes</td>\n",
       "      <td>...</td>\n",
       "      <td>45 Shopko Center</td>\n",
       "      <td>4500</td>\n",
       "      <td>QLD</td>\n",
       "      <td>Australia</td>\n",
       "      <td>6</td>\n",
       "      <td>1</td>\n",
       "      <td>1.718750</td>\n",
       "      <td>65.0</td>\n",
       "      <td>Male</td>\n",
       "      <td>Elderly</td>\n",
       "    </tr>\n",
       "    <tr>\n",
       "      <th>1</th>\n",
       "      <td>Morly</td>\n",
       "      <td>Genery</td>\n",
       "      <td>Male</td>\n",
       "      <td>69</td>\n",
       "      <td>1970-03-22</td>\n",
       "      <td>Structural Engineer</td>\n",
       "      <td>Property</td>\n",
       "      <td>Mass Customer</td>\n",
       "      <td>N</td>\n",
       "      <td>No</td>\n",
       "      <td>...</td>\n",
       "      <td>14 Mccormick Park</td>\n",
       "      <td>2113</td>\n",
       "      <td>NSW</td>\n",
       "      <td>Australia</td>\n",
       "      <td>11</td>\n",
       "      <td>1</td>\n",
       "      <td>1.718750</td>\n",
       "      <td>52.0</td>\n",
       "      <td>Male</td>\n",
       "      <td>Pre-Retirement</td>\n",
       "    </tr>\n",
       "    <tr>\n",
       "      <th>2</th>\n",
       "      <td>Ardelis</td>\n",
       "      <td>Forrester</td>\n",
       "      <td>Female</td>\n",
       "      <td>10</td>\n",
       "      <td>1974-08-28</td>\n",
       "      <td>Senior Cost Accountant</td>\n",
       "      <td>Financial Services</td>\n",
       "      <td>Affluent Customer</td>\n",
       "      <td>N</td>\n",
       "      <td>No</td>\n",
       "      <td>...</td>\n",
       "      <td>5 Colorado Crossing</td>\n",
       "      <td>3505</td>\n",
       "      <td>VIC</td>\n",
       "      <td>Australia</td>\n",
       "      <td>5</td>\n",
       "      <td>1</td>\n",
       "      <td>1.718750</td>\n",
       "      <td>47.0</td>\n",
       "      <td>Female</td>\n",
       "      <td>Pre-Retirement</td>\n",
       "    </tr>\n",
       "    <tr>\n",
       "      <th>3</th>\n",
       "      <td>Lucine</td>\n",
       "      <td>Stutt</td>\n",
       "      <td>Female</td>\n",
       "      <td>64</td>\n",
       "      <td>1979-01-28</td>\n",
       "      <td>Account Representative III</td>\n",
       "      <td>Manufacturing</td>\n",
       "      <td>Affluent Customer</td>\n",
       "      <td>N</td>\n",
       "      <td>Yes</td>\n",
       "      <td>...</td>\n",
       "      <td>207 Annamark Plaza</td>\n",
       "      <td>4814</td>\n",
       "      <td>QLD</td>\n",
       "      <td>Australia</td>\n",
       "      <td>1</td>\n",
       "      <td>4</td>\n",
       "      <td>1.703125</td>\n",
       "      <td>43.0</td>\n",
       "      <td>Female</td>\n",
       "      <td>Middle Age</td>\n",
       "    </tr>\n",
       "    <tr>\n",
       "      <th>4</th>\n",
       "      <td>Melinda</td>\n",
       "      <td>Hadlee</td>\n",
       "      <td>Female</td>\n",
       "      <td>34</td>\n",
       "      <td>1965-09-21</td>\n",
       "      <td>Financial Analyst</td>\n",
       "      <td>Financial Services</td>\n",
       "      <td>Affluent Customer</td>\n",
       "      <td>N</td>\n",
       "      <td>No</td>\n",
       "      <td>...</td>\n",
       "      <td>115 Montana Place</td>\n",
       "      <td>2093</td>\n",
       "      <td>NSW</td>\n",
       "      <td>Australia</td>\n",
       "      <td>9</td>\n",
       "      <td>4</td>\n",
       "      <td>1.703125</td>\n",
       "      <td>56.0</td>\n",
       "      <td>Female</td>\n",
       "      <td>Retirement</td>\n",
       "    </tr>\n",
       "  </tbody>\n",
       "</table>\n",
       "<p>5 rows × 21 columns</p>\n",
       "</div>"
      ],
      "text/plain": [
       "  first_name  last_name  gender  past_3_years_bike_related_purchases  \\\n",
       "0    Chickie    Brister    Male                                   86   \n",
       "1      Morly     Genery    Male                                   69   \n",
       "2    Ardelis  Forrester  Female                                   10   \n",
       "3     Lucine      Stutt  Female                                   64   \n",
       "4    Melinda     Hadlee  Female                                   34   \n",
       "\n",
       "         DOB                   job_title job_industry_category  \\\n",
       "0 1957-07-12             General Manager         Manufacturing   \n",
       "1 1970-03-22         Structural Engineer              Property   \n",
       "2 1974-08-28      Senior Cost Accountant    Financial Services   \n",
       "3 1979-01-28  Account Representative III         Manufacturing   \n",
       "4 1965-09-21           Financial Analyst    Financial Services   \n",
       "\n",
       "      wealth_segment deceased_indicator owns_car  ...              address  \\\n",
       "0      Mass Customer                  N      Yes  ...     45 Shopko Center   \n",
       "1      Mass Customer                  N       No  ...    14 Mccormick Park   \n",
       "2  Affluent Customer                  N       No  ...  5 Colorado Crossing   \n",
       "3  Affluent Customer                  N      Yes  ...   207 Annamark Plaza   \n",
       "4  Affluent Customer                  N       No  ...    115 Montana Place   \n",
       "\n",
       "  postcode  state    country property_valuation  Rank     Value   Age  \\\n",
       "0     4500    QLD  Australia                  6     1  1.718750  65.0   \n",
       "1     2113    NSW  Australia                 11     1  1.718750  52.0   \n",
       "2     3505    VIC  Australia                  5     1  1.718750  47.0   \n",
       "3     4814    QLD  Australia                  1     4  1.703125  43.0   \n",
       "4     2093    NSW  Australia                  9     4  1.703125  56.0   \n",
       "\n",
       "   gender_fe         Age_Bin  \n",
       "0       Male         Elderly  \n",
       "1       Male  Pre-Retirement  \n",
       "2     Female  Pre-Retirement  \n",
       "3     Female      Middle Age  \n",
       "4     Female      Retirement  \n",
       "\n",
       "[5 rows x 21 columns]"
      ]
     },
     "execution_count": 126,
     "metadata": {},
     "output_type": "execute_result"
    }
   ],
   "source": [
    "cust = df_cust.drop(['Unnamed: 16', 'Unnamed: 17', 'Unnamed: 18', 'Unnamed: 19', 'Unnamed: 20'], axis=1)\n",
    "cust.head()"
   ]
  },
  {
   "cell_type": "code",
   "execution_count": 129,
   "id": "848f31f7",
   "metadata": {
    "ExecuteTime": {
     "end_time": "2022-08-19T04:24:07.183279Z",
     "start_time": "2022-08-19T04:24:07.086359Z"
    }
   },
   "outputs": [],
   "source": [
    "#cust.to_csv('customer_list.csv')"
   ]
  },
  {
   "cell_type": "code",
   "execution_count": 83,
   "id": "5de6022f",
   "metadata": {
    "ExecuteTime": {
     "end_time": "2022-08-19T01:59:05.157354Z",
     "start_time": "2022-08-19T01:59:03.790284Z"
    }
   },
   "outputs": [
    {
     "name": "stderr",
     "output_type": "stream",
     "text": [
      "/var/folders/v4/0_xjmlhs3g97b1210d3fl8y80000gn/T/ipykernel_1035/3453451002.py:1: FutureWarning: Inferring datetime64[ns] from data containing strings is deprecated and will be removed in a future version. To retain the old behavior explicitly pass Series(data, dtype={value.dtype})\n",
      "  df_demograph = pd.read_excel('KPMG_VI_New_raw_data_update_final.xlsx', sheet_name=3, header=1)\n"
     ]
    },
    {
     "data": {
      "text/html": [
       "<div>\n",
       "<style scoped>\n",
       "    .dataframe tbody tr th:only-of-type {\n",
       "        vertical-align: middle;\n",
       "    }\n",
       "\n",
       "    .dataframe tbody tr th {\n",
       "        vertical-align: top;\n",
       "    }\n",
       "\n",
       "    .dataframe thead th {\n",
       "        text-align: right;\n",
       "    }\n",
       "</style>\n",
       "<table border=\"1\" class=\"dataframe\">\n",
       "  <thead>\n",
       "    <tr style=\"text-align: right;\">\n",
       "      <th></th>\n",
       "      <th>customer_id</th>\n",
       "      <th>first_name</th>\n",
       "      <th>last_name</th>\n",
       "      <th>gender</th>\n",
       "      <th>past_3_years_bike_related_purchases</th>\n",
       "      <th>DOB</th>\n",
       "      <th>job_title</th>\n",
       "      <th>job_industry_category</th>\n",
       "      <th>wealth_segment</th>\n",
       "      <th>deceased_indicator</th>\n",
       "      <th>default</th>\n",
       "      <th>owns_car</th>\n",
       "      <th>tenure</th>\n",
       "    </tr>\n",
       "  </thead>\n",
       "  <tbody>\n",
       "    <tr>\n",
       "      <th>0</th>\n",
       "      <td>1</td>\n",
       "      <td>Laraine</td>\n",
       "      <td>Medendorp</td>\n",
       "      <td>F</td>\n",
       "      <td>93</td>\n",
       "      <td>1953-10-12</td>\n",
       "      <td>Executive Secretary</td>\n",
       "      <td>Health</td>\n",
       "      <td>Mass Customer</td>\n",
       "      <td>N</td>\n",
       "      <td>\"'</td>\n",
       "      <td>Yes</td>\n",
       "      <td>11.0</td>\n",
       "    </tr>\n",
       "    <tr>\n",
       "      <th>1</th>\n",
       "      <td>2</td>\n",
       "      <td>Eli</td>\n",
       "      <td>Bockman</td>\n",
       "      <td>Male</td>\n",
       "      <td>81</td>\n",
       "      <td>1980-12-16</td>\n",
       "      <td>Administrative Officer</td>\n",
       "      <td>Financial Services</td>\n",
       "      <td>Mass Customer</td>\n",
       "      <td>N</td>\n",
       "      <td>&lt;script&gt;alert('hi')&lt;/script&gt;</td>\n",
       "      <td>Yes</td>\n",
       "      <td>16.0</td>\n",
       "    </tr>\n",
       "    <tr>\n",
       "      <th>2</th>\n",
       "      <td>3</td>\n",
       "      <td>Arlin</td>\n",
       "      <td>Dearle</td>\n",
       "      <td>Male</td>\n",
       "      <td>61</td>\n",
       "      <td>1954-01-20</td>\n",
       "      <td>Recruiting Manager</td>\n",
       "      <td>Property</td>\n",
       "      <td>Mass Customer</td>\n",
       "      <td>N</td>\n",
       "      <td>2018-02-01 00:00:00</td>\n",
       "      <td>Yes</td>\n",
       "      <td>15.0</td>\n",
       "    </tr>\n",
       "    <tr>\n",
       "      <th>3</th>\n",
       "      <td>4</td>\n",
       "      <td>Talbot</td>\n",
       "      <td>NaN</td>\n",
       "      <td>Male</td>\n",
       "      <td>33</td>\n",
       "      <td>1961-10-03</td>\n",
       "      <td>NaN</td>\n",
       "      <td>IT</td>\n",
       "      <td>Mass Customer</td>\n",
       "      <td>N</td>\n",
       "      <td>() { _; } &gt;_[$($())] { touch /tmp/blns.shellsh...</td>\n",
       "      <td>No</td>\n",
       "      <td>7.0</td>\n",
       "    </tr>\n",
       "    <tr>\n",
       "      <th>4</th>\n",
       "      <td>5</td>\n",
       "      <td>Sheila-kathryn</td>\n",
       "      <td>Calton</td>\n",
       "      <td>Female</td>\n",
       "      <td>56</td>\n",
       "      <td>1977-05-13</td>\n",
       "      <td>Senior Editor</td>\n",
       "      <td>NaN</td>\n",
       "      <td>Affluent Customer</td>\n",
       "      <td>N</td>\n",
       "      <td>NIL</td>\n",
       "      <td>Yes</td>\n",
       "      <td>8.0</td>\n",
       "    </tr>\n",
       "  </tbody>\n",
       "</table>\n",
       "</div>"
      ],
      "text/plain": [
       "   customer_id      first_name  last_name  gender  \\\n",
       "0            1         Laraine  Medendorp       F   \n",
       "1            2             Eli    Bockman    Male   \n",
       "2            3           Arlin     Dearle    Male   \n",
       "3            4          Talbot        NaN    Male   \n",
       "4            5  Sheila-kathryn     Calton  Female   \n",
       "\n",
       "   past_3_years_bike_related_purchases        DOB               job_title  \\\n",
       "0                                   93 1953-10-12     Executive Secretary   \n",
       "1                                   81 1980-12-16  Administrative Officer   \n",
       "2                                   61 1954-01-20      Recruiting Manager   \n",
       "3                                   33 1961-10-03                     NaN   \n",
       "4                                   56 1977-05-13           Senior Editor   \n",
       "\n",
       "  job_industry_category     wealth_segment deceased_indicator  \\\n",
       "0                Health      Mass Customer                  N   \n",
       "1    Financial Services      Mass Customer                  N   \n",
       "2              Property      Mass Customer                  N   \n",
       "3                    IT      Mass Customer                  N   \n",
       "4                   NaN  Affluent Customer                  N   \n",
       "\n",
       "                                             default owns_car  tenure  \n",
       "0                                                 \"'      Yes    11.0  \n",
       "1                       <script>alert('hi')</script>      Yes    16.0  \n",
       "2                                2018-02-01 00:00:00      Yes    15.0  \n",
       "3  () { _; } >_[$($())] { touch /tmp/blns.shellsh...       No     7.0  \n",
       "4                                                NIL      Yes     8.0  "
      ]
     },
     "execution_count": 83,
     "metadata": {},
     "output_type": "execute_result"
    }
   ],
   "source": [
    "df_demograph = pd.read_excel('KPMG_VI_New_raw_data_update_final.xlsx', sheet_name=3, header=1)\n",
    "df_demograph.head()"
   ]
  },
  {
   "cell_type": "code",
   "execution_count": 5,
   "id": "085e2446",
   "metadata": {
    "ExecuteTime": {
     "end_time": "2022-08-19T01:05:58.693989Z",
     "start_time": "2022-08-19T01:05:57.907597Z"
    }
   },
   "outputs": [
    {
     "data": {
      "text/html": [
       "<div>\n",
       "<style scoped>\n",
       "    .dataframe tbody tr th:only-of-type {\n",
       "        vertical-align: middle;\n",
       "    }\n",
       "\n",
       "    .dataframe tbody tr th {\n",
       "        vertical-align: top;\n",
       "    }\n",
       "\n",
       "    .dataframe thead th {\n",
       "        text-align: right;\n",
       "    }\n",
       "</style>\n",
       "<table border=\"1\" class=\"dataframe\">\n",
       "  <thead>\n",
       "    <tr style=\"text-align: right;\">\n",
       "      <th></th>\n",
       "      <th>customer_id</th>\n",
       "      <th>address</th>\n",
       "      <th>postcode</th>\n",
       "      <th>state</th>\n",
       "      <th>country</th>\n",
       "      <th>property_valuation</th>\n",
       "    </tr>\n",
       "  </thead>\n",
       "  <tbody>\n",
       "    <tr>\n",
       "      <th>0</th>\n",
       "      <td>1</td>\n",
       "      <td>060 Morning Avenue</td>\n",
       "      <td>2016</td>\n",
       "      <td>New South Wales</td>\n",
       "      <td>Australia</td>\n",
       "      <td>10</td>\n",
       "    </tr>\n",
       "    <tr>\n",
       "      <th>1</th>\n",
       "      <td>2</td>\n",
       "      <td>6 Meadow Vale Court</td>\n",
       "      <td>2153</td>\n",
       "      <td>New South Wales</td>\n",
       "      <td>Australia</td>\n",
       "      <td>10</td>\n",
       "    </tr>\n",
       "    <tr>\n",
       "      <th>2</th>\n",
       "      <td>4</td>\n",
       "      <td>0 Holy Cross Court</td>\n",
       "      <td>4211</td>\n",
       "      <td>QLD</td>\n",
       "      <td>Australia</td>\n",
       "      <td>9</td>\n",
       "    </tr>\n",
       "    <tr>\n",
       "      <th>3</th>\n",
       "      <td>5</td>\n",
       "      <td>17979 Del Mar Point</td>\n",
       "      <td>2448</td>\n",
       "      <td>New South Wales</td>\n",
       "      <td>Australia</td>\n",
       "      <td>4</td>\n",
       "    </tr>\n",
       "    <tr>\n",
       "      <th>4</th>\n",
       "      <td>6</td>\n",
       "      <td>9 Oakridge Court</td>\n",
       "      <td>3216</td>\n",
       "      <td>VIC</td>\n",
       "      <td>Australia</td>\n",
       "      <td>9</td>\n",
       "    </tr>\n",
       "  </tbody>\n",
       "</table>\n",
       "</div>"
      ],
      "text/plain": [
       "   customer_id              address  postcode            state    country  \\\n",
       "0            1   060 Morning Avenue      2016  New South Wales  Australia   \n",
       "1            2  6 Meadow Vale Court      2153  New South Wales  Australia   \n",
       "2            4   0 Holy Cross Court      4211              QLD  Australia   \n",
       "3            5  17979 Del Mar Point      2448  New South Wales  Australia   \n",
       "4            6     9 Oakridge Court      3216              VIC  Australia   \n",
       "\n",
       "   property_valuation  \n",
       "0                  10  \n",
       "1                  10  \n",
       "2                   9  \n",
       "3                   4  \n",
       "4                   9  "
      ]
     },
     "execution_count": 5,
     "metadata": {},
     "output_type": "execute_result"
    }
   ],
   "source": [
    "df_address = pd.read_excel('KPMG_VI_New_raw_data_update_final.xlsx', sheet_name=4, header=1)\n",
    "df_address.head()"
   ]
  },
  {
   "cell_type": "code",
   "execution_count": 7,
   "id": "79a273f6",
   "metadata": {
    "ExecuteTime": {
     "end_time": "2022-08-18T15:23:26.784109Z",
     "start_time": "2022-08-18T15:23:26.775881Z"
    }
   },
   "outputs": [
    {
     "name": "stdout",
     "output_type": "stream",
     "text": [
      "transaction dataset consist of 20000 rows and 13 columns\n",
      "new customers dataset consist of 1000 rows and 23 columns\n",
      "customer demographic dataset consist of 4000 rows and 13 columns\n",
      "customer address dataset consist of 3999 rows and 6 columns\n"
     ]
    }
   ],
   "source": [
    "print(f'transaction dataset consist of {df_trx.shape[0]} rows and {df_trx.shape[1]} columns')\n",
    "print(f'new customers dataset consist of {df_cust.shape[0]} rows and {df_cust.shape[1]} columns')\n",
    "print(f'customer demographic dataset consist of {df_demograph.shape[0]} rows and {df_demograph.shape[1]} columns')\n",
    "print(f'customer address dataset consist of {df_address.shape[0]} rows and {df_address.shape[1]} columns')"
   ]
  },
  {
   "cell_type": "code",
   "execution_count": 8,
   "id": "531b4bdc",
   "metadata": {
    "ExecuteTime": {
     "end_time": "2022-08-18T16:27:38.823686Z",
     "start_time": "2022-08-18T16:27:38.681887Z"
    }
   },
   "outputs": [
    {
     "data": {
      "text/html": [
       "<div>\n",
       "<style scoped>\n",
       "    .dataframe tbody tr th:only-of-type {\n",
       "        vertical-align: middle;\n",
       "    }\n",
       "\n",
       "    .dataframe tbody tr th {\n",
       "        vertical-align: top;\n",
       "    }\n",
       "\n",
       "    .dataframe thead th {\n",
       "        text-align: right;\n",
       "    }\n",
       "</style>\n",
       "<table border=\"1\" class=\"dataframe\">\n",
       "  <thead>\n",
       "    <tr style=\"text-align: right;\">\n",
       "      <th></th>\n",
       "      <th>feature</th>\n",
       "      <th>data_type</th>\n",
       "      <th>null_num</th>\n",
       "      <th>null_pct</th>\n",
       "      <th>unique_num</th>\n",
       "      <th>unique_sample</th>\n",
       "    </tr>\n",
       "  </thead>\n",
       "  <tbody>\n",
       "    <tr>\n",
       "      <th>0</th>\n",
       "      <td>transaction_id</td>\n",
       "      <td>int64</td>\n",
       "      <td>0</td>\n",
       "      <td>0.000</td>\n",
       "      <td>20000</td>\n",
       "      <td>[1, 2, 3, 4]</td>\n",
       "    </tr>\n",
       "    <tr>\n",
       "      <th>1</th>\n",
       "      <td>product_id</td>\n",
       "      <td>int64</td>\n",
       "      <td>0</td>\n",
       "      <td>0.000</td>\n",
       "      <td>101</td>\n",
       "      <td>[2, 3, 37, 88]</td>\n",
       "    </tr>\n",
       "    <tr>\n",
       "      <th>2</th>\n",
       "      <td>customer_id</td>\n",
       "      <td>int64</td>\n",
       "      <td>0</td>\n",
       "      <td>0.000</td>\n",
       "      <td>3494</td>\n",
       "      <td>[2950, 3120, 402, 3135]</td>\n",
       "    </tr>\n",
       "    <tr>\n",
       "      <th>3</th>\n",
       "      <td>transaction_date</td>\n",
       "      <td>datetime64[ns]</td>\n",
       "      <td>0</td>\n",
       "      <td>0.000</td>\n",
       "      <td>364</td>\n",
       "      <td>[2017-02-25T00:00:00.000000000, 2017-05-21T00:...</td>\n",
       "    </tr>\n",
       "    <tr>\n",
       "      <th>4</th>\n",
       "      <td>online_order</td>\n",
       "      <td>float64</td>\n",
       "      <td>360</td>\n",
       "      <td>1.800</td>\n",
       "      <td>2</td>\n",
       "      <td>[0.0, 1.0, nan]</td>\n",
       "    </tr>\n",
       "    <tr>\n",
       "      <th>5</th>\n",
       "      <td>order_status</td>\n",
       "      <td>object</td>\n",
       "      <td>0</td>\n",
       "      <td>0.000</td>\n",
       "      <td>2</td>\n",
       "      <td>[Approved, Cancelled]</td>\n",
       "    </tr>\n",
       "    <tr>\n",
       "      <th>6</th>\n",
       "      <td>brand</td>\n",
       "      <td>object</td>\n",
       "      <td>197</td>\n",
       "      <td>0.985</td>\n",
       "      <td>6</td>\n",
       "      <td>[Solex, Trek Bicycles, OHM Cycles, Norco Bicyc...</td>\n",
       "    </tr>\n",
       "    <tr>\n",
       "      <th>7</th>\n",
       "      <td>product_line</td>\n",
       "      <td>object</td>\n",
       "      <td>197</td>\n",
       "      <td>0.985</td>\n",
       "      <td>4</td>\n",
       "      <td>[Standard, Road, Mountain, Touring]</td>\n",
       "    </tr>\n",
       "    <tr>\n",
       "      <th>8</th>\n",
       "      <td>product_class</td>\n",
       "      <td>object</td>\n",
       "      <td>197</td>\n",
       "      <td>0.985</td>\n",
       "      <td>3</td>\n",
       "      <td>[medium, low, high, nan]</td>\n",
       "    </tr>\n",
       "    <tr>\n",
       "      <th>9</th>\n",
       "      <td>product_size</td>\n",
       "      <td>object</td>\n",
       "      <td>197</td>\n",
       "      <td>0.985</td>\n",
       "      <td>3</td>\n",
       "      <td>[medium, large, small, nan]</td>\n",
       "    </tr>\n",
       "    <tr>\n",
       "      <th>10</th>\n",
       "      <td>list_price</td>\n",
       "      <td>float64</td>\n",
       "      <td>0</td>\n",
       "      <td>0.000</td>\n",
       "      <td>296</td>\n",
       "      <td>[71.49, 2091.47, 1793.43, 1198.46]</td>\n",
       "    </tr>\n",
       "    <tr>\n",
       "      <th>11</th>\n",
       "      <td>standard_cost</td>\n",
       "      <td>float64</td>\n",
       "      <td>197</td>\n",
       "      <td>0.985</td>\n",
       "      <td>103</td>\n",
       "      <td>[53.62, 388.92, 248.82, 381.1]</td>\n",
       "    </tr>\n",
       "    <tr>\n",
       "      <th>12</th>\n",
       "      <td>product_first_sold_date</td>\n",
       "      <td>float64</td>\n",
       "      <td>197</td>\n",
       "      <td>0.985</td>\n",
       "      <td>100</td>\n",
       "      <td>[41245.0, 41701.0, 36361.0, 36145.0]</td>\n",
       "    </tr>\n",
       "  </tbody>\n",
       "</table>\n",
       "</div>"
      ],
      "text/plain": [
       "                    feature       data_type  null_num  null_pct  unique_num  \\\n",
       "0            transaction_id           int64         0     0.000       20000   \n",
       "1                product_id           int64         0     0.000         101   \n",
       "2               customer_id           int64         0     0.000        3494   \n",
       "3          transaction_date  datetime64[ns]         0     0.000         364   \n",
       "4              online_order         float64       360     1.800           2   \n",
       "5              order_status          object         0     0.000           2   \n",
       "6                     brand          object       197     0.985           6   \n",
       "7              product_line          object       197     0.985           4   \n",
       "8             product_class          object       197     0.985           3   \n",
       "9              product_size          object       197     0.985           3   \n",
       "10               list_price         float64         0     0.000         296   \n",
       "11            standard_cost         float64       197     0.985         103   \n",
       "12  product_first_sold_date         float64       197     0.985         100   \n",
       "\n",
       "                                        unique_sample  \n",
       "0                                        [1, 2, 3, 4]  \n",
       "1                                      [2, 3, 37, 88]  \n",
       "2                             [2950, 3120, 402, 3135]  \n",
       "3   [2017-02-25T00:00:00.000000000, 2017-05-21T00:...  \n",
       "4                                     [0.0, 1.0, nan]  \n",
       "5                               [Approved, Cancelled]  \n",
       "6   [Solex, Trek Bicycles, OHM Cycles, Norco Bicyc...  \n",
       "7                 [Standard, Road, Mountain, Touring]  \n",
       "8                            [medium, low, high, nan]  \n",
       "9                         [medium, large, small, nan]  \n",
       "10                 [71.49, 2091.47, 1793.43, 1198.46]  \n",
       "11                     [53.62, 388.92, 248.82, 381.1]  \n",
       "12               [41245.0, 41701.0, 36361.0, 36145.0]  "
      ]
     },
     "execution_count": 8,
     "metadata": {},
     "output_type": "execute_result"
    }
   ],
   "source": [
    "# Create Data Info\n",
    "\n",
    "list_item = []\n",
    "for col in df_trx.columns:\n",
    "    list_item.append([col, df_trx[col].dtype, df_trx[col].isna().sum(), 100*df_trx[col].isna().sum()/len(df_trx[col]), df_trx[col].nunique(), df_trx[col].unique()[:4]])\n",
    "desc_df = pd.DataFrame(data=list_item, columns='feature data_type null_num null_pct unique_num unique_sample'.split())\n",
    "desc_df"
   ]
  },
  {
   "cell_type": "code",
   "execution_count": 9,
   "id": "302a8bd9",
   "metadata": {
    "ExecuteTime": {
     "end_time": "2022-08-18T16:29:01.396237Z",
     "start_time": "2022-08-18T16:29:01.310200Z"
    }
   },
   "outputs": [
    {
     "data": {
      "text/html": [
       "<div>\n",
       "<style scoped>\n",
       "    .dataframe tbody tr th:only-of-type {\n",
       "        vertical-align: middle;\n",
       "    }\n",
       "\n",
       "    .dataframe tbody tr th {\n",
       "        vertical-align: top;\n",
       "    }\n",
       "\n",
       "    .dataframe thead th {\n",
       "        text-align: right;\n",
       "    }\n",
       "</style>\n",
       "<table border=\"1\" class=\"dataframe\">\n",
       "  <thead>\n",
       "    <tr style=\"text-align: right;\">\n",
       "      <th></th>\n",
       "      <th>feature</th>\n",
       "      <th>data_type</th>\n",
       "      <th>null_num</th>\n",
       "      <th>null_pct</th>\n",
       "      <th>unique_num</th>\n",
       "      <th>unique_sample</th>\n",
       "    </tr>\n",
       "  </thead>\n",
       "  <tbody>\n",
       "    <tr>\n",
       "      <th>0</th>\n",
       "      <td>first_name</td>\n",
       "      <td>object</td>\n",
       "      <td>0</td>\n",
       "      <td>0.0</td>\n",
       "      <td>940</td>\n",
       "      <td>[Chickie, Morly, Ardelis, Lucine]</td>\n",
       "    </tr>\n",
       "    <tr>\n",
       "      <th>1</th>\n",
       "      <td>last_name</td>\n",
       "      <td>object</td>\n",
       "      <td>29</td>\n",
       "      <td>2.9</td>\n",
       "      <td>961</td>\n",
       "      <td>[Brister, Genery, Forrester, Stutt]</td>\n",
       "    </tr>\n",
       "    <tr>\n",
       "      <th>2</th>\n",
       "      <td>gender</td>\n",
       "      <td>object</td>\n",
       "      <td>0</td>\n",
       "      <td>0.0</td>\n",
       "      <td>3</td>\n",
       "      <td>[Male, Female, U]</td>\n",
       "    </tr>\n",
       "    <tr>\n",
       "      <th>3</th>\n",
       "      <td>past_3_years_bike_related_purchases</td>\n",
       "      <td>int64</td>\n",
       "      <td>0</td>\n",
       "      <td>0.0</td>\n",
       "      <td>100</td>\n",
       "      <td>[86, 69, 10, 64]</td>\n",
       "    </tr>\n",
       "    <tr>\n",
       "      <th>4</th>\n",
       "      <td>DOB</td>\n",
       "      <td>datetime64[ns]</td>\n",
       "      <td>17</td>\n",
       "      <td>1.7</td>\n",
       "      <td>958</td>\n",
       "      <td>[1957-07-12T00:00:00.000000000, 1970-03-22T00:...</td>\n",
       "    </tr>\n",
       "    <tr>\n",
       "      <th>5</th>\n",
       "      <td>job_title</td>\n",
       "      <td>object</td>\n",
       "      <td>106</td>\n",
       "      <td>10.6</td>\n",
       "      <td>184</td>\n",
       "      <td>[General Manager, Structural Engineer, Senior ...</td>\n",
       "    </tr>\n",
       "    <tr>\n",
       "      <th>6</th>\n",
       "      <td>job_industry_category</td>\n",
       "      <td>object</td>\n",
       "      <td>165</td>\n",
       "      <td>16.5</td>\n",
       "      <td>9</td>\n",
       "      <td>[Manufacturing, Property, Financial Services, ...</td>\n",
       "    </tr>\n",
       "    <tr>\n",
       "      <th>7</th>\n",
       "      <td>wealth_segment</td>\n",
       "      <td>object</td>\n",
       "      <td>0</td>\n",
       "      <td>0.0</td>\n",
       "      <td>3</td>\n",
       "      <td>[Mass Customer, Affluent Customer, High Net Wo...</td>\n",
       "    </tr>\n",
       "    <tr>\n",
       "      <th>8</th>\n",
       "      <td>deceased_indicator</td>\n",
       "      <td>object</td>\n",
       "      <td>0</td>\n",
       "      <td>0.0</td>\n",
       "      <td>1</td>\n",
       "      <td>[N]</td>\n",
       "    </tr>\n",
       "    <tr>\n",
       "      <th>9</th>\n",
       "      <td>owns_car</td>\n",
       "      <td>object</td>\n",
       "      <td>0</td>\n",
       "      <td>0.0</td>\n",
       "      <td>2</td>\n",
       "      <td>[Yes, No]</td>\n",
       "    </tr>\n",
       "    <tr>\n",
       "      <th>10</th>\n",
       "      <td>tenure</td>\n",
       "      <td>int64</td>\n",
       "      <td>0</td>\n",
       "      <td>0.0</td>\n",
       "      <td>23</td>\n",
       "      <td>[14, 16, 10, 5]</td>\n",
       "    </tr>\n",
       "    <tr>\n",
       "      <th>11</th>\n",
       "      <td>address</td>\n",
       "      <td>object</td>\n",
       "      <td>0</td>\n",
       "      <td>0.0</td>\n",
       "      <td>1000</td>\n",
       "      <td>[45 Shopko Center, 14 Mccormick Park, 5 Colora...</td>\n",
       "    </tr>\n",
       "    <tr>\n",
       "      <th>12</th>\n",
       "      <td>postcode</td>\n",
       "      <td>int64</td>\n",
       "      <td>0</td>\n",
       "      <td>0.0</td>\n",
       "      <td>522</td>\n",
       "      <td>[4500, 2113, 3505, 4814]</td>\n",
       "    </tr>\n",
       "    <tr>\n",
       "      <th>13</th>\n",
       "      <td>state</td>\n",
       "      <td>object</td>\n",
       "      <td>0</td>\n",
       "      <td>0.0</td>\n",
       "      <td>3</td>\n",
       "      <td>[QLD, NSW, VIC]</td>\n",
       "    </tr>\n",
       "    <tr>\n",
       "      <th>14</th>\n",
       "      <td>country</td>\n",
       "      <td>object</td>\n",
       "      <td>0</td>\n",
       "      <td>0.0</td>\n",
       "      <td>1</td>\n",
       "      <td>[Australia]</td>\n",
       "    </tr>\n",
       "    <tr>\n",
       "      <th>15</th>\n",
       "      <td>property_valuation</td>\n",
       "      <td>int64</td>\n",
       "      <td>0</td>\n",
       "      <td>0.0</td>\n",
       "      <td>12</td>\n",
       "      <td>[6, 11, 5, 1]</td>\n",
       "    </tr>\n",
       "    <tr>\n",
       "      <th>16</th>\n",
       "      <td>Unnamed: 16</td>\n",
       "      <td>float64</td>\n",
       "      <td>0</td>\n",
       "      <td>0.0</td>\n",
       "      <td>71</td>\n",
       "      <td>[0.56, 0.89, 1.01, 0.87]</td>\n",
       "    </tr>\n",
       "    <tr>\n",
       "      <th>17</th>\n",
       "      <td>Unnamed: 17</td>\n",
       "      <td>float64</td>\n",
       "      <td>0</td>\n",
       "      <td>0.0</td>\n",
       "      <td>132</td>\n",
       "      <td>[0.7000000000000001, 0.89, 1.01, 1.0875]</td>\n",
       "    </tr>\n",
       "    <tr>\n",
       "      <th>18</th>\n",
       "      <td>Unnamed: 18</td>\n",
       "      <td>float64</td>\n",
       "      <td>0</td>\n",
       "      <td>0.0</td>\n",
       "      <td>183</td>\n",
       "      <td>[0.8750000000000001, 1.1125, 1.01, 1.0875]</td>\n",
       "    </tr>\n",
       "    <tr>\n",
       "      <th>19</th>\n",
       "      <td>Unnamed: 19</td>\n",
       "      <td>float64</td>\n",
       "      <td>0</td>\n",
       "      <td>0.0</td>\n",
       "      <td>321</td>\n",
       "      <td>[0.74375, 0.945625, 1.01, 1.0875]</td>\n",
       "    </tr>\n",
       "    <tr>\n",
       "      <th>20</th>\n",
       "      <td>Unnamed: 20</td>\n",
       "      <td>int64</td>\n",
       "      <td>0</td>\n",
       "      <td>0.0</td>\n",
       "      <td>324</td>\n",
       "      <td>[1, 4, 6, 8]</td>\n",
       "    </tr>\n",
       "    <tr>\n",
       "      <th>21</th>\n",
       "      <td>Rank</td>\n",
       "      <td>int64</td>\n",
       "      <td>0</td>\n",
       "      <td>0.0</td>\n",
       "      <td>324</td>\n",
       "      <td>[1, 4, 6, 8]</td>\n",
       "    </tr>\n",
       "    <tr>\n",
       "      <th>22</th>\n",
       "      <td>Value</td>\n",
       "      <td>float64</td>\n",
       "      <td>0</td>\n",
       "      <td>0.0</td>\n",
       "      <td>324</td>\n",
       "      <td>[1.71875, 1.703125, 1.671875, 1.65625]</td>\n",
       "    </tr>\n",
       "  </tbody>\n",
       "</table>\n",
       "</div>"
      ],
      "text/plain": [
       "                                feature       data_type  null_num  null_pct  \\\n",
       "0                            first_name          object         0       0.0   \n",
       "1                             last_name          object        29       2.9   \n",
       "2                                gender          object         0       0.0   \n",
       "3   past_3_years_bike_related_purchases           int64         0       0.0   \n",
       "4                                   DOB  datetime64[ns]        17       1.7   \n",
       "5                             job_title          object       106      10.6   \n",
       "6                 job_industry_category          object       165      16.5   \n",
       "7                        wealth_segment          object         0       0.0   \n",
       "8                    deceased_indicator          object         0       0.0   \n",
       "9                              owns_car          object         0       0.0   \n",
       "10                               tenure           int64         0       0.0   \n",
       "11                              address          object         0       0.0   \n",
       "12                             postcode           int64         0       0.0   \n",
       "13                                state          object         0       0.0   \n",
       "14                              country          object         0       0.0   \n",
       "15                   property_valuation           int64         0       0.0   \n",
       "16                          Unnamed: 16         float64         0       0.0   \n",
       "17                          Unnamed: 17         float64         0       0.0   \n",
       "18                          Unnamed: 18         float64         0       0.0   \n",
       "19                          Unnamed: 19         float64         0       0.0   \n",
       "20                          Unnamed: 20           int64         0       0.0   \n",
       "21                                 Rank           int64         0       0.0   \n",
       "22                                Value         float64         0       0.0   \n",
       "\n",
       "    unique_num                                      unique_sample  \n",
       "0          940                  [Chickie, Morly, Ardelis, Lucine]  \n",
       "1          961                [Brister, Genery, Forrester, Stutt]  \n",
       "2            3                                  [Male, Female, U]  \n",
       "3          100                                   [86, 69, 10, 64]  \n",
       "4          958  [1957-07-12T00:00:00.000000000, 1970-03-22T00:...  \n",
       "5          184  [General Manager, Structural Engineer, Senior ...  \n",
       "6            9  [Manufacturing, Property, Financial Services, ...  \n",
       "7            3  [Mass Customer, Affluent Customer, High Net Wo...  \n",
       "8            1                                                [N]  \n",
       "9            2                                          [Yes, No]  \n",
       "10          23                                    [14, 16, 10, 5]  \n",
       "11        1000  [45 Shopko Center, 14 Mccormick Park, 5 Colora...  \n",
       "12         522                           [4500, 2113, 3505, 4814]  \n",
       "13           3                                    [QLD, NSW, VIC]  \n",
       "14           1                                        [Australia]  \n",
       "15          12                                      [6, 11, 5, 1]  \n",
       "16          71                           [0.56, 0.89, 1.01, 0.87]  \n",
       "17         132           [0.7000000000000001, 0.89, 1.01, 1.0875]  \n",
       "18         183         [0.8750000000000001, 1.1125, 1.01, 1.0875]  \n",
       "19         321                  [0.74375, 0.945625, 1.01, 1.0875]  \n",
       "20         324                                       [1, 4, 6, 8]  \n",
       "21         324                                       [1, 4, 6, 8]  \n",
       "22         324             [1.71875, 1.703125, 1.671875, 1.65625]  "
      ]
     },
     "execution_count": 9,
     "metadata": {},
     "output_type": "execute_result"
    }
   ],
   "source": [
    "# Create Data Info\n",
    "\n",
    "list_item = []\n",
    "for col in df_cust.columns:\n",
    "    list_item.append([col, df_cust[col].dtype, df_cust[col].isna().sum(), 100*df_cust[col].isna().sum()/len(df_cust[col]), df_cust[col].nunique(), df_cust[col].unique()[:4]])\n",
    "desc_df = pd.DataFrame(data=list_item, columns='feature data_type null_num null_pct unique_num unique_sample'.split())\n",
    "desc_df"
   ]
  },
  {
   "cell_type": "code",
   "execution_count": 10,
   "id": "f6699065",
   "metadata": {
    "ExecuteTime": {
     "end_time": "2022-08-18T16:29:27.500237Z",
     "start_time": "2022-08-18T16:29:27.426667Z"
    }
   },
   "outputs": [
    {
     "data": {
      "text/html": [
       "<div>\n",
       "<style scoped>\n",
       "    .dataframe tbody tr th:only-of-type {\n",
       "        vertical-align: middle;\n",
       "    }\n",
       "\n",
       "    .dataframe tbody tr th {\n",
       "        vertical-align: top;\n",
       "    }\n",
       "\n",
       "    .dataframe thead th {\n",
       "        text-align: right;\n",
       "    }\n",
       "</style>\n",
       "<table border=\"1\" class=\"dataframe\">\n",
       "  <thead>\n",
       "    <tr style=\"text-align: right;\">\n",
       "      <th></th>\n",
       "      <th>feature</th>\n",
       "      <th>data_type</th>\n",
       "      <th>null_num</th>\n",
       "      <th>null_pct</th>\n",
       "      <th>unique_num</th>\n",
       "      <th>unique_sample</th>\n",
       "    </tr>\n",
       "  </thead>\n",
       "  <tbody>\n",
       "    <tr>\n",
       "      <th>0</th>\n",
       "      <td>customer_id</td>\n",
       "      <td>int64</td>\n",
       "      <td>0</td>\n",
       "      <td>0.000</td>\n",
       "      <td>4000</td>\n",
       "      <td>[1, 2, 3, 4]</td>\n",
       "    </tr>\n",
       "    <tr>\n",
       "      <th>1</th>\n",
       "      <td>first_name</td>\n",
       "      <td>object</td>\n",
       "      <td>0</td>\n",
       "      <td>0.000</td>\n",
       "      <td>3139</td>\n",
       "      <td>[Laraine, Eli, Arlin, Talbot]</td>\n",
       "    </tr>\n",
       "    <tr>\n",
       "      <th>2</th>\n",
       "      <td>last_name</td>\n",
       "      <td>object</td>\n",
       "      <td>125</td>\n",
       "      <td>3.125</td>\n",
       "      <td>3725</td>\n",
       "      <td>[Medendorp, Bockman, Dearle, nan]</td>\n",
       "    </tr>\n",
       "    <tr>\n",
       "      <th>3</th>\n",
       "      <td>gender</td>\n",
       "      <td>object</td>\n",
       "      <td>0</td>\n",
       "      <td>0.000</td>\n",
       "      <td>6</td>\n",
       "      <td>[F, Male, Female, U]</td>\n",
       "    </tr>\n",
       "    <tr>\n",
       "      <th>4</th>\n",
       "      <td>past_3_years_bike_related_purchases</td>\n",
       "      <td>int64</td>\n",
       "      <td>0</td>\n",
       "      <td>0.000</td>\n",
       "      <td>100</td>\n",
       "      <td>[93, 81, 61, 33]</td>\n",
       "    </tr>\n",
       "    <tr>\n",
       "      <th>5</th>\n",
       "      <td>DOB</td>\n",
       "      <td>datetime64[ns]</td>\n",
       "      <td>87</td>\n",
       "      <td>2.175</td>\n",
       "      <td>3448</td>\n",
       "      <td>[1953-10-12T00:00:00.000000000, 1980-12-16T00:...</td>\n",
       "    </tr>\n",
       "    <tr>\n",
       "      <th>6</th>\n",
       "      <td>job_title</td>\n",
       "      <td>object</td>\n",
       "      <td>506</td>\n",
       "      <td>12.650</td>\n",
       "      <td>195</td>\n",
       "      <td>[Executive Secretary, Administrative Officer, ...</td>\n",
       "    </tr>\n",
       "    <tr>\n",
       "      <th>7</th>\n",
       "      <td>job_industry_category</td>\n",
       "      <td>object</td>\n",
       "      <td>656</td>\n",
       "      <td>16.400</td>\n",
       "      <td>9</td>\n",
       "      <td>[Health, Financial Services, Property, IT]</td>\n",
       "    </tr>\n",
       "    <tr>\n",
       "      <th>8</th>\n",
       "      <td>wealth_segment</td>\n",
       "      <td>object</td>\n",
       "      <td>0</td>\n",
       "      <td>0.000</td>\n",
       "      <td>3</td>\n",
       "      <td>[Mass Customer, Affluent Customer, High Net Wo...</td>\n",
       "    </tr>\n",
       "    <tr>\n",
       "      <th>9</th>\n",
       "      <td>deceased_indicator</td>\n",
       "      <td>object</td>\n",
       "      <td>0</td>\n",
       "      <td>0.000</td>\n",
       "      <td>2</td>\n",
       "      <td>[N, Y]</td>\n",
       "    </tr>\n",
       "    <tr>\n",
       "      <th>10</th>\n",
       "      <td>default</td>\n",
       "      <td>object</td>\n",
       "      <td>302</td>\n",
       "      <td>7.550</td>\n",
       "      <td>90</td>\n",
       "      <td>[\"', &lt;script&gt;alert('hi')&lt;/script&gt;, 2018-02-01 ...</td>\n",
       "    </tr>\n",
       "    <tr>\n",
       "      <th>11</th>\n",
       "      <td>owns_car</td>\n",
       "      <td>object</td>\n",
       "      <td>0</td>\n",
       "      <td>0.000</td>\n",
       "      <td>2</td>\n",
       "      <td>[Yes, No]</td>\n",
       "    </tr>\n",
       "    <tr>\n",
       "      <th>12</th>\n",
       "      <td>tenure</td>\n",
       "      <td>float64</td>\n",
       "      <td>87</td>\n",
       "      <td>2.175</td>\n",
       "      <td>22</td>\n",
       "      <td>[11.0, 16.0, 15.0, 7.0]</td>\n",
       "    </tr>\n",
       "  </tbody>\n",
       "</table>\n",
       "</div>"
      ],
      "text/plain": [
       "                                feature       data_type  null_num  null_pct  \\\n",
       "0                           customer_id           int64         0     0.000   \n",
       "1                            first_name          object         0     0.000   \n",
       "2                             last_name          object       125     3.125   \n",
       "3                                gender          object         0     0.000   \n",
       "4   past_3_years_bike_related_purchases           int64         0     0.000   \n",
       "5                                   DOB  datetime64[ns]        87     2.175   \n",
       "6                             job_title          object       506    12.650   \n",
       "7                 job_industry_category          object       656    16.400   \n",
       "8                        wealth_segment          object         0     0.000   \n",
       "9                    deceased_indicator          object         0     0.000   \n",
       "10                              default          object       302     7.550   \n",
       "11                             owns_car          object         0     0.000   \n",
       "12                               tenure         float64        87     2.175   \n",
       "\n",
       "    unique_num                                      unique_sample  \n",
       "0         4000                                       [1, 2, 3, 4]  \n",
       "1         3139                      [Laraine, Eli, Arlin, Talbot]  \n",
       "2         3725                  [Medendorp, Bockman, Dearle, nan]  \n",
       "3            6                               [F, Male, Female, U]  \n",
       "4          100                                   [93, 81, 61, 33]  \n",
       "5         3448  [1953-10-12T00:00:00.000000000, 1980-12-16T00:...  \n",
       "6          195  [Executive Secretary, Administrative Officer, ...  \n",
       "7            9         [Health, Financial Services, Property, IT]  \n",
       "8            3  [Mass Customer, Affluent Customer, High Net Wo...  \n",
       "9            2                                             [N, Y]  \n",
       "10          90  [\"', <script>alert('hi')</script>, 2018-02-01 ...  \n",
       "11           2                                          [Yes, No]  \n",
       "12          22                            [11.0, 16.0, 15.0, 7.0]  "
      ]
     },
     "execution_count": 10,
     "metadata": {},
     "output_type": "execute_result"
    }
   ],
   "source": [
    "# Create Data Info\n",
    "\n",
    "list_item = []\n",
    "for col in df_demograph.columns:\n",
    "    list_item.append([col, df_demograph[col].dtype, df_demograph[col].isna().sum(), 100*df_demograph[col].isna().sum()/len(df_demograph[col]), df_demograph[col].nunique(), df_demograph[col].unique()[:4]])\n",
    "desc_df = pd.DataFrame(data=list_item, columns='feature data_type null_num null_pct unique_num unique_sample'.split())\n",
    "desc_df"
   ]
  },
  {
   "cell_type": "code",
   "execution_count": 11,
   "id": "79204de5",
   "metadata": {
    "ExecuteTime": {
     "end_time": "2022-08-18T16:30:17.945828Z",
     "start_time": "2022-08-18T16:30:17.897663Z"
    }
   },
   "outputs": [
    {
     "data": {
      "text/html": [
       "<div>\n",
       "<style scoped>\n",
       "    .dataframe tbody tr th:only-of-type {\n",
       "        vertical-align: middle;\n",
       "    }\n",
       "\n",
       "    .dataframe tbody tr th {\n",
       "        vertical-align: top;\n",
       "    }\n",
       "\n",
       "    .dataframe thead th {\n",
       "        text-align: right;\n",
       "    }\n",
       "</style>\n",
       "<table border=\"1\" class=\"dataframe\">\n",
       "  <thead>\n",
       "    <tr style=\"text-align: right;\">\n",
       "      <th></th>\n",
       "      <th>feature</th>\n",
       "      <th>data_type</th>\n",
       "      <th>null_num</th>\n",
       "      <th>null_pct</th>\n",
       "      <th>unique_num</th>\n",
       "      <th>unique_sample</th>\n",
       "    </tr>\n",
       "  </thead>\n",
       "  <tbody>\n",
       "    <tr>\n",
       "      <th>0</th>\n",
       "      <td>customer_id</td>\n",
       "      <td>int64</td>\n",
       "      <td>0</td>\n",
       "      <td>0.0</td>\n",
       "      <td>3999</td>\n",
       "      <td>[1, 2, 4, 5]</td>\n",
       "    </tr>\n",
       "    <tr>\n",
       "      <th>1</th>\n",
       "      <td>address</td>\n",
       "      <td>object</td>\n",
       "      <td>0</td>\n",
       "      <td>0.0</td>\n",
       "      <td>3996</td>\n",
       "      <td>[060 Morning Avenue, 6 Meadow Vale Court, 0 Ho...</td>\n",
       "    </tr>\n",
       "    <tr>\n",
       "      <th>2</th>\n",
       "      <td>postcode</td>\n",
       "      <td>int64</td>\n",
       "      <td>0</td>\n",
       "      <td>0.0</td>\n",
       "      <td>873</td>\n",
       "      <td>[2016, 2153, 4211, 2448]</td>\n",
       "    </tr>\n",
       "    <tr>\n",
       "      <th>3</th>\n",
       "      <td>state</td>\n",
       "      <td>object</td>\n",
       "      <td>0</td>\n",
       "      <td>0.0</td>\n",
       "      <td>5</td>\n",
       "      <td>[New South Wales, QLD, VIC, NSW]</td>\n",
       "    </tr>\n",
       "    <tr>\n",
       "      <th>4</th>\n",
       "      <td>country</td>\n",
       "      <td>object</td>\n",
       "      <td>0</td>\n",
       "      <td>0.0</td>\n",
       "      <td>1</td>\n",
       "      <td>[Australia]</td>\n",
       "    </tr>\n",
       "    <tr>\n",
       "      <th>5</th>\n",
       "      <td>property_valuation</td>\n",
       "      <td>int64</td>\n",
       "      <td>0</td>\n",
       "      <td>0.0</td>\n",
       "      <td>12</td>\n",
       "      <td>[10, 9, 4, 12]</td>\n",
       "    </tr>\n",
       "  </tbody>\n",
       "</table>\n",
       "</div>"
      ],
      "text/plain": [
       "              feature data_type  null_num  null_pct  unique_num  \\\n",
       "0         customer_id     int64         0       0.0        3999   \n",
       "1             address    object         0       0.0        3996   \n",
       "2            postcode     int64         0       0.0         873   \n",
       "3               state    object         0       0.0           5   \n",
       "4             country    object         0       0.0           1   \n",
       "5  property_valuation     int64         0       0.0          12   \n",
       "\n",
       "                                       unique_sample  \n",
       "0                                       [1, 2, 4, 5]  \n",
       "1  [060 Morning Avenue, 6 Meadow Vale Court, 0 Ho...  \n",
       "2                           [2016, 2153, 4211, 2448]  \n",
       "3                   [New South Wales, QLD, VIC, NSW]  \n",
       "4                                        [Australia]  \n",
       "5                                     [10, 9, 4, 12]  "
      ]
     },
     "execution_count": 11,
     "metadata": {},
     "output_type": "execute_result"
    }
   ],
   "source": [
    "# Create Data Info\n",
    "\n",
    "list_item = []\n",
    "for col in df_address.columns:\n",
    "    list_item.append([col, df_address[col].dtype, df_address[col].isna().sum(), 100*df_address[col].isna().sum()/len(df_address[col]), df_address[col].nunique(), df_address[col].unique()[:4]])\n",
    "desc_df = pd.DataFrame(data=list_item, columns='feature data_type null_num null_pct unique_num unique_sample'.split())\n",
    "desc_df"
   ]
  },
  {
   "cell_type": "markdown",
   "id": "72ce6247",
   "metadata": {},
   "source": [
    "# Data Exploration"
   ]
  },
  {
   "cell_type": "code",
   "execution_count": 6,
   "id": "28792e96",
   "metadata": {
    "ExecuteTime": {
     "end_time": "2022-08-19T01:07:33.516412Z",
     "start_time": "2022-08-19T01:07:33.477608Z"
    }
   },
   "outputs": [
    {
     "data": {
      "text/html": [
       "<div>\n",
       "<style scoped>\n",
       "    .dataframe tbody tr th:only-of-type {\n",
       "        vertical-align: middle;\n",
       "    }\n",
       "\n",
       "    .dataframe tbody tr th {\n",
       "        vertical-align: top;\n",
       "    }\n",
       "\n",
       "    .dataframe thead th {\n",
       "        text-align: right;\n",
       "    }\n",
       "</style>\n",
       "<table border=\"1\" class=\"dataframe\">\n",
       "  <thead>\n",
       "    <tr style=\"text-align: right;\">\n",
       "      <th></th>\n",
       "      <th>customer_id</th>\n",
       "      <th>first_name</th>\n",
       "      <th>last_name</th>\n",
       "      <th>gender</th>\n",
       "      <th>past_3_years_bike_related_purchases</th>\n",
       "      <th>DOB</th>\n",
       "      <th>job_title</th>\n",
       "      <th>job_industry_category</th>\n",
       "      <th>wealth_segment</th>\n",
       "      <th>deceased_indicator</th>\n",
       "      <th>default</th>\n",
       "      <th>owns_car</th>\n",
       "      <th>tenure</th>\n",
       "    </tr>\n",
       "  </thead>\n",
       "  <tbody>\n",
       "    <tr>\n",
       "      <th>0</th>\n",
       "      <td>1</td>\n",
       "      <td>Laraine</td>\n",
       "      <td>Medendorp</td>\n",
       "      <td>F</td>\n",
       "      <td>93</td>\n",
       "      <td>1953-10-12</td>\n",
       "      <td>Executive Secretary</td>\n",
       "      <td>Health</td>\n",
       "      <td>Mass Customer</td>\n",
       "      <td>N</td>\n",
       "      <td>\"'</td>\n",
       "      <td>Yes</td>\n",
       "      <td>11.0</td>\n",
       "    </tr>\n",
       "    <tr>\n",
       "      <th>1</th>\n",
       "      <td>2</td>\n",
       "      <td>Eli</td>\n",
       "      <td>Bockman</td>\n",
       "      <td>Male</td>\n",
       "      <td>81</td>\n",
       "      <td>1980-12-16</td>\n",
       "      <td>Administrative Officer</td>\n",
       "      <td>Financial Services</td>\n",
       "      <td>Mass Customer</td>\n",
       "      <td>N</td>\n",
       "      <td>&lt;script&gt;alert('hi')&lt;/script&gt;</td>\n",
       "      <td>Yes</td>\n",
       "      <td>16.0</td>\n",
       "    </tr>\n",
       "    <tr>\n",
       "      <th>2</th>\n",
       "      <td>3</td>\n",
       "      <td>Arlin</td>\n",
       "      <td>Dearle</td>\n",
       "      <td>Male</td>\n",
       "      <td>61</td>\n",
       "      <td>1954-01-20</td>\n",
       "      <td>Recruiting Manager</td>\n",
       "      <td>Property</td>\n",
       "      <td>Mass Customer</td>\n",
       "      <td>N</td>\n",
       "      <td>2018-02-01 00:00:00</td>\n",
       "      <td>Yes</td>\n",
       "      <td>15.0</td>\n",
       "    </tr>\n",
       "    <tr>\n",
       "      <th>3</th>\n",
       "      <td>4</td>\n",
       "      <td>Talbot</td>\n",
       "      <td>NaN</td>\n",
       "      <td>Male</td>\n",
       "      <td>33</td>\n",
       "      <td>1961-10-03</td>\n",
       "      <td>NaN</td>\n",
       "      <td>IT</td>\n",
       "      <td>Mass Customer</td>\n",
       "      <td>N</td>\n",
       "      <td>() { _; } &gt;_[$($())] { touch /tmp/blns.shellsh...</td>\n",
       "      <td>No</td>\n",
       "      <td>7.0</td>\n",
       "    </tr>\n",
       "    <tr>\n",
       "      <th>4</th>\n",
       "      <td>5</td>\n",
       "      <td>Sheila-kathryn</td>\n",
       "      <td>Calton</td>\n",
       "      <td>Female</td>\n",
       "      <td>56</td>\n",
       "      <td>1977-05-13</td>\n",
       "      <td>Senior Editor</td>\n",
       "      <td>NaN</td>\n",
       "      <td>Affluent Customer</td>\n",
       "      <td>N</td>\n",
       "      <td>NIL</td>\n",
       "      <td>Yes</td>\n",
       "      <td>8.0</td>\n",
       "    </tr>\n",
       "  </tbody>\n",
       "</table>\n",
       "</div>"
      ],
      "text/plain": [
       "   customer_id      first_name  last_name  gender  \\\n",
       "0            1         Laraine  Medendorp       F   \n",
       "1            2             Eli    Bockman    Male   \n",
       "2            3           Arlin     Dearle    Male   \n",
       "3            4          Talbot        NaN    Male   \n",
       "4            5  Sheila-kathryn     Calton  Female   \n",
       "\n",
       "   past_3_years_bike_related_purchases        DOB               job_title  \\\n",
       "0                                   93 1953-10-12     Executive Secretary   \n",
       "1                                   81 1980-12-16  Administrative Officer   \n",
       "2                                   61 1954-01-20      Recruiting Manager   \n",
       "3                                   33 1961-10-03                     NaN   \n",
       "4                                   56 1977-05-13           Senior Editor   \n",
       "\n",
       "  job_industry_category     wealth_segment deceased_indicator  \\\n",
       "0                Health      Mass Customer                  N   \n",
       "1    Financial Services      Mass Customer                  N   \n",
       "2              Property      Mass Customer                  N   \n",
       "3                    IT      Mass Customer                  N   \n",
       "4                   NaN  Affluent Customer                  N   \n",
       "\n",
       "                                             default owns_car  tenure  \n",
       "0                                                 \"'      Yes    11.0  \n",
       "1                       <script>alert('hi')</script>      Yes    16.0  \n",
       "2                                2018-02-01 00:00:00      Yes    15.0  \n",
       "3  () { _; } >_[$($())] { touch /tmp/blns.shellsh...       No     7.0  \n",
       "4                                                NIL      Yes     8.0  "
      ]
     },
     "execution_count": 6,
     "metadata": {},
     "output_type": "execute_result"
    }
   ],
   "source": [
    "df_demograph.head()"
   ]
  },
  {
   "cell_type": "code",
   "execution_count": 35,
   "id": "edc7e507",
   "metadata": {
    "ExecuteTime": {
     "end_time": "2022-08-19T01:24:11.904318Z",
     "start_time": "2022-08-19T01:24:11.895350Z"
    }
   },
   "outputs": [
    {
     "data": {
      "text/plain": [
       "((4000, 15), (1000, 25))"
      ]
     },
     "execution_count": 35,
     "metadata": {},
     "output_type": "execute_result"
    }
   ],
   "source": [
    "df_demograph.shape, df_cust.shape"
   ]
  },
  {
   "cell_type": "markdown",
   "id": "2de42724",
   "metadata": {},
   "source": [
    "## Feature Engineering"
   ]
  },
  {
   "cell_type": "markdown",
   "id": "b7960203",
   "metadata": {},
   "source": [
    "### `Age`"
   ]
  },
  {
   "cell_type": "code",
   "execution_count": 8,
   "id": "4d0a4e98",
   "metadata": {
    "ExecuteTime": {
     "end_time": "2022-08-19T01:09:49.243371Z",
     "start_time": "2022-08-19T01:09:49.233923Z"
    }
   },
   "outputs": [
    {
     "data": {
      "text/plain": [
       "datetime.datetime(2022, 8, 17, 0, 0)"
      ]
     },
     "execution_count": 8,
     "metadata": {},
     "output_type": "execute_result"
    }
   ],
   "source": [
    "# import library datetime for feature extraction\n",
    "import datetime\n",
    "reference_date=datetime.datetime(2022,8,17)\n",
    "reference_date"
   ]
  },
  {
   "cell_type": "code",
   "execution_count": 85,
   "id": "1d3f0ed1",
   "metadata": {
    "ExecuteTime": {
     "end_time": "2022-08-19T01:59:17.715310Z",
     "start_time": "2022-08-19T01:59:17.703529Z"
    }
   },
   "outputs": [],
   "source": [
    "df_demograph['Age'] = (reference_date - df_demograph['DOB']).astype('timedelta64[Y]')\n",
    "df_cust['Age'] = (reference_date - df_cust['DOB']).astype('timedelta64[Y]')"
   ]
  },
  {
   "cell_type": "markdown",
   "id": "0844a57b",
   "metadata": {},
   "source": [
    "### `Gender`"
   ]
  },
  {
   "cell_type": "code",
   "execution_count": 81,
   "id": "5f9fc821",
   "metadata": {
    "ExecuteTime": {
     "end_time": "2022-08-19T01:57:34.139086Z",
     "start_time": "2022-08-19T01:57:34.129137Z"
    }
   },
   "outputs": [
    {
     "data": {
      "text/plain": [
       "Female    2037\n",
       "Male      1872\n",
       "U           88\n",
       "F            1\n",
       "Femal        1\n",
       "M            1\n",
       "Name: gender, dtype: int64"
      ]
     },
     "execution_count": 81,
     "metadata": {},
     "output_type": "execute_result"
    }
   ],
   "source": [
    "df_demograph['gender'].value_counts()"
   ]
  },
  {
   "cell_type": "code",
   "execution_count": 86,
   "id": "a4e9e7e1",
   "metadata": {
    "ExecuteTime": {
     "end_time": "2022-08-19T01:59:50.338279Z",
     "start_time": "2022-08-19T01:59:50.317061Z"
    }
   },
   "outputs": [
    {
     "data": {
      "text/plain": [
       "Female    2127\n",
       "Male      1873\n",
       "Name: gender_fe, dtype: int64"
      ]
     },
     "execution_count": 86,
     "metadata": {},
     "output_type": "execute_result"
    }
   ],
   "source": [
    "df_demograph['gender_fe'] = df_demograph['gender'].map({'M':'Male',\n",
    "                                                     'U':'Female',\n",
    "                                                     'Femal':'Female',\n",
    "                                                     'F':'Female',\n",
    "                                                     'Female':'Female',\n",
    "                                                     'Male':'Male'})\n",
    "\n",
    "df_demograph['gender_fe'].value_counts()"
   ]
  },
  {
   "cell_type": "code",
   "execution_count": 87,
   "id": "5cc5954a",
   "metadata": {
    "ExecuteTime": {
     "end_time": "2022-08-19T01:59:58.676718Z",
     "start_time": "2022-08-19T01:59:58.665498Z"
    }
   },
   "outputs": [
    {
     "data": {
      "text/plain": [
       "Female    513\n",
       "Male      470\n",
       "U          17\n",
       "Name: gender, dtype: int64"
      ]
     },
     "execution_count": 87,
     "metadata": {},
     "output_type": "execute_result"
    }
   ],
   "source": [
    "df_cust['gender'].value_counts()"
   ]
  },
  {
   "cell_type": "code",
   "execution_count": 88,
   "id": "9f3efda4",
   "metadata": {
    "ExecuteTime": {
     "end_time": "2022-08-19T02:00:46.971284Z",
     "start_time": "2022-08-19T02:00:46.958421Z"
    }
   },
   "outputs": [
    {
     "data": {
      "text/plain": [
       "Female    530\n",
       "Male      470\n",
       "Name: gender_fe, dtype: int64"
      ]
     },
     "execution_count": 88,
     "metadata": {},
     "output_type": "execute_result"
    }
   ],
   "source": [
    "df_cust['gender_fe'] = df_cust['gender'].map({'Female':'Female',\n",
    "                                           'Male':'Male',\n",
    "                                           'U':'Female'})\n",
    "\n",
    "df_cust['gender_fe'].value_counts()"
   ]
  },
  {
   "cell_type": "markdown",
   "id": "65e67c8d",
   "metadata": {},
   "source": [
    "## Univariate Analysis"
   ]
  },
  {
   "cell_type": "markdown",
   "id": "bf46f32f",
   "metadata": {},
   "source": [
    "### `Age`"
   ]
  },
  {
   "cell_type": "code",
   "execution_count": 22,
   "id": "ca695250",
   "metadata": {
    "ExecuteTime": {
     "end_time": "2022-08-19T01:17:08.953354Z",
     "start_time": "2022-08-19T01:17:08.593368Z"
    }
   },
   "outputs": [
    {
     "data": {
      "text/plain": [
       "<AxesSubplot:xlabel='Age', ylabel='Density'>"
      ]
     },
     "execution_count": 22,
     "metadata": {},
     "output_type": "execute_result"
    },
    {
     "data": {
      "image/png": "[encoded data removed]",
      "text/plain": [
       "<Figure size 576x288 with 2 Axes>"
      ]
     },
     "metadata": {
      "needs_background": "light"
     },
     "output_type": "display_data"
    }
   ],
   "source": [
    "fig, axes = plt.subplots(1,2,figsize=(8,4))\n",
    "sns.kdeplot(df_demograph['Age'], ax=axes[0])\n",
    "sns.kdeplot(df_cust['Age'], ax=axes[1])"
   ]
  },
  {
   "cell_type": "code",
   "execution_count": 33,
   "id": "8b512980",
   "metadata": {
    "ExecuteTime": {
     "end_time": "2022-08-19T01:22:02.355978Z",
     "start_time": "2022-08-19T01:22:02.261921Z"
    }
   },
   "outputs": [
    {
     "data": {
      "text/plain": [
       "count    983.000000\n",
       "mean      50.806714\n",
       "std       17.063834\n",
       "min       20.000000\n",
       "25%       39.000000\n",
       "50%       50.000000\n",
       "75%       64.000000\n",
       "max       84.000000\n",
       "Name: Age, dtype: float64"
      ]
     },
     "execution_count": 33,
     "metadata": {},
     "output_type": "execute_result"
    }
   ],
   "source": [
    "df_cust['Age'].describe()"
   ]
  },
  {
   "cell_type": "code",
   "execution_count": 90,
   "id": "dc333be1",
   "metadata": {
    "ExecuteTime": {
     "end_time": "2022-08-19T02:01:11.175896Z",
     "start_time": "2022-08-19T02:01:11.145108Z"
    }
   },
   "outputs": [
    {
     "data": {
      "text/plain": [
       "Pre-Retirement      1015\n",
       "Middle Age          1007\n",
       "Early Worker Age     938\n",
       "Retirement           701\n",
       "Elderly              339\n",
       "Name: Age_Bin, dtype: int64"
      ]
     },
     "execution_count": 90,
     "metadata": {},
     "output_type": "execute_result"
    }
   ],
   "source": [
    "df_demograph['Age_Bin'] = np.where((df_demograph['Age']>=0)&(df_demograph['Age']<=34),'Early Worker Age',\n",
    "                          np.where((df_demograph['Age']>34)&(df_demograph['Age']<=44),'Middle Age',\n",
    "                          np.where((df_demograph['Age']>44)&(df_demograph['Age']<=54),'Pre-Retirement',\n",
    "                          np.where((df_demograph['Age']>54)&(df_demograph['Age']<=64),'Retirement','Elderly'))))\n",
    "\n",
    "df_demograph['Age_Bin'].value_counts()"
   ]
  },
  {
   "cell_type": "code",
   "execution_count": 91,
   "id": "bfebb390",
   "metadata": {
    "ExecuteTime": {
     "end_time": "2022-08-19T02:01:12.737531Z",
     "start_time": "2022-08-19T02:01:12.719111Z"
    }
   },
   "outputs": [
    {
     "data": {
      "text/plain": [
       "Elderly             260\n",
       "Early Worker Age    215\n",
       "Pre-Retirement      203\n",
       "Retirement          180\n",
       "Middle Age          142\n",
       "Name: Age_Bin, dtype: int64"
      ]
     },
     "execution_count": 91,
     "metadata": {},
     "output_type": "execute_result"
    }
   ],
   "source": [
    "df_cust['Age_Bin'] = np.where((df_cust['Age']>=0)&(df_cust['Age']<=34),'Early Worker Age',\n",
    "                     np.where((df_cust['Age']>34)&(df_cust['Age']<=44),'Middle Age',\n",
    "                     np.where((df_cust['Age']>44)&(df_cust['Age']<=54),'Pre-Retirement',\n",
    "                     np.where((df_cust['Age']>54)&(df_cust['Age']<=64),'Retirement','Elderly'))))\n",
    "\n",
    "df_cust['Age_Bin'].value_counts()"
   ]
  },
  {
   "cell_type": "code",
   "execution_count": 105,
   "id": "b82c683c",
   "metadata": {
    "ExecuteTime": {
     "end_time": "2022-08-19T02:19:23.834690Z",
     "start_time": "2022-08-19T02:19:21.952583Z"
    }
   },
   "outputs": [
    {
     "name": "stderr",
     "output_type": "stream",
     "text": [
      "/opt/anaconda3/lib/python3.9/site-packages/seaborn/_decorators.py:36: FutureWarning: Pass the following variable as a keyword arg: x. From version 0.12, the only valid positional argument will be `data`, and passing other arguments without an explicit keyword will result in an error or misinterpretation.\n",
      "  warnings.warn(\n",
      "/opt/anaconda3/lib/python3.9/site-packages/seaborn/_decorators.py:36: FutureWarning: Pass the following variable as a keyword arg: x. From version 0.12, the only valid positional argument will be `data`, and passing other arguments without an explicit keyword will result in an error or misinterpretation.\n",
      "  warnings.warn(\n"
     ]
    },
    {
     "data": {
      "image/png": "[encoded data removed]",
      "text/plain": [
       "<Figure size 1080x360 with 2 Axes>"
      ]
     },
     "metadata": {
      "needs_background": "light"
     },
     "output_type": "display_data"
    }
   ],
   "source": [
    "pal = ['#c3a995', '#ab947e', '#6f5e53', '#8a7968', '#593d3b']\n",
    "order_list = ['Early Worker Age','Middle Age','Pre-Retirement','Retirement','Elderly']\n",
    "\n",
    "fig, axes = plt.subplots(1,2,figsize=(15,5))\n",
    "sns.countplot(df_demograph['Age_Bin'], ax=axes[0], order=order_list, palette=pal)\n",
    "axes[0].set_title('Old Customers', fontsize = 16)\n",
    "sns.countplot(df_cust['Age_Bin'], ax=axes[1], order=order_list, palette=pal)\n",
    "axes[1].set_title('New Customers', fontsize = 16)\n",
    "\n",
    "#plt.savefig('figure1.png', dpi=500, bbox_inches='tight', pad_inches=0.2, transparent=True)"
   ]
  },
  {
   "cell_type": "code",
   "execution_count": 108,
   "id": "952fd03d",
   "metadata": {
    "ExecuteTime": {
     "end_time": "2022-08-19T02:30:03.881662Z",
     "start_time": "2022-08-19T02:30:02.985045Z"
    }
   },
   "outputs": [
    {
     "data": {
      "text/plain": [
       "Text(0.5, 1.0, 'New Customers')"
      ]
     },
     "execution_count": 108,
     "metadata": {},
     "output_type": "execute_result"
    },
    {
     "data": {
      "image/png": "[encoded data removed]",
      "text/plain": [
       "<Figure size 1080x360 with 2 Axes>"
      ]
     },
     "metadata": {
      "needs_background": "light"
     },
     "output_type": "display_data"
    }
   ],
   "source": [
    "pal = ['#c3a995', '#ab947e', '#6f5e53', '#8a7968', '#593d3b']\n",
    "order_list = ['Early Worker Age','Middle Age','Pre-Retirement','Retirement','Elderly']\n",
    "\n",
    "fig, axes = plt.subplots(1,2,figsize=(15,5))\n",
    "sns.barplot(x=df_demograph['Age_Bin'], y=df_demograph['past_3_years_bike_related_purchases'], ax=axes[0], order=order_list, palette=pal)\n",
    "axes[0].set_title('Old Customers', fontsize = 16)\n",
    "sns.barplot(x=df_cust['Age_Bin'], y=df_cust['past_3_years_bike_related_purchases'], ax=axes[1], order=order_list, palette=pal)\n",
    "axes[1].set_title('New Customers', fontsize = 16)\n",
    "\n",
    "#plt.savefig('figure1.png', dpi=500, bbox_inches='tight', pad_inches=0.2, transparent=True)"
   ]
  },
  {
   "cell_type": "code",
   "execution_count": 107,
   "id": "3d02c61d",
   "metadata": {
    "ExecuteTime": {
     "end_time": "2022-08-19T02:26:39.739274Z",
     "start_time": "2022-08-19T02:26:39.007867Z"
    }
   },
   "outputs": [
    {
     "data": {
      "image/png": "[encoded data removed]",
      "text/plain": [
       "<Figure size 576x288 with 1 Axes>"
      ]
     },
     "metadata": {
      "needs_background": "light"
     },
     "output_type": "display_data"
    }
   ],
   "source": [
    "order_list = ['Early Worker Age','Middle Age','Pre-Retirement','Retirement','Elderly']\n",
    "plt.figure(figsize=(8,4))\n",
    "sns.barplot(x=df_cust['Age_Bin'], y=df_cust['Value'], palette=pal, ci=None, order=order_list)\n",
    "plt.title('New Customers', fontsize=15)\n",
    "\n",
    "#plt.savefig('figure2.png', dpi=500, bbox_inches='tight', pad_inches=0.2, transparent=True)"
   ]
  },
  {
   "cell_type": "markdown",
   "id": "638d407b",
   "metadata": {},
   "source": [
    "### `wealth_segment`"
   ]
  },
  {
   "cell_type": "code",
   "execution_count": 119,
   "id": "c499e360",
   "metadata": {
    "ExecuteTime": {
     "end_time": "2022-08-19T02:51:47.847388Z",
     "start_time": "2022-08-19T02:51:45.773766Z"
    }
   },
   "outputs": [
    {
     "data": {
      "image/png": "[encoded data removed]",
      "text/plain": [
       "<Figure size 720x360 with 2 Axes>"
      ]
     },
     "metadata": {
      "needs_background": "light"
     },
     "output_type": "display_data"
    }
   ],
   "source": [
    "fig, axes = plt.subplots(1,2,figsize=(10,5))\n",
    "sns.countplot(y='wealth_segment', data=df_demograph, palette=pal,ax=axes[0])\n",
    "sns.countplot(y='wealth_segment', data=df_cust,  palette=pal, ax=axes[1])\n",
    "\n",
    "axes[0].set_title('Old Customers', fontsize=15)\n",
    "axes[1].set_title('New Customers', fontsize=15)\n",
    "\n",
    "plt.tight_layout()\n",
    "\n",
    "#plt.savefig('figure2.png', dpi=500, bbox_inches='tight', pad_inches=0.2, transparent=True)"
   ]
  },
  {
   "cell_type": "markdown",
   "id": "23cc5ed2",
   "metadata": {},
   "source": [
    "### `job_industry_category`"
   ]
  },
  {
   "cell_type": "code",
   "execution_count": 123,
   "id": "59f6e681",
   "metadata": {
    "ExecuteTime": {
     "end_time": "2022-08-19T02:54:40.144068Z",
     "start_time": "2022-08-19T02:54:39.283186Z"
    }
   },
   "outputs": [
    {
     "data": {
      "image/png": "[encoded data removed]",
      "text/plain": [
       "<Figure size 432x288 with 1 Axes>"
      ]
     },
     "metadata": {
      "needs_background": "light"
     },
     "output_type": "display_data"
    }
   ],
   "source": [
    "sns.barplot(y='job_industry_category', x='Value', palette=pal, ci=None, data=df_cust)\n",
    "plt.title('Industry Category by Value', fontsize=15)\n",
    "\n",
    "#plt.savefig('figure3.png', dpi=500, bbox_inches='tight', pad_inches=0.2, transparent=True)"
   ]
  },
  {
   "cell_type": "code",
   "execution_count": 100,
   "id": "b5820792",
   "metadata": {
    "ExecuteTime": {
     "end_time": "2022-08-19T02:04:36.845144Z",
     "start_time": "2022-08-19T02:04:36.836802Z"
    }
   },
   "outputs": [
    {
     "data": {
      "text/plain": [
       "array(['Manufacturing', 'Property', 'Financial Services', 'Entertainment',\n",
       "       'Retail', 'IT', 'Telecommunications', 'Health', nan, 'Argiculture'],\n",
       "      dtype=object)"
      ]
     },
     "execution_count": 100,
     "metadata": {},
     "output_type": "execute_result"
    }
   ],
   "source": [
    "df_cust['job_industry_category'].unique()"
   ]
  },
  {
   "cell_type": "code",
   "execution_count": 101,
   "id": "26a1affd",
   "metadata": {
    "ExecuteTime": {
     "end_time": "2022-08-19T02:05:16.168274Z",
     "start_time": "2022-08-19T02:05:15.304804Z"
    }
   },
   "outputs": [
    {
     "data": {
      "image/png": "[encoded data removed]",
      "text/plain": [
       "<Figure size 1224x360 with 2 Axes>"
      ]
     },
     "metadata": {
      "needs_background": "light"
     },
     "output_type": "display_data"
    }
   ],
   "source": [
    "order_list = ['Manufacturing', 'Property', 'Financial Services', 'Entertainment',\n",
    "              'Retail', 'IT', 'Telecommunications', 'Health', 'Argiculture']\n",
    "\n",
    "fig, axes = plt.subplots(1,2,figsize=(17,5))\n",
    "sns.countplot(y='job_industry_category', data=df_demograph, palette='viridis',ax=axes[0], order=order_list)\n",
    "sns.countplot(y='job_industry_category', data=df_cust,  palette='viridis', ax=axes[1], order=order_list)\n",
    "\n",
    "axes[0].set_title('Old Customers', fontsize=15)\n",
    "axes[1].set_title('New Customers', fontsize=15)\n",
    "\n",
    "plt.tight_layout()"
   ]
  },
  {
   "cell_type": "markdown",
   "id": "44efe073",
   "metadata": {},
   "source": [
    "### `Gender`"
   ]
  },
  {
   "cell_type": "code",
   "execution_count": 125,
   "id": "adb7e0a3",
   "metadata": {
    "ExecuteTime": {
     "end_time": "2022-08-19T02:59:51.886324Z",
     "start_time": "2022-08-19T02:59:50.084913Z"
    }
   },
   "outputs": [
    {
     "name": "stderr",
     "output_type": "stream",
     "text": [
      "/opt/anaconda3/lib/python3.9/site-packages/seaborn/_decorators.py:36: FutureWarning: Pass the following variable as a keyword arg: x. From version 0.12, the only valid positional argument will be `data`, and passing other arguments without an explicit keyword will result in an error or misinterpretation.\n",
      "  warnings.warn(\n",
      "/opt/anaconda3/lib/python3.9/site-packages/seaborn/_decorators.py:36: FutureWarning: Pass the following variable as a keyword arg: x. From version 0.12, the only valid positional argument will be `data`, and passing other arguments without an explicit keyword will result in an error or misinterpretation.\n",
      "  warnings.warn(\n"
     ]
    },
    {
     "data": {
      "image/png": "[encoded data removed]",
      "text/plain": [
       "<Figure size 1080x360 with 2 Axes>"
      ]
     },
     "metadata": {
      "needs_background": "light"
     },
     "output_type": "display_data"
    }
   ],
   "source": [
    "order_list = ['Early Worker Age','Middle Age','Pre-Retirement','Retirement','Elderly']\n",
    "\n",
    "fig, axes = plt.subplots(1,2,figsize=(15,5))\n",
    "sns.countplot(df_demograph['Age_Bin'], ax=axes[0], order=order_list, palette=pal, hue=df_demograph['gender_fe'])\n",
    "axes[0].set_title('Old Customers', fontsize = 16)\n",
    "sns.countplot(df_cust['Age_Bin'], ax=axes[1], order=order_list, palette=pal, hue=df_cust['gender_fe'])\n",
    "axes[1].set_title('New Customers', fontsize = 16)\n",
    "\n",
    "#plt.savefig('figure4.png', dpi=500, bbox_inches='tight', pad_inches=0.2, transparent=True)"
   ]
  },
  {
   "cell_type": "code",
   "execution_count": null,
   "id": "8b982979",
   "metadata": {},
   "outputs": [],
   "source": []
  },
  {
   "cell_type": "code",
   "execution_count": null,
   "id": "bfd69560",
   "metadata": {},
   "outputs": [],
   "source": []
  },
  {
   "cell_type": "code",
   "execution_count": null,
   "id": "663192b4",
   "metadata": {},
   "outputs": [],
   "source": []
  },
  {
   "cell_type": "code",
   "execution_count": null,
   "id": "f8e3b639",
   "metadata": {},
   "outputs": [],
   "source": []
  }
 ],
 "metadata": {
  "kernelspec": {
   "display_name": "Python 3 (ipykernel)",
   "language": "python",
   "name": "python3"
  },
  "language_info": {
   "codemirror_mode": {
    "name": "ipython",
    "version": 3
   },
   "file_extension": ".py",
   "mimetype": "text/x-python",
   "name": "python",
   "nbconvert_exporter": "python",
   "pygments_lexer": "ipython3",
   "version": "3.9.7"
  },
  "toc": {
   "base_numbering": 1,
   "nav_menu": {},
   "number_sections": true,
   "sideBar": true,
   "skip_h1_title": false,
   "title_cell": "Table of Contents",
   "title_sidebar": "Contents",
   "toc_cell": false,
   "toc_position": {},
   "toc_section_display": true,
   "toc_window_display": true
  }
 },
 "nbformat": 4,
 "nbformat_minor": 5
}
