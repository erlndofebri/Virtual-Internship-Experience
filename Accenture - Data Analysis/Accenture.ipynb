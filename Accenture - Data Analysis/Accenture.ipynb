{
 "cells": [
  {
   "cell_type": "markdown",
   "id": "bed74d49",
   "metadata": {},
   "source": [
    "# Import Libraries"
   ]
  },
  {
   "cell_type": "code",
   "execution_count": 1,
   "id": "4e5d8044",
   "metadata": {
    "ExecuteTime": {
     "end_time": "2022-08-20T22:06:52.698160Z",
     "start_time": "2022-08-20T22:06:46.776147Z"
    }
   },
   "outputs": [],
   "source": [
    "import pandas as pd\n",
    "import seaborn as sns\n",
    "import matplotlib.pyplot as plt\n",
    "import numpy as np\n",
    "\n",
    "pd.set_option('max_columns', 150)"
   ]
  },
  {
   "cell_type": "markdown",
   "id": "6d579194",
   "metadata": {},
   "source": [
    "# Dataset Overview"
   ]
  },
  {
   "cell_type": "code",
   "execution_count": 77,
   "id": "d7e3310b",
   "metadata": {
    "ExecuteTime": {
     "end_time": "2022-08-20T22:49:20.654027Z",
     "start_time": "2022-08-20T22:49:20.641854Z"
    }
   },
   "outputs": [],
   "source": [
    "def information(df):\n",
    "    list_item = []\n",
    "    column = df.columns\n",
    "    for col in column:\n",
    "        list_item.append([col, df[col].dtype, df[col].isna().sum(), 100*df[col].isna().sum()/len(df[col]), df[col].nunique(), df[col].unique()[:4]])\n",
    "        desc_df = pd.DataFrame(data=list_item, columns='feature data_type null_num null_pct unique_num unique_sample'.split())\n",
    "    return desc_df"
   ]
  },
  {
   "cell_type": "code",
   "execution_count": 2,
   "id": "1e774a04",
   "metadata": {
    "ExecuteTime": {
     "end_time": "2022-08-20T22:06:52.951809Z",
     "start_time": "2022-08-20T22:06:52.735124Z"
    }
   },
   "outputs": [],
   "source": [
    "content = pd.read_csv('Content.csv', index_col=0)\n",
    "location = pd.read_csv('Location.csv', index_col=0)\n",
    "profile = pd.read_csv('Profile.csv', index_col=0)\n",
    "reaction = pd.read_csv('Reactions.csv', index_col=0)\n",
    "reaction_types = pd.read_csv('ReactionTypes.csv', index_col=0)\n",
    "session = pd.read_csv('Session.csv', index_col=0)\n",
    "user = pd.read_csv('User.csv', index_col=0)"
   ]
  },
  {
   "cell_type": "markdown",
   "id": "2fd18ab0",
   "metadata": {},
   "source": [
    "## Content"
   ]
  },
  {
   "cell_type": "code",
   "execution_count": 22,
   "id": "9132c764",
   "metadata": {
    "ExecuteTime": {
     "end_time": "2022-08-20T18:59:27.433433Z",
     "start_time": "2022-08-20T18:59:27.384279Z"
    }
   },
   "outputs": [
    {
     "data": {
      "text/html": [
       "<div>\n",
       "<style scoped>\n",
       "    .dataframe tbody tr th:only-of-type {\n",
       "        vertical-align: middle;\n",
       "    }\n",
       "\n",
       "    .dataframe tbody tr th {\n",
       "        vertical-align: top;\n",
       "    }\n",
       "\n",
       "    .dataframe thead th {\n",
       "        text-align: right;\n",
       "    }\n",
       "</style>\n",
       "<table border=\"1\" class=\"dataframe\">\n",
       "  <thead>\n",
       "    <tr style=\"text-align: right;\">\n",
       "      <th></th>\n",
       "      <th>feature</th>\n",
       "      <th>data_type</th>\n",
       "      <th>null_num</th>\n",
       "      <th>null_pct</th>\n",
       "      <th>unique_num</th>\n",
       "      <th>unique_sample</th>\n",
       "    </tr>\n",
       "  </thead>\n",
       "  <tbody>\n",
       "    <tr>\n",
       "      <th>0</th>\n",
       "      <td>Content ID</td>\n",
       "      <td>object</td>\n",
       "      <td>0</td>\n",
       "      <td>0.0</td>\n",
       "      <td>1000</td>\n",
       "      <td>[97522e57-d9ab-4bd6-97bf-c24d952602d2, 9f737e0...</td>\n",
       "    </tr>\n",
       "    <tr>\n",
       "      <th>1</th>\n",
       "      <td>User ID</td>\n",
       "      <td>object</td>\n",
       "      <td>0</td>\n",
       "      <td>0.0</td>\n",
       "      <td>446</td>\n",
       "      <td>[8d3cd87d-8a31-4935-9a4f-b319bfe05f31, beb1f34...</td>\n",
       "    </tr>\n",
       "    <tr>\n",
       "      <th>2</th>\n",
       "      <td>Type</td>\n",
       "      <td>object</td>\n",
       "      <td>0</td>\n",
       "      <td>0.0</td>\n",
       "      <td>4</td>\n",
       "      <td>[photo, video, GIF, audio]</td>\n",
       "    </tr>\n",
       "    <tr>\n",
       "      <th>3</th>\n",
       "      <td>Category</td>\n",
       "      <td>object</td>\n",
       "      <td>0</td>\n",
       "      <td>0.0</td>\n",
       "      <td>41</td>\n",
       "      <td>[Studying, healthy eating, technology, food]</td>\n",
       "    </tr>\n",
       "    <tr>\n",
       "      <th>4</th>\n",
       "      <td>URL</td>\n",
       "      <td>object</td>\n",
       "      <td>199</td>\n",
       "      <td>19.9</td>\n",
       "      <td>801</td>\n",
       "      <td>[https://socialbuzz.cdn.com/content/storage/97...</td>\n",
       "    </tr>\n",
       "  </tbody>\n",
       "</table>\n",
       "</div>"
      ],
      "text/plain": [
       "      feature data_type  null_num  null_pct  unique_num  \\\n",
       "0  Content ID    object         0       0.0        1000   \n",
       "1     User ID    object         0       0.0         446   \n",
       "2        Type    object         0       0.0           4   \n",
       "3    Category    object         0       0.0          41   \n",
       "4         URL    object       199      19.9         801   \n",
       "\n",
       "                                       unique_sample  \n",
       "0  [97522e57-d9ab-4bd6-97bf-c24d952602d2, 9f737e0...  \n",
       "1  [8d3cd87d-8a31-4935-9a4f-b319bfe05f31, beb1f34...  \n",
       "2                         [photo, video, GIF, audio]  \n",
       "3       [Studying, healthy eating, technology, food]  \n",
       "4  [https://socialbuzz.cdn.com/content/storage/97...  "
      ]
     },
     "execution_count": 22,
     "metadata": {},
     "output_type": "execute_result"
    }
   ],
   "source": [
    "information(content)"
   ]
  },
  {
   "cell_type": "code",
   "execution_count": 26,
   "id": "8d8d6d2c",
   "metadata": {
    "ExecuteTime": {
     "end_time": "2022-08-20T19:01:18.316278Z",
     "start_time": "2022-08-20T19:01:18.308709Z"
    }
   },
   "outputs": [
    {
     "data": {
      "text/plain": [
       "(1000, 5)"
      ]
     },
     "execution_count": 26,
     "metadata": {},
     "output_type": "execute_result"
    }
   ],
   "source": [
    "content.shape"
   ]
  },
  {
   "cell_type": "code",
   "execution_count": 3,
   "id": "2b7cd799",
   "metadata": {
    "ExecuteTime": {
     "end_time": "2022-08-20T22:07:05.060923Z",
     "start_time": "2022-08-20T22:07:05.038395Z"
    }
   },
   "outputs": [
    {
     "data": {
      "text/plain": [
       "Content ID    0\n",
       "User ID       0\n",
       "Type          0\n",
       "Category      0\n",
       "URL           0\n",
       "dtype: int64"
      ]
     },
     "execution_count": 3,
     "metadata": {},
     "output_type": "execute_result"
    }
   ],
   "source": [
    "content['URL'] = content['URL'].fillna('missing')\n",
    "content.isna().sum()"
   ]
  },
  {
   "cell_type": "markdown",
   "id": "428f04b7",
   "metadata": {},
   "source": [
    "## Location"
   ]
  },
  {
   "cell_type": "code",
   "execution_count": 27,
   "id": "19be46f7",
   "metadata": {
    "ExecuteTime": {
     "end_time": "2022-08-20T19:01:33.528062Z",
     "start_time": "2022-08-20T19:01:33.486280Z"
    }
   },
   "outputs": [
    {
     "data": {
      "text/html": [
       "<div>\n",
       "<style scoped>\n",
       "    .dataframe tbody tr th:only-of-type {\n",
       "        vertical-align: middle;\n",
       "    }\n",
       "\n",
       "    .dataframe tbody tr th {\n",
       "        vertical-align: top;\n",
       "    }\n",
       "\n",
       "    .dataframe thead th {\n",
       "        text-align: right;\n",
       "    }\n",
       "</style>\n",
       "<table border=\"1\" class=\"dataframe\">\n",
       "  <thead>\n",
       "    <tr style=\"text-align: right;\">\n",
       "      <th></th>\n",
       "      <th>feature</th>\n",
       "      <th>data_type</th>\n",
       "      <th>null_num</th>\n",
       "      <th>null_pct</th>\n",
       "      <th>unique_num</th>\n",
       "      <th>unique_sample</th>\n",
       "    </tr>\n",
       "  </thead>\n",
       "  <tbody>\n",
       "    <tr>\n",
       "      <th>0</th>\n",
       "      <td>User ID</td>\n",
       "      <td>object</td>\n",
       "      <td>0</td>\n",
       "      <td>0.0</td>\n",
       "      <td>500</td>\n",
       "      <td>[4c731e48-0377-4d7d-b4c8-b2174b774ed8, 95258c3...</td>\n",
       "    </tr>\n",
       "    <tr>\n",
       "      <th>1</th>\n",
       "      <td>Address</td>\n",
       "      <td>object</td>\n",
       "      <td>0</td>\n",
       "      <td>0.0</td>\n",
       "      <td>500</td>\n",
       "      <td>[6208 Wright Mountains\\nBryantfurt, AR 02531, ...</td>\n",
       "    </tr>\n",
       "  </tbody>\n",
       "</table>\n",
       "</div>"
      ],
      "text/plain": [
       "   feature data_type  null_num  null_pct  unique_num  \\\n",
       "0  User ID    object         0       0.0         500   \n",
       "1  Address    object         0       0.0         500   \n",
       "\n",
       "                                       unique_sample  \n",
       "0  [4c731e48-0377-4d7d-b4c8-b2174b774ed8, 95258c3...  \n",
       "1  [6208 Wright Mountains\\nBryantfurt, AR 02531, ...  "
      ]
     },
     "execution_count": 27,
     "metadata": {},
     "output_type": "execute_result"
    }
   ],
   "source": [
    "information(location)"
   ]
  },
  {
   "cell_type": "code",
   "execution_count": 29,
   "id": "c7cd45e4",
   "metadata": {
    "ExecuteTime": {
     "end_time": "2022-08-20T19:01:43.749609Z",
     "start_time": "2022-08-20T19:01:43.739696Z"
    }
   },
   "outputs": [
    {
     "data": {
      "text/plain": [
       "(500, 2)"
      ]
     },
     "execution_count": 29,
     "metadata": {},
     "output_type": "execute_result"
    }
   ],
   "source": [
    "location.shape"
   ]
  },
  {
   "cell_type": "markdown",
   "id": "61e69839",
   "metadata": {},
   "source": [
    "## Profile"
   ]
  },
  {
   "cell_type": "code",
   "execution_count": 30,
   "id": "d95e4a8e",
   "metadata": {
    "ExecuteTime": {
     "end_time": "2022-08-20T19:01:58.485873Z",
     "start_time": "2022-08-20T19:01:58.440250Z"
    }
   },
   "outputs": [
    {
     "data": {
      "text/html": [
       "<div>\n",
       "<style scoped>\n",
       "    .dataframe tbody tr th:only-of-type {\n",
       "        vertical-align: middle;\n",
       "    }\n",
       "\n",
       "    .dataframe tbody tr th {\n",
       "        vertical-align: top;\n",
       "    }\n",
       "\n",
       "    .dataframe thead th {\n",
       "        text-align: right;\n",
       "    }\n",
       "</style>\n",
       "<table border=\"1\" class=\"dataframe\">\n",
       "  <thead>\n",
       "    <tr style=\"text-align: right;\">\n",
       "      <th></th>\n",
       "      <th>feature</th>\n",
       "      <th>data_type</th>\n",
       "      <th>null_num</th>\n",
       "      <th>null_pct</th>\n",
       "      <th>unique_num</th>\n",
       "      <th>unique_sample</th>\n",
       "    </tr>\n",
       "  </thead>\n",
       "  <tbody>\n",
       "    <tr>\n",
       "      <th>0</th>\n",
       "      <td>User ID</td>\n",
       "      <td>object</td>\n",
       "      <td>0</td>\n",
       "      <td>0.0</td>\n",
       "      <td>500</td>\n",
       "      <td>[4c731e48-0377-4d7d-b4c8-b2174b774ed8, 95258c3...</td>\n",
       "    </tr>\n",
       "    <tr>\n",
       "      <th>1</th>\n",
       "      <td>Interests</td>\n",
       "      <td>object</td>\n",
       "      <td>0</td>\n",
       "      <td>0.0</td>\n",
       "      <td>366</td>\n",
       "      <td>[[0, 1], ['tennis'], ['fitness', 'cooking', 'a...</td>\n",
       "    </tr>\n",
       "    <tr>\n",
       "      <th>2</th>\n",
       "      <td>Age</td>\n",
       "      <td>int64</td>\n",
       "      <td>0</td>\n",
       "      <td>0.0</td>\n",
       "      <td>45</td>\n",
       "      <td>[41, 23, 25, 2]</td>\n",
       "    </tr>\n",
       "  </tbody>\n",
       "</table>\n",
       "</div>"
      ],
      "text/plain": [
       "     feature data_type  null_num  null_pct  unique_num  \\\n",
       "0    User ID    object         0       0.0         500   \n",
       "1  Interests    object         0       0.0         366   \n",
       "2        Age     int64         0       0.0          45   \n",
       "\n",
       "                                       unique_sample  \n",
       "0  [4c731e48-0377-4d7d-b4c8-b2174b774ed8, 95258c3...  \n",
       "1  [[0, 1], ['tennis'], ['fitness', 'cooking', 'a...  \n",
       "2                                    [41, 23, 25, 2]  "
      ]
     },
     "execution_count": 30,
     "metadata": {},
     "output_type": "execute_result"
    }
   ],
   "source": [
    "information(profile)"
   ]
  },
  {
   "cell_type": "code",
   "execution_count": 31,
   "id": "578738ce",
   "metadata": {
    "ExecuteTime": {
     "end_time": "2022-08-20T19:02:02.177093Z",
     "start_time": "2022-08-20T19:02:02.107398Z"
    }
   },
   "outputs": [
    {
     "data": {
      "text/plain": [
       "(500, 3)"
      ]
     },
     "execution_count": 31,
     "metadata": {},
     "output_type": "execute_result"
    }
   ],
   "source": [
    "profile.shape"
   ]
  },
  {
   "cell_type": "markdown",
   "id": "679f8ff5",
   "metadata": {},
   "source": [
    "## Reaction"
   ]
  },
  {
   "cell_type": "code",
   "execution_count": 32,
   "id": "08b5583a",
   "metadata": {
    "ExecuteTime": {
     "end_time": "2022-08-20T19:02:17.391292Z",
     "start_time": "2022-08-20T19:02:17.302084Z"
    }
   },
   "outputs": [
    {
     "data": {
      "text/html": [
       "<div>\n",
       "<style scoped>\n",
       "    .dataframe tbody tr th:only-of-type {\n",
       "        vertical-align: middle;\n",
       "    }\n",
       "\n",
       "    .dataframe tbody tr th {\n",
       "        vertical-align: top;\n",
       "    }\n",
       "\n",
       "    .dataframe thead th {\n",
       "        text-align: right;\n",
       "    }\n",
       "</style>\n",
       "<table border=\"1\" class=\"dataframe\">\n",
       "  <thead>\n",
       "    <tr style=\"text-align: right;\">\n",
       "      <th></th>\n",
       "      <th>feature</th>\n",
       "      <th>data_type</th>\n",
       "      <th>null_num</th>\n",
       "      <th>null_pct</th>\n",
       "      <th>unique_num</th>\n",
       "      <th>unique_sample</th>\n",
       "    </tr>\n",
       "  </thead>\n",
       "  <tbody>\n",
       "    <tr>\n",
       "      <th>0</th>\n",
       "      <td>Content ID</td>\n",
       "      <td>object</td>\n",
       "      <td>0</td>\n",
       "      <td>0.000000</td>\n",
       "      <td>980</td>\n",
       "      <td>[97522e57-d9ab-4bd6-97bf-c24d952602d2, 9f737e0...</td>\n",
       "    </tr>\n",
       "    <tr>\n",
       "      <th>1</th>\n",
       "      <td>User ID</td>\n",
       "      <td>object</td>\n",
       "      <td>3019</td>\n",
       "      <td>11.814660</td>\n",
       "      <td>500</td>\n",
       "      <td>[nan, 5d454588-283d-459d-915d-c48a2cb4c27f, 92...</td>\n",
       "    </tr>\n",
       "    <tr>\n",
       "      <th>2</th>\n",
       "      <td>Type</td>\n",
       "      <td>object</td>\n",
       "      <td>980</td>\n",
       "      <td>3.835166</td>\n",
       "      <td>16</td>\n",
       "      <td>[nan, disgust, dislike, scared]</td>\n",
       "    </tr>\n",
       "    <tr>\n",
       "      <th>3</th>\n",
       "      <td>Datetime</td>\n",
       "      <td>object</td>\n",
       "      <td>0</td>\n",
       "      <td>0.000000</td>\n",
       "      <td>25542</td>\n",
       "      <td>[2021-04-22 15:17:15, 2020-11-07 09:43:50, 202...</td>\n",
       "    </tr>\n",
       "  </tbody>\n",
       "</table>\n",
       "</div>"
      ],
      "text/plain": [
       "      feature data_type  null_num   null_pct  unique_num  \\\n",
       "0  Content ID    object         0   0.000000         980   \n",
       "1     User ID    object      3019  11.814660         500   \n",
       "2        Type    object       980   3.835166          16   \n",
       "3    Datetime    object         0   0.000000       25542   \n",
       "\n",
       "                                       unique_sample  \n",
       "0  [97522e57-d9ab-4bd6-97bf-c24d952602d2, 9f737e0...  \n",
       "1  [nan, 5d454588-283d-459d-915d-c48a2cb4c27f, 92...  \n",
       "2                    [nan, disgust, dislike, scared]  \n",
       "3  [2021-04-22 15:17:15, 2020-11-07 09:43:50, 202...  "
      ]
     },
     "execution_count": 32,
     "metadata": {},
     "output_type": "execute_result"
    }
   ],
   "source": [
    "information(reaction)"
   ]
  },
  {
   "cell_type": "code",
   "execution_count": 33,
   "id": "179bfb72",
   "metadata": {
    "ExecuteTime": {
     "end_time": "2022-08-20T19:02:20.008995Z",
     "start_time": "2022-08-20T19:02:19.996097Z"
    }
   },
   "outputs": [
    {
     "data": {
      "text/plain": [
       "(25553, 4)"
      ]
     },
     "execution_count": 33,
     "metadata": {},
     "output_type": "execute_result"
    }
   ],
   "source": [
    "reaction.shape"
   ]
  },
  {
   "cell_type": "code",
   "execution_count": 4,
   "id": "8b0b1b35",
   "metadata": {
    "ExecuteTime": {
     "end_time": "2022-08-20T22:07:11.154022Z",
     "start_time": "2022-08-20T22:07:11.135472Z"
    }
   },
   "outputs": [],
   "source": [
    "reaction = reaction.dropna()"
   ]
  },
  {
   "cell_type": "code",
   "execution_count": 68,
   "id": "eebc62ec",
   "metadata": {
    "ExecuteTime": {
     "end_time": "2022-08-20T19:15:11.086772Z",
     "start_time": "2022-08-20T19:15:11.070641Z"
    }
   },
   "outputs": [
    {
     "data": {
      "text/plain": [
       "Content ID    0\n",
       "User ID       0\n",
       "Type          0\n",
       "Datetime      0\n",
       "dtype: int64"
      ]
     },
     "execution_count": 68,
     "metadata": {},
     "output_type": "execute_result"
    }
   ],
   "source": [
    "reaction.isnull().sum()"
   ]
  },
  {
   "cell_type": "code",
   "execution_count": 64,
   "id": "d4339e12",
   "metadata": {
    "ExecuteTime": {
     "end_time": "2022-08-20T19:14:44.218019Z",
     "start_time": "2022-08-20T19:14:44.210061Z"
    }
   },
   "outputs": [
    {
     "data": {
      "text/plain": [
       "(22534, 4)"
      ]
     },
     "execution_count": 64,
     "metadata": {},
     "output_type": "execute_result"
    }
   ],
   "source": [
    "reaction.shape"
   ]
  },
  {
   "cell_type": "markdown",
   "id": "29d7581e",
   "metadata": {},
   "source": [
    "## Reaction Types"
   ]
  },
  {
   "cell_type": "code",
   "execution_count": 35,
   "id": "8b3839bf",
   "metadata": {
    "ExecuteTime": {
     "end_time": "2022-08-20T19:05:00.394847Z",
     "start_time": "2022-08-20T19:05:00.348938Z"
    }
   },
   "outputs": [
    {
     "data": {
      "text/html": [
       "<div>\n",
       "<style scoped>\n",
       "    .dataframe tbody tr th:only-of-type {\n",
       "        vertical-align: middle;\n",
       "    }\n",
       "\n",
       "    .dataframe tbody tr th {\n",
       "        vertical-align: top;\n",
       "    }\n",
       "\n",
       "    .dataframe thead th {\n",
       "        text-align: right;\n",
       "    }\n",
       "</style>\n",
       "<table border=\"1\" class=\"dataframe\">\n",
       "  <thead>\n",
       "    <tr style=\"text-align: right;\">\n",
       "      <th></th>\n",
       "      <th>feature</th>\n",
       "      <th>data_type</th>\n",
       "      <th>null_num</th>\n",
       "      <th>null_pct</th>\n",
       "      <th>unique_num</th>\n",
       "      <th>unique_sample</th>\n",
       "    </tr>\n",
       "  </thead>\n",
       "  <tbody>\n",
       "    <tr>\n",
       "      <th>0</th>\n",
       "      <td>Type</td>\n",
       "      <td>object</td>\n",
       "      <td>0</td>\n",
       "      <td>0.0</td>\n",
       "      <td>16</td>\n",
       "      <td>[heart, want, disgust, hate]</td>\n",
       "    </tr>\n",
       "    <tr>\n",
       "      <th>1</th>\n",
       "      <td>Sentiment</td>\n",
       "      <td>object</td>\n",
       "      <td>0</td>\n",
       "      <td>0.0</td>\n",
       "      <td>3</td>\n",
       "      <td>[positive, negative, neutral]</td>\n",
       "    </tr>\n",
       "    <tr>\n",
       "      <th>2</th>\n",
       "      <td>Score</td>\n",
       "      <td>int64</td>\n",
       "      <td>0</td>\n",
       "      <td>0.0</td>\n",
       "      <td>15</td>\n",
       "      <td>[60, 70, 0, 5]</td>\n",
       "    </tr>\n",
       "  </tbody>\n",
       "</table>\n",
       "</div>"
      ],
      "text/plain": [
       "     feature data_type  null_num  null_pct  unique_num  \\\n",
       "0       Type    object         0       0.0          16   \n",
       "1  Sentiment    object         0       0.0           3   \n",
       "2      Score     int64         0       0.0          15   \n",
       "\n",
       "                   unique_sample  \n",
       "0   [heart, want, disgust, hate]  \n",
       "1  [positive, negative, neutral]  \n",
       "2                 [60, 70, 0, 5]  "
      ]
     },
     "execution_count": 35,
     "metadata": {},
     "output_type": "execute_result"
    }
   ],
   "source": [
    "information(reaction_types)"
   ]
  },
  {
   "cell_type": "code",
   "execution_count": 36,
   "id": "35a20f58",
   "metadata": {
    "ExecuteTime": {
     "end_time": "2022-08-20T19:05:08.483096Z",
     "start_time": "2022-08-20T19:05:08.474654Z"
    }
   },
   "outputs": [
    {
     "data": {
      "text/plain": [
       "(16, 3)"
      ]
     },
     "execution_count": 36,
     "metadata": {},
     "output_type": "execute_result"
    }
   ],
   "source": [
    "reaction_types.shape"
   ]
  },
  {
   "cell_type": "markdown",
   "id": "c1fef7ab",
   "metadata": {},
   "source": [
    "## Session"
   ]
  },
  {
   "cell_type": "code",
   "execution_count": 37,
   "id": "71e63de3",
   "metadata": {
    "ExecuteTime": {
     "end_time": "2022-08-20T19:05:30.092475Z",
     "start_time": "2022-08-20T19:05:30.067111Z"
    }
   },
   "outputs": [
    {
     "data": {
      "text/html": [
       "<div>\n",
       "<style scoped>\n",
       "    .dataframe tbody tr th:only-of-type {\n",
       "        vertical-align: middle;\n",
       "    }\n",
       "\n",
       "    .dataframe tbody tr th {\n",
       "        vertical-align: top;\n",
       "    }\n",
       "\n",
       "    .dataframe thead th {\n",
       "        text-align: right;\n",
       "    }\n",
       "</style>\n",
       "<table border=\"1\" class=\"dataframe\">\n",
       "  <thead>\n",
       "    <tr style=\"text-align: right;\">\n",
       "      <th></th>\n",
       "      <th>feature</th>\n",
       "      <th>data_type</th>\n",
       "      <th>null_num</th>\n",
       "      <th>null_pct</th>\n",
       "      <th>unique_num</th>\n",
       "      <th>unique_sample</th>\n",
       "    </tr>\n",
       "  </thead>\n",
       "  <tbody>\n",
       "    <tr>\n",
       "      <th>0</th>\n",
       "      <td>User ID</td>\n",
       "      <td>object</td>\n",
       "      <td>0</td>\n",
       "      <td>0.0</td>\n",
       "      <td>500</td>\n",
       "      <td>[4c731e48-0377-4d7d-b4c8-b2174b774ed8, 95258c3...</td>\n",
       "    </tr>\n",
       "    <tr>\n",
       "      <th>1</th>\n",
       "      <td>Device</td>\n",
       "      <td>object</td>\n",
       "      <td>0</td>\n",
       "      <td>0.0</td>\n",
       "      <td>13</td>\n",
       "      <td>[Microsoft, Apple, HTC, Motorola]</td>\n",
       "    </tr>\n",
       "    <tr>\n",
       "      <th>2</th>\n",
       "      <td>Duration</td>\n",
       "      <td>int64</td>\n",
       "      <td>0</td>\n",
       "      <td>0.0</td>\n",
       "      <td>99</td>\n",
       "      <td>[11, 51, 25, 68]</td>\n",
       "    </tr>\n",
       "  </tbody>\n",
       "</table>\n",
       "</div>"
      ],
      "text/plain": [
       "    feature data_type  null_num  null_pct  unique_num  \\\n",
       "0   User ID    object         0       0.0         500   \n",
       "1    Device    object         0       0.0          13   \n",
       "2  Duration     int64         0       0.0          99   \n",
       "\n",
       "                                       unique_sample  \n",
       "0  [4c731e48-0377-4d7d-b4c8-b2174b774ed8, 95258c3...  \n",
       "1                  [Microsoft, Apple, HTC, Motorola]  \n",
       "2                                   [11, 51, 25, 68]  "
      ]
     },
     "execution_count": 37,
     "metadata": {},
     "output_type": "execute_result"
    }
   ],
   "source": [
    "information(session)"
   ]
  },
  {
   "cell_type": "code",
   "execution_count": 38,
   "id": "3203c2e2",
   "metadata": {
    "ExecuteTime": {
     "end_time": "2022-08-20T19:05:36.769043Z",
     "start_time": "2022-08-20T19:05:36.759499Z"
    }
   },
   "outputs": [
    {
     "data": {
      "text/plain": [
       "(500, 3)"
      ]
     },
     "execution_count": 38,
     "metadata": {},
     "output_type": "execute_result"
    }
   ],
   "source": [
    "session.shape"
   ]
  },
  {
   "cell_type": "markdown",
   "id": "27357e9e",
   "metadata": {},
   "source": [
    "## User"
   ]
  },
  {
   "cell_type": "code",
   "execution_count": 39,
   "id": "decabd44",
   "metadata": {
    "ExecuteTime": {
     "end_time": "2022-08-20T19:05:44.883745Z",
     "start_time": "2022-08-20T19:05:44.821103Z"
    }
   },
   "outputs": [
    {
     "data": {
      "text/html": [
       "<div>\n",
       "<style scoped>\n",
       "    .dataframe tbody tr th:only-of-type {\n",
       "        vertical-align: middle;\n",
       "    }\n",
       "\n",
       "    .dataframe tbody tr th {\n",
       "        vertical-align: top;\n",
       "    }\n",
       "\n",
       "    .dataframe thead th {\n",
       "        text-align: right;\n",
       "    }\n",
       "</style>\n",
       "<table border=\"1\" class=\"dataframe\">\n",
       "  <thead>\n",
       "    <tr style=\"text-align: right;\">\n",
       "      <th></th>\n",
       "      <th>feature</th>\n",
       "      <th>data_type</th>\n",
       "      <th>null_num</th>\n",
       "      <th>null_pct</th>\n",
       "      <th>unique_num</th>\n",
       "      <th>unique_sample</th>\n",
       "    </tr>\n",
       "  </thead>\n",
       "  <tbody>\n",
       "    <tr>\n",
       "      <th>0</th>\n",
       "      <td>User ID</td>\n",
       "      <td>object</td>\n",
       "      <td>0</td>\n",
       "      <td>0.0</td>\n",
       "      <td>500</td>\n",
       "      <td>[4c731e48-0377-4d7d-b4c8-b2174b774ed8, 95258c3...</td>\n",
       "    </tr>\n",
       "    <tr>\n",
       "      <th>1</th>\n",
       "      <td>Name</td>\n",
       "      <td>object</td>\n",
       "      <td>0</td>\n",
       "      <td>0.0</td>\n",
       "      <td>500</td>\n",
       "      <td>[Gary Hill, Michael Deering, Richard Bain, Kri...</td>\n",
       "    </tr>\n",
       "    <tr>\n",
       "      <th>2</th>\n",
       "      <td>Email</td>\n",
       "      <td>object</td>\n",
       "      <td>0</td>\n",
       "      <td>0.0</td>\n",
       "      <td>255</td>\n",
       "      <td>[GHbnuothhymw, MD@gmail.com, RB@gmail.com, KM@...</td>\n",
       "    </tr>\n",
       "  </tbody>\n",
       "</table>\n",
       "</div>"
      ],
      "text/plain": [
       "   feature data_type  null_num  null_pct  unique_num  \\\n",
       "0  User ID    object         0       0.0         500   \n",
       "1     Name    object         0       0.0         500   \n",
       "2    Email    object         0       0.0         255   \n",
       "\n",
       "                                       unique_sample  \n",
       "0  [4c731e48-0377-4d7d-b4c8-b2174b774ed8, 95258c3...  \n",
       "1  [Gary Hill, Michael Deering, Richard Bain, Kri...  \n",
       "2  [GHbnuothhymw, MD@gmail.com, RB@gmail.com, KM@...  "
      ]
     },
     "execution_count": 39,
     "metadata": {},
     "output_type": "execute_result"
    }
   ],
   "source": [
    "information(user)"
   ]
  },
  {
   "cell_type": "code",
   "execution_count": 40,
   "id": "bdc2e549",
   "metadata": {
    "ExecuteTime": {
     "end_time": "2022-08-20T19:05:48.172166Z",
     "start_time": "2022-08-20T19:05:48.163396Z"
    }
   },
   "outputs": [
    {
     "data": {
      "text/plain": [
       "(500, 3)"
      ]
     },
     "execution_count": 40,
     "metadata": {},
     "output_type": "execute_result"
    }
   ],
   "source": [
    "user.shape"
   ]
  },
  {
   "cell_type": "markdown",
   "id": "9c8ec145",
   "metadata": {},
   "source": [
    "## Summmary"
   ]
  },
  {
   "cell_type": "code",
   "execution_count": 85,
   "id": "8f06ea7f",
   "metadata": {
    "ExecuteTime": {
     "end_time": "2022-08-20T19:34:42.722884Z",
     "start_time": "2022-08-20T19:34:42.705777Z"
    }
   },
   "outputs": [
    {
     "data": {
      "text/plain": [
       "((1000, 5), (22534, 4), (16, 3))"
      ]
     },
     "execution_count": 85,
     "metadata": {},
     "output_type": "execute_result"
    }
   ],
   "source": [
    "content.shape, reaction.shape, reaction_types.shape"
   ]
  },
  {
   "cell_type": "markdown",
   "id": "9bc0fb42",
   "metadata": {},
   "source": [
    "# Join"
   ]
  },
  {
   "cell_type": "code",
   "execution_count": 5,
   "id": "49b7bffd",
   "metadata": {
    "ExecuteTime": {
     "end_time": "2022-08-20T22:07:18.047088Z",
     "start_time": "2022-08-20T22:07:18.006655Z"
    }
   },
   "outputs": [
    {
     "data": {
      "text/html": [
       "<div>\n",
       "<style scoped>\n",
       "    .dataframe tbody tr th:only-of-type {\n",
       "        vertical-align: middle;\n",
       "    }\n",
       "\n",
       "    .dataframe tbody tr th {\n",
       "        vertical-align: top;\n",
       "    }\n",
       "\n",
       "    .dataframe thead th {\n",
       "        text-align: right;\n",
       "    }\n",
       "</style>\n",
       "<table border=\"1\" class=\"dataframe\">\n",
       "  <thead>\n",
       "    <tr style=\"text-align: right;\">\n",
       "      <th></th>\n",
       "      <th>Content ID</th>\n",
       "      <th>User ID</th>\n",
       "      <th>Type</th>\n",
       "      <th>Datetime</th>\n",
       "      <th>Sentiment</th>\n",
       "      <th>Score</th>\n",
       "    </tr>\n",
       "  </thead>\n",
       "  <tbody>\n",
       "    <tr>\n",
       "      <th>0</th>\n",
       "      <td>97522e57-d9ab-4bd6-97bf-c24d952602d2</td>\n",
       "      <td>5d454588-283d-459d-915d-c48a2cb4c27f</td>\n",
       "      <td>disgust</td>\n",
       "      <td>2020-11-07 09:43:50</td>\n",
       "      <td>negative</td>\n",
       "      <td>0</td>\n",
       "    </tr>\n",
       "    <tr>\n",
       "      <th>1</th>\n",
       "      <td>97522e57-d9ab-4bd6-97bf-c24d952602d2</td>\n",
       "      <td>92b87fa5-f271-43e0-af66-84fac21052e6</td>\n",
       "      <td>dislike</td>\n",
       "      <td>2021-06-17 12:22:51</td>\n",
       "      <td>negative</td>\n",
       "      <td>10</td>\n",
       "    </tr>\n",
       "    <tr>\n",
       "      <th>2</th>\n",
       "      <td>97522e57-d9ab-4bd6-97bf-c24d952602d2</td>\n",
       "      <td>163daa38-8b77-48c9-9af6-37a6c1447ac2</td>\n",
       "      <td>scared</td>\n",
       "      <td>2021-04-18 05:13:58</td>\n",
       "      <td>negative</td>\n",
       "      <td>15</td>\n",
       "    </tr>\n",
       "    <tr>\n",
       "      <th>3</th>\n",
       "      <td>97522e57-d9ab-4bd6-97bf-c24d952602d2</td>\n",
       "      <td>34e8add9-0206-47fd-a501-037b994650a2</td>\n",
       "      <td>disgust</td>\n",
       "      <td>2021-01-06 19:13:01</td>\n",
       "      <td>negative</td>\n",
       "      <td>0</td>\n",
       "    </tr>\n",
       "    <tr>\n",
       "      <th>4</th>\n",
       "      <td>97522e57-d9ab-4bd6-97bf-c24d952602d2</td>\n",
       "      <td>9b6d35f9-5e15-4cd0-a8d7-b1f3340e02c4</td>\n",
       "      <td>interested</td>\n",
       "      <td>2020-08-23 12:25:58</td>\n",
       "      <td>positive</td>\n",
       "      <td>30</td>\n",
       "    </tr>\n",
       "  </tbody>\n",
       "</table>\n",
       "</div>"
      ],
      "text/plain": [
       "                             Content ID                               User ID  \\\n",
       "0  97522e57-d9ab-4bd6-97bf-c24d952602d2  5d454588-283d-459d-915d-c48a2cb4c27f   \n",
       "1  97522e57-d9ab-4bd6-97bf-c24d952602d2  92b87fa5-f271-43e0-af66-84fac21052e6   \n",
       "2  97522e57-d9ab-4bd6-97bf-c24d952602d2  163daa38-8b77-48c9-9af6-37a6c1447ac2   \n",
       "3  97522e57-d9ab-4bd6-97bf-c24d952602d2  34e8add9-0206-47fd-a501-037b994650a2   \n",
       "4  97522e57-d9ab-4bd6-97bf-c24d952602d2  9b6d35f9-5e15-4cd0-a8d7-b1f3340e02c4   \n",
       "\n",
       "         Type             Datetime Sentiment  Score  \n",
       "0     disgust  2020-11-07 09:43:50  negative      0  \n",
       "1     dislike  2021-06-17 12:22:51  negative     10  \n",
       "2      scared  2021-04-18 05:13:58  negative     15  \n",
       "3     disgust  2021-01-06 19:13:01  negative      0  \n",
       "4  interested  2020-08-23 12:25:58  positive     30  "
      ]
     },
     "execution_count": 5,
     "metadata": {},
     "output_type": "execute_result"
    }
   ],
   "source": [
    "df = reaction.merge(reaction_types, how='left', on='Type')\n",
    "df.head()"
   ]
  },
  {
   "cell_type": "code",
   "execution_count": 6,
   "id": "8030854c",
   "metadata": {
    "ExecuteTime": {
     "end_time": "2022-08-20T22:07:20.132544Z",
     "start_time": "2022-08-20T22:07:20.103074Z"
    }
   },
   "outputs": [
    {
     "data": {
      "text/html": [
       "<div>\n",
       "<style scoped>\n",
       "    .dataframe tbody tr th:only-of-type {\n",
       "        vertical-align: middle;\n",
       "    }\n",
       "\n",
       "    .dataframe tbody tr th {\n",
       "        vertical-align: top;\n",
       "    }\n",
       "\n",
       "    .dataframe thead th {\n",
       "        text-align: right;\n",
       "    }\n",
       "</style>\n",
       "<table border=\"1\" class=\"dataframe\">\n",
       "  <thead>\n",
       "    <tr style=\"text-align: right;\">\n",
       "      <th></th>\n",
       "      <th>Content ID</th>\n",
       "      <th>User ID</th>\n",
       "      <th>Reaction Type</th>\n",
       "      <th>Datetime</th>\n",
       "      <th>Sentiment</th>\n",
       "      <th>Score</th>\n",
       "    </tr>\n",
       "  </thead>\n",
       "  <tbody>\n",
       "    <tr>\n",
       "      <th>0</th>\n",
       "      <td>97522e57-d9ab-4bd6-97bf-c24d952602d2</td>\n",
       "      <td>5d454588-283d-459d-915d-c48a2cb4c27f</td>\n",
       "      <td>disgust</td>\n",
       "      <td>2020-11-07 09:43:50</td>\n",
       "      <td>negative</td>\n",
       "      <td>0</td>\n",
       "    </tr>\n",
       "    <tr>\n",
       "      <th>1</th>\n",
       "      <td>97522e57-d9ab-4bd6-97bf-c24d952602d2</td>\n",
       "      <td>92b87fa5-f271-43e0-af66-84fac21052e6</td>\n",
       "      <td>dislike</td>\n",
       "      <td>2021-06-17 12:22:51</td>\n",
       "      <td>negative</td>\n",
       "      <td>10</td>\n",
       "    </tr>\n",
       "    <tr>\n",
       "      <th>2</th>\n",
       "      <td>97522e57-d9ab-4bd6-97bf-c24d952602d2</td>\n",
       "      <td>163daa38-8b77-48c9-9af6-37a6c1447ac2</td>\n",
       "      <td>scared</td>\n",
       "      <td>2021-04-18 05:13:58</td>\n",
       "      <td>negative</td>\n",
       "      <td>15</td>\n",
       "    </tr>\n",
       "    <tr>\n",
       "      <th>3</th>\n",
       "      <td>97522e57-d9ab-4bd6-97bf-c24d952602d2</td>\n",
       "      <td>34e8add9-0206-47fd-a501-037b994650a2</td>\n",
       "      <td>disgust</td>\n",
       "      <td>2021-01-06 19:13:01</td>\n",
       "      <td>negative</td>\n",
       "      <td>0</td>\n",
       "    </tr>\n",
       "    <tr>\n",
       "      <th>4</th>\n",
       "      <td>97522e57-d9ab-4bd6-97bf-c24d952602d2</td>\n",
       "      <td>9b6d35f9-5e15-4cd0-a8d7-b1f3340e02c4</td>\n",
       "      <td>interested</td>\n",
       "      <td>2020-08-23 12:25:58</td>\n",
       "      <td>positive</td>\n",
       "      <td>30</td>\n",
       "    </tr>\n",
       "  </tbody>\n",
       "</table>\n",
       "</div>"
      ],
      "text/plain": [
       "                             Content ID                               User ID  \\\n",
       "0  97522e57-d9ab-4bd6-97bf-c24d952602d2  5d454588-283d-459d-915d-c48a2cb4c27f   \n",
       "1  97522e57-d9ab-4bd6-97bf-c24d952602d2  92b87fa5-f271-43e0-af66-84fac21052e6   \n",
       "2  97522e57-d9ab-4bd6-97bf-c24d952602d2  163daa38-8b77-48c9-9af6-37a6c1447ac2   \n",
       "3  97522e57-d9ab-4bd6-97bf-c24d952602d2  34e8add9-0206-47fd-a501-037b994650a2   \n",
       "4  97522e57-d9ab-4bd6-97bf-c24d952602d2  9b6d35f9-5e15-4cd0-a8d7-b1f3340e02c4   \n",
       "\n",
       "  Reaction Type             Datetime Sentiment  Score  \n",
       "0       disgust  2020-11-07 09:43:50  negative      0  \n",
       "1       dislike  2021-06-17 12:22:51  negative     10  \n",
       "2        scared  2021-04-18 05:13:58  negative     15  \n",
       "3       disgust  2021-01-06 19:13:01  negative      0  \n",
       "4    interested  2020-08-23 12:25:58  positive     30  "
      ]
     },
     "execution_count": 6,
     "metadata": {},
     "output_type": "execute_result"
    }
   ],
   "source": [
    "df = df.rename(columns={'Type':'Reaction Type'})\n",
    "df.head()"
   ]
  },
  {
   "cell_type": "code",
   "execution_count": 7,
   "id": "2793c703",
   "metadata": {
    "ExecuteTime": {
     "end_time": "2022-08-20T22:07:21.800626Z",
     "start_time": "2022-08-20T22:07:21.760321Z"
    }
   },
   "outputs": [
    {
     "data": {
      "text/html": [
       "<div>\n",
       "<style scoped>\n",
       "    .dataframe tbody tr th:only-of-type {\n",
       "        vertical-align: middle;\n",
       "    }\n",
       "\n",
       "    .dataframe tbody tr th {\n",
       "        vertical-align: top;\n",
       "    }\n",
       "\n",
       "    .dataframe thead th {\n",
       "        text-align: right;\n",
       "    }\n",
       "</style>\n",
       "<table border=\"1\" class=\"dataframe\">\n",
       "  <thead>\n",
       "    <tr style=\"text-align: right;\">\n",
       "      <th></th>\n",
       "      <th>Content ID</th>\n",
       "      <th>User ID</th>\n",
       "      <th>Reaction Type</th>\n",
       "      <th>Datetime</th>\n",
       "      <th>Sentiment</th>\n",
       "      <th>Score</th>\n",
       "      <th>Type</th>\n",
       "      <th>Category</th>\n",
       "      <th>URL</th>\n",
       "    </tr>\n",
       "  </thead>\n",
       "  <tbody>\n",
       "    <tr>\n",
       "      <th>0</th>\n",
       "      <td>97522e57-d9ab-4bd6-97bf-c24d952602d2</td>\n",
       "      <td>5d454588-283d-459d-915d-c48a2cb4c27f</td>\n",
       "      <td>disgust</td>\n",
       "      <td>2020-11-07 09:43:50</td>\n",
       "      <td>negative</td>\n",
       "      <td>0</td>\n",
       "      <td>photo</td>\n",
       "      <td>Studying</td>\n",
       "      <td>https://socialbuzz.cdn.com/content/storage/975...</td>\n",
       "    </tr>\n",
       "    <tr>\n",
       "      <th>1</th>\n",
       "      <td>97522e57-d9ab-4bd6-97bf-c24d952602d2</td>\n",
       "      <td>92b87fa5-f271-43e0-af66-84fac21052e6</td>\n",
       "      <td>dislike</td>\n",
       "      <td>2021-06-17 12:22:51</td>\n",
       "      <td>negative</td>\n",
       "      <td>10</td>\n",
       "      <td>photo</td>\n",
       "      <td>Studying</td>\n",
       "      <td>https://socialbuzz.cdn.com/content/storage/975...</td>\n",
       "    </tr>\n",
       "    <tr>\n",
       "      <th>2</th>\n",
       "      <td>97522e57-d9ab-4bd6-97bf-c24d952602d2</td>\n",
       "      <td>163daa38-8b77-48c9-9af6-37a6c1447ac2</td>\n",
       "      <td>scared</td>\n",
       "      <td>2021-04-18 05:13:58</td>\n",
       "      <td>negative</td>\n",
       "      <td>15</td>\n",
       "      <td>photo</td>\n",
       "      <td>Studying</td>\n",
       "      <td>https://socialbuzz.cdn.com/content/storage/975...</td>\n",
       "    </tr>\n",
       "    <tr>\n",
       "      <th>3</th>\n",
       "      <td>97522e57-d9ab-4bd6-97bf-c24d952602d2</td>\n",
       "      <td>34e8add9-0206-47fd-a501-037b994650a2</td>\n",
       "      <td>disgust</td>\n",
       "      <td>2021-01-06 19:13:01</td>\n",
       "      <td>negative</td>\n",
       "      <td>0</td>\n",
       "      <td>photo</td>\n",
       "      <td>Studying</td>\n",
       "      <td>https://socialbuzz.cdn.com/content/storage/975...</td>\n",
       "    </tr>\n",
       "    <tr>\n",
       "      <th>4</th>\n",
       "      <td>97522e57-d9ab-4bd6-97bf-c24d952602d2</td>\n",
       "      <td>9b6d35f9-5e15-4cd0-a8d7-b1f3340e02c4</td>\n",
       "      <td>interested</td>\n",
       "      <td>2020-08-23 12:25:58</td>\n",
       "      <td>positive</td>\n",
       "      <td>30</td>\n",
       "      <td>photo</td>\n",
       "      <td>Studying</td>\n",
       "      <td>https://socialbuzz.cdn.com/content/storage/975...</td>\n",
       "    </tr>\n",
       "  </tbody>\n",
       "</table>\n",
       "</div>"
      ],
      "text/plain": [
       "                             Content ID                               User ID  \\\n",
       "0  97522e57-d9ab-4bd6-97bf-c24d952602d2  5d454588-283d-459d-915d-c48a2cb4c27f   \n",
       "1  97522e57-d9ab-4bd6-97bf-c24d952602d2  92b87fa5-f271-43e0-af66-84fac21052e6   \n",
       "2  97522e57-d9ab-4bd6-97bf-c24d952602d2  163daa38-8b77-48c9-9af6-37a6c1447ac2   \n",
       "3  97522e57-d9ab-4bd6-97bf-c24d952602d2  34e8add9-0206-47fd-a501-037b994650a2   \n",
       "4  97522e57-d9ab-4bd6-97bf-c24d952602d2  9b6d35f9-5e15-4cd0-a8d7-b1f3340e02c4   \n",
       "\n",
       "  Reaction Type             Datetime Sentiment  Score   Type  Category  \\\n",
       "0       disgust  2020-11-07 09:43:50  negative      0  photo  Studying   \n",
       "1       dislike  2021-06-17 12:22:51  negative     10  photo  Studying   \n",
       "2        scared  2021-04-18 05:13:58  negative     15  photo  Studying   \n",
       "3       disgust  2021-01-06 19:13:01  negative      0  photo  Studying   \n",
       "4    interested  2020-08-23 12:25:58  positive     30  photo  Studying   \n",
       "\n",
       "                                                 URL  \n",
       "0  https://socialbuzz.cdn.com/content/storage/975...  \n",
       "1  https://socialbuzz.cdn.com/content/storage/975...  \n",
       "2  https://socialbuzz.cdn.com/content/storage/975...  \n",
       "3  https://socialbuzz.cdn.com/content/storage/975...  \n",
       "4  https://socialbuzz.cdn.com/content/storage/975...  "
      ]
     },
     "execution_count": 7,
     "metadata": {},
     "output_type": "execute_result"
    }
   ],
   "source": [
    "data = df.merge(content.drop('User ID',axis=1), on=['Content ID'], how='left')\n",
    "data.head()"
   ]
  },
  {
   "cell_type": "code",
   "execution_count": 106,
   "id": "47743455",
   "metadata": {
    "ExecuteTime": {
     "end_time": "2022-08-20T19:44:55.300182Z",
     "start_time": "2022-08-20T19:44:55.088461Z"
    }
   },
   "outputs": [],
   "source": [
    "#data.to_csv('accenture_task1.csv')"
   ]
  },
  {
   "cell_type": "code",
   "execution_count": 9,
   "id": "0811c3a7",
   "metadata": {
    "ExecuteTime": {
     "end_time": "2022-08-20T22:11:04.326007Z",
     "start_time": "2022-08-20T22:11:04.225713Z"
    }
   },
   "outputs": [
    {
     "data": {
      "text/html": [
       "<div>\n",
       "<style scoped>\n",
       "    .dataframe tbody tr th:only-of-type {\n",
       "        vertical-align: middle;\n",
       "    }\n",
       "\n",
       "    .dataframe tbody tr th {\n",
       "        vertical-align: top;\n",
       "    }\n",
       "\n",
       "    .dataframe thead th {\n",
       "        text-align: right;\n",
       "    }\n",
       "</style>\n",
       "<table border=\"1\" class=\"dataframe\">\n",
       "  <thead>\n",
       "    <tr style=\"text-align: right;\">\n",
       "      <th></th>\n",
       "      <th>Content ID</th>\n",
       "      <th>User ID</th>\n",
       "      <th>Reaction Type</th>\n",
       "      <th>Datetime</th>\n",
       "      <th>Sentiment</th>\n",
       "      <th>Score</th>\n",
       "      <th>Type</th>\n",
       "      <th>Category</th>\n",
       "      <th>URL</th>\n",
       "    </tr>\n",
       "  </thead>\n",
       "  <tbody>\n",
       "    <tr>\n",
       "      <th>0</th>\n",
       "      <td>97522e57-d9ab-4bd6-97bf-c24d952602d2</td>\n",
       "      <td>5d454588-283d-459d-915d-c48a2cb4c27f</td>\n",
       "      <td>disgust</td>\n",
       "      <td>2020-11-07 09:43:50</td>\n",
       "      <td>negative</td>\n",
       "      <td>0</td>\n",
       "      <td>photo</td>\n",
       "      <td>Studying</td>\n",
       "      <td>https://socialbuzz.cdn.com/content/storage/975...</td>\n",
       "    </tr>\n",
       "    <tr>\n",
       "      <th>1</th>\n",
       "      <td>97522e57-d9ab-4bd6-97bf-c24d952602d2</td>\n",
       "      <td>92b87fa5-f271-43e0-af66-84fac21052e6</td>\n",
       "      <td>dislike</td>\n",
       "      <td>2021-06-17 12:22:51</td>\n",
       "      <td>negative</td>\n",
       "      <td>10</td>\n",
       "      <td>photo</td>\n",
       "      <td>Studying</td>\n",
       "      <td>https://socialbuzz.cdn.com/content/storage/975...</td>\n",
       "    </tr>\n",
       "    <tr>\n",
       "      <th>2</th>\n",
       "      <td>97522e57-d9ab-4bd6-97bf-c24d952602d2</td>\n",
       "      <td>163daa38-8b77-48c9-9af6-37a6c1447ac2</td>\n",
       "      <td>scared</td>\n",
       "      <td>2021-04-18 05:13:58</td>\n",
       "      <td>negative</td>\n",
       "      <td>15</td>\n",
       "      <td>photo</td>\n",
       "      <td>Studying</td>\n",
       "      <td>https://socialbuzz.cdn.com/content/storage/975...</td>\n",
       "    </tr>\n",
       "    <tr>\n",
       "      <th>3</th>\n",
       "      <td>97522e57-d9ab-4bd6-97bf-c24d952602d2</td>\n",
       "      <td>34e8add9-0206-47fd-a501-037b994650a2</td>\n",
       "      <td>disgust</td>\n",
       "      <td>2021-01-06 19:13:01</td>\n",
       "      <td>negative</td>\n",
       "      <td>0</td>\n",
       "      <td>photo</td>\n",
       "      <td>Studying</td>\n",
       "      <td>https://socialbuzz.cdn.com/content/storage/975...</td>\n",
       "    </tr>\n",
       "    <tr>\n",
       "      <th>4</th>\n",
       "      <td>97522e57-d9ab-4bd6-97bf-c24d952602d2</td>\n",
       "      <td>9b6d35f9-5e15-4cd0-a8d7-b1f3340e02c4</td>\n",
       "      <td>interested</td>\n",
       "      <td>2020-08-23 12:25:58</td>\n",
       "      <td>positive</td>\n",
       "      <td>30</td>\n",
       "      <td>photo</td>\n",
       "      <td>Studying</td>\n",
       "      <td>https://socialbuzz.cdn.com/content/storage/975...</td>\n",
       "    </tr>\n",
       "  </tbody>\n",
       "</table>\n",
       "</div>"
      ],
      "text/plain": [
       "                             Content ID                               User ID  \\\n",
       "0  97522e57-d9ab-4bd6-97bf-c24d952602d2  5d454588-283d-459d-915d-c48a2cb4c27f   \n",
       "1  97522e57-d9ab-4bd6-97bf-c24d952602d2  92b87fa5-f271-43e0-af66-84fac21052e6   \n",
       "2  97522e57-d9ab-4bd6-97bf-c24d952602d2  163daa38-8b77-48c9-9af6-37a6c1447ac2   \n",
       "3  97522e57-d9ab-4bd6-97bf-c24d952602d2  34e8add9-0206-47fd-a501-037b994650a2   \n",
       "4  97522e57-d9ab-4bd6-97bf-c24d952602d2  9b6d35f9-5e15-4cd0-a8d7-b1f3340e02c4   \n",
       "\n",
       "  Reaction Type             Datetime Sentiment  Score   Type  Category  \\\n",
       "0       disgust  2020-11-07 09:43:50  negative      0  photo  Studying   \n",
       "1       dislike  2021-06-17 12:22:51  negative     10  photo  Studying   \n",
       "2        scared  2021-04-18 05:13:58  negative     15  photo  Studying   \n",
       "3       disgust  2021-01-06 19:13:01  negative      0  photo  Studying   \n",
       "4    interested  2020-08-23 12:25:58  positive     30  photo  Studying   \n",
       "\n",
       "                                                 URL  \n",
       "0  https://socialbuzz.cdn.com/content/storage/975...  \n",
       "1  https://socialbuzz.cdn.com/content/storage/975...  \n",
       "2  https://socialbuzz.cdn.com/content/storage/975...  \n",
       "3  https://socialbuzz.cdn.com/content/storage/975...  \n",
       "4  https://socialbuzz.cdn.com/content/storage/975...  "
      ]
     },
     "execution_count": 9,
     "metadata": {},
     "output_type": "execute_result"
    }
   ],
   "source": [
    "df = pd.read_csv('accenture_task1.csv', index_col=0)\n",
    "df.head()"
   ]
  },
  {
   "cell_type": "markdown",
   "id": "acf2714d",
   "metadata": {},
   "source": [
    "## Feature Engineering"
   ]
  },
  {
   "cell_type": "code",
   "execution_count": 19,
   "id": "fd387823",
   "metadata": {
    "ExecuteTime": {
     "end_time": "2022-08-20T22:18:45.451794Z",
     "start_time": "2022-08-20T22:18:45.393854Z"
    }
   },
   "outputs": [],
   "source": [
    "df['Datetime'] = pd.to_datetime(df['Datetime'])\n",
    "df['Hours'] = df['Datetime'].dt.hour\n",
    "df['Month'] = df['Datetime'].dt.month_name()\n",
    "df['Year'] = df['Datetime'].dt.year\n",
    "df['Date'] = df['Datetime'].dt.day\n",
    "df['Day'] = df['Datetime'].dt.day_name()"
   ]
  },
  {
   "cell_type": "code",
   "execution_count": 21,
   "id": "993c2182",
   "metadata": {
    "ExecuteTime": {
     "end_time": "2022-08-20T22:19:27.369618Z",
     "start_time": "2022-08-20T22:19:27.354265Z"
    }
   },
   "outputs": [],
   "source": [
    "df['Weekend'] = np.where(df['Day']=='Saturday',1,\n",
    "                np.where(df['Day']=='Sunday',1,0))"
   ]
  },
  {
   "cell_type": "code",
   "execution_count": 39,
   "id": "8d2b67e7",
   "metadata": {
    "ExecuteTime": {
     "end_time": "2022-08-20T22:30:51.075385Z",
     "start_time": "2022-08-20T22:30:51.054503Z"
    }
   },
   "outputs": [],
   "source": [
    "df['Time_Range'] = np.where((df['Hours']>=0)&(df['Hours']<4),'Midnight',\n",
    "                   np.where((df['Hours']>4)&(df['Hours']<9),'Morning',\n",
    "                   np.where((df['Hours']>9)&(df['Hours']<16),'Afternoon',\n",
    "                   np.where((df['Hours']>17)&(df['Hours']<20),'Evening','Night'))))"
   ]
  },
  {
   "cell_type": "code",
   "execution_count": 40,
   "id": "5b2b7b01",
   "metadata": {
    "ExecuteTime": {
     "end_time": "2022-08-20T22:31:43.791510Z",
     "start_time": "2022-08-20T22:31:43.779852Z"
    }
   },
   "outputs": [],
   "source": [
    "df['AM/PM'] = np.where((df['Hours']>=0)&(df['Hours']<=12),'AM','PM')"
   ]
  },
  {
   "cell_type": "code",
   "execution_count": 41,
   "id": "f53c34c5",
   "metadata": {
    "ExecuteTime": {
     "end_time": "2022-08-20T22:31:45.052469Z",
     "start_time": "2022-08-20T22:31:45.027218Z"
    }
   },
   "outputs": [
    {
     "data": {
      "text/html": [
       "<div>\n",
       "<style scoped>\n",
       "    .dataframe tbody tr th:only-of-type {\n",
       "        vertical-align: middle;\n",
       "    }\n",
       "\n",
       "    .dataframe tbody tr th {\n",
       "        vertical-align: top;\n",
       "    }\n",
       "\n",
       "    .dataframe thead th {\n",
       "        text-align: right;\n",
       "    }\n",
       "</style>\n",
       "<table border=\"1\" class=\"dataframe\">\n",
       "  <thead>\n",
       "    <tr style=\"text-align: right;\">\n",
       "      <th></th>\n",
       "      <th>Content ID</th>\n",
       "      <th>User ID</th>\n",
       "      <th>Reaction Type</th>\n",
       "      <th>Datetime</th>\n",
       "      <th>Sentiment</th>\n",
       "      <th>Score</th>\n",
       "      <th>Type</th>\n",
       "      <th>Category</th>\n",
       "      <th>URL</th>\n",
       "      <th>Hours</th>\n",
       "      <th>Month</th>\n",
       "      <th>Year</th>\n",
       "      <th>Date</th>\n",
       "      <th>Day</th>\n",
       "      <th>Weekend</th>\n",
       "      <th>Time_Range</th>\n",
       "      <th>AM/PM</th>\n",
       "    </tr>\n",
       "  </thead>\n",
       "  <tbody>\n",
       "    <tr>\n",
       "      <th>0</th>\n",
       "      <td>97522e57-d9ab-4bd6-97bf-c24d952602d2</td>\n",
       "      <td>5d454588-283d-459d-915d-c48a2cb4c27f</td>\n",
       "      <td>disgust</td>\n",
       "      <td>2020-11-07 09:43:50</td>\n",
       "      <td>negative</td>\n",
       "      <td>0</td>\n",
       "      <td>photo</td>\n",
       "      <td>Studying</td>\n",
       "      <td>https://socialbuzz.cdn.com/content/storage/975...</td>\n",
       "      <td>9</td>\n",
       "      <td>November</td>\n",
       "      <td>2020</td>\n",
       "      <td>7</td>\n",
       "      <td>Saturday</td>\n",
       "      <td>1</td>\n",
       "      <td>Night</td>\n",
       "      <td>AM</td>\n",
       "    </tr>\n",
       "    <tr>\n",
       "      <th>1</th>\n",
       "      <td>97522e57-d9ab-4bd6-97bf-c24d952602d2</td>\n",
       "      <td>92b87fa5-f271-43e0-af66-84fac21052e6</td>\n",
       "      <td>dislike</td>\n",
       "      <td>2021-06-17 12:22:51</td>\n",
       "      <td>negative</td>\n",
       "      <td>10</td>\n",
       "      <td>photo</td>\n",
       "      <td>Studying</td>\n",
       "      <td>https://socialbuzz.cdn.com/content/storage/975...</td>\n",
       "      <td>12</td>\n",
       "      <td>June</td>\n",
       "      <td>2021</td>\n",
       "      <td>17</td>\n",
       "      <td>Thursday</td>\n",
       "      <td>0</td>\n",
       "      <td>Afternoon</td>\n",
       "      <td>AM</td>\n",
       "    </tr>\n",
       "    <tr>\n",
       "      <th>2</th>\n",
       "      <td>97522e57-d9ab-4bd6-97bf-c24d952602d2</td>\n",
       "      <td>163daa38-8b77-48c9-9af6-37a6c1447ac2</td>\n",
       "      <td>scared</td>\n",
       "      <td>2021-04-18 05:13:58</td>\n",
       "      <td>negative</td>\n",
       "      <td>15</td>\n",
       "      <td>photo</td>\n",
       "      <td>Studying</td>\n",
       "      <td>https://socialbuzz.cdn.com/content/storage/975...</td>\n",
       "      <td>5</td>\n",
       "      <td>April</td>\n",
       "      <td>2021</td>\n",
       "      <td>18</td>\n",
       "      <td>Sunday</td>\n",
       "      <td>1</td>\n",
       "      <td>Morning</td>\n",
       "      <td>AM</td>\n",
       "    </tr>\n",
       "    <tr>\n",
       "      <th>3</th>\n",
       "      <td>97522e57-d9ab-4bd6-97bf-c24d952602d2</td>\n",
       "      <td>34e8add9-0206-47fd-a501-037b994650a2</td>\n",
       "      <td>disgust</td>\n",
       "      <td>2021-01-06 19:13:01</td>\n",
       "      <td>negative</td>\n",
       "      <td>0</td>\n",
       "      <td>photo</td>\n",
       "      <td>Studying</td>\n",
       "      <td>https://socialbuzz.cdn.com/content/storage/975...</td>\n",
       "      <td>19</td>\n",
       "      <td>January</td>\n",
       "      <td>2021</td>\n",
       "      <td>6</td>\n",
       "      <td>Wednesday</td>\n",
       "      <td>0</td>\n",
       "      <td>Evening</td>\n",
       "      <td>PM</td>\n",
       "    </tr>\n",
       "    <tr>\n",
       "      <th>4</th>\n",
       "      <td>97522e57-d9ab-4bd6-97bf-c24d952602d2</td>\n",
       "      <td>9b6d35f9-5e15-4cd0-a8d7-b1f3340e02c4</td>\n",
       "      <td>interested</td>\n",
       "      <td>2020-08-23 12:25:58</td>\n",
       "      <td>positive</td>\n",
       "      <td>30</td>\n",
       "      <td>photo</td>\n",
       "      <td>Studying</td>\n",
       "      <td>https://socialbuzz.cdn.com/content/storage/975...</td>\n",
       "      <td>12</td>\n",
       "      <td>August</td>\n",
       "      <td>2020</td>\n",
       "      <td>23</td>\n",
       "      <td>Sunday</td>\n",
       "      <td>1</td>\n",
       "      <td>Afternoon</td>\n",
       "      <td>AM</td>\n",
       "    </tr>\n",
       "  </tbody>\n",
       "</table>\n",
       "</div>"
      ],
      "text/plain": [
       "                             Content ID                               User ID  \\\n",
       "0  97522e57-d9ab-4bd6-97bf-c24d952602d2  5d454588-283d-459d-915d-c48a2cb4c27f   \n",
       "1  97522e57-d9ab-4bd6-97bf-c24d952602d2  92b87fa5-f271-43e0-af66-84fac21052e6   \n",
       "2  97522e57-d9ab-4bd6-97bf-c24d952602d2  163daa38-8b77-48c9-9af6-37a6c1447ac2   \n",
       "3  97522e57-d9ab-4bd6-97bf-c24d952602d2  34e8add9-0206-47fd-a501-037b994650a2   \n",
       "4  97522e57-d9ab-4bd6-97bf-c24d952602d2  9b6d35f9-5e15-4cd0-a8d7-b1f3340e02c4   \n",
       "\n",
       "  Reaction Type            Datetime Sentiment  Score   Type  Category  \\\n",
       "0       disgust 2020-11-07 09:43:50  negative      0  photo  Studying   \n",
       "1       dislike 2021-06-17 12:22:51  negative     10  photo  Studying   \n",
       "2        scared 2021-04-18 05:13:58  negative     15  photo  Studying   \n",
       "3       disgust 2021-01-06 19:13:01  negative      0  photo  Studying   \n",
       "4    interested 2020-08-23 12:25:58  positive     30  photo  Studying   \n",
       "\n",
       "                                                 URL  Hours     Month  Year  \\\n",
       "0  https://socialbuzz.cdn.com/content/storage/975...      9  November  2020   \n",
       "1  https://socialbuzz.cdn.com/content/storage/975...     12      June  2021   \n",
       "2  https://socialbuzz.cdn.com/content/storage/975...      5     April  2021   \n",
       "3  https://socialbuzz.cdn.com/content/storage/975...     19   January  2021   \n",
       "4  https://socialbuzz.cdn.com/content/storage/975...     12    August  2020   \n",
       "\n",
       "   Date        Day  Weekend Time_Range AM/PM  \n",
       "0     7   Saturday        1      Night    AM  \n",
       "1    17   Thursday        0  Afternoon    AM  \n",
       "2    18     Sunday        1    Morning    AM  \n",
       "3     6  Wednesday        0    Evening    PM  \n",
       "4    23     Sunday        1  Afternoon    AM  "
      ]
     },
     "execution_count": 41,
     "metadata": {},
     "output_type": "execute_result"
    }
   ],
   "source": [
    "df.head()"
   ]
  },
  {
   "cell_type": "code",
   "execution_count": 78,
   "id": "fb5dc50f",
   "metadata": {
    "ExecuteTime": {
     "end_time": "2022-08-20T22:49:31.571709Z",
     "start_time": "2022-08-20T22:49:31.431195Z"
    }
   },
   "outputs": [
    {
     "data": {
      "text/html": [
       "<div>\n",
       "<style scoped>\n",
       "    .dataframe tbody tr th:only-of-type {\n",
       "        vertical-align: middle;\n",
       "    }\n",
       "\n",
       "    .dataframe tbody tr th {\n",
       "        vertical-align: top;\n",
       "    }\n",
       "\n",
       "    .dataframe thead th {\n",
       "        text-align: right;\n",
       "    }\n",
       "</style>\n",
       "<table border=\"1\" class=\"dataframe\">\n",
       "  <thead>\n",
       "    <tr style=\"text-align: right;\">\n",
       "      <th></th>\n",
       "      <th>feature</th>\n",
       "      <th>data_type</th>\n",
       "      <th>null_num</th>\n",
       "      <th>null_pct</th>\n",
       "      <th>unique_num</th>\n",
       "      <th>unique_sample</th>\n",
       "    </tr>\n",
       "  </thead>\n",
       "  <tbody>\n",
       "    <tr>\n",
       "      <th>0</th>\n",
       "      <td>Content ID</td>\n",
       "      <td>object</td>\n",
       "      <td>0</td>\n",
       "      <td>0.0</td>\n",
       "      <td>962</td>\n",
       "      <td>[97522e57-d9ab-4bd6-97bf-c24d952602d2, 9f737e0...</td>\n",
       "    </tr>\n",
       "    <tr>\n",
       "      <th>1</th>\n",
       "      <td>User ID</td>\n",
       "      <td>object</td>\n",
       "      <td>0</td>\n",
       "      <td>0.0</td>\n",
       "      <td>500</td>\n",
       "      <td>[5d454588-283d-459d-915d-c48a2cb4c27f, 92b87fa...</td>\n",
       "    </tr>\n",
       "    <tr>\n",
       "      <th>2</th>\n",
       "      <td>Reaction Type</td>\n",
       "      <td>object</td>\n",
       "      <td>0</td>\n",
       "      <td>0.0</td>\n",
       "      <td>16</td>\n",
       "      <td>[disgust, dislike, scared, interested]</td>\n",
       "    </tr>\n",
       "    <tr>\n",
       "      <th>3</th>\n",
       "      <td>Datetime</td>\n",
       "      <td>datetime64[ns]</td>\n",
       "      <td>0</td>\n",
       "      <td>0.0</td>\n",
       "      <td>22524</td>\n",
       "      <td>[2020-11-07T09:43:50.000000000, 2021-06-17T12:...</td>\n",
       "    </tr>\n",
       "    <tr>\n",
       "      <th>4</th>\n",
       "      <td>Sentiment</td>\n",
       "      <td>object</td>\n",
       "      <td>0</td>\n",
       "      <td>0.0</td>\n",
       "      <td>3</td>\n",
       "      <td>[negative, positive, neutral]</td>\n",
       "    </tr>\n",
       "    <tr>\n",
       "      <th>5</th>\n",
       "      <td>Score</td>\n",
       "      <td>int64</td>\n",
       "      <td>0</td>\n",
       "      <td>0.0</td>\n",
       "      <td>15</td>\n",
       "      <td>[0, 10, 15, 30]</td>\n",
       "    </tr>\n",
       "    <tr>\n",
       "      <th>6</th>\n",
       "      <td>Type</td>\n",
       "      <td>object</td>\n",
       "      <td>0</td>\n",
       "      <td>0.0</td>\n",
       "      <td>4</td>\n",
       "      <td>[photo, video, GIF, audio]</td>\n",
       "    </tr>\n",
       "    <tr>\n",
       "      <th>7</th>\n",
       "      <td>Category</td>\n",
       "      <td>object</td>\n",
       "      <td>0</td>\n",
       "      <td>0.0</td>\n",
       "      <td>40</td>\n",
       "      <td>[Studying, healthy eating, technology, food]</td>\n",
       "    </tr>\n",
       "    <tr>\n",
       "      <th>8</th>\n",
       "      <td>URL</td>\n",
       "      <td>object</td>\n",
       "      <td>0</td>\n",
       "      <td>0.0</td>\n",
       "      <td>773</td>\n",
       "      <td>[https://socialbuzz.cdn.com/content/storage/97...</td>\n",
       "    </tr>\n",
       "    <tr>\n",
       "      <th>9</th>\n",
       "      <td>Hours</td>\n",
       "      <td>int64</td>\n",
       "      <td>0</td>\n",
       "      <td>0.0</td>\n",
       "      <td>24</td>\n",
       "      <td>[9, 12, 5, 19]</td>\n",
       "    </tr>\n",
       "    <tr>\n",
       "      <th>10</th>\n",
       "      <td>Month</td>\n",
       "      <td>object</td>\n",
       "      <td>0</td>\n",
       "      <td>0.0</td>\n",
       "      <td>12</td>\n",
       "      <td>[November, June, April, January]</td>\n",
       "    </tr>\n",
       "    <tr>\n",
       "      <th>11</th>\n",
       "      <td>Year</td>\n",
       "      <td>int64</td>\n",
       "      <td>0</td>\n",
       "      <td>0.0</td>\n",
       "      <td>2</td>\n",
       "      <td>[2020, 2021]</td>\n",
       "    </tr>\n",
       "    <tr>\n",
       "      <th>12</th>\n",
       "      <td>Date</td>\n",
       "      <td>int64</td>\n",
       "      <td>0</td>\n",
       "      <td>0.0</td>\n",
       "      <td>31</td>\n",
       "      <td>[7, 17, 18, 6]</td>\n",
       "    </tr>\n",
       "    <tr>\n",
       "      <th>13</th>\n",
       "      <td>Day</td>\n",
       "      <td>object</td>\n",
       "      <td>0</td>\n",
       "      <td>0.0</td>\n",
       "      <td>7</td>\n",
       "      <td>[Saturday, Thursday, Sunday, Wednesday]</td>\n",
       "    </tr>\n",
       "    <tr>\n",
       "      <th>14</th>\n",
       "      <td>Weekend</td>\n",
       "      <td>int64</td>\n",
       "      <td>0</td>\n",
       "      <td>0.0</td>\n",
       "      <td>2</td>\n",
       "      <td>[1, 0]</td>\n",
       "    </tr>\n",
       "    <tr>\n",
       "      <th>15</th>\n",
       "      <td>Time_Range</td>\n",
       "      <td>object</td>\n",
       "      <td>0</td>\n",
       "      <td>0.0</td>\n",
       "      <td>5</td>\n",
       "      <td>[Night, Afternoon, Morning, Evening]</td>\n",
       "    </tr>\n",
       "    <tr>\n",
       "      <th>16</th>\n",
       "      <td>AM/PM</td>\n",
       "      <td>object</td>\n",
       "      <td>0</td>\n",
       "      <td>0.0</td>\n",
       "      <td>2</td>\n",
       "      <td>[AM, PM]</td>\n",
       "    </tr>\n",
       "  </tbody>\n",
       "</table>\n",
       "</div>"
      ],
      "text/plain": [
       "          feature       data_type  null_num  null_pct  unique_num  \\\n",
       "0      Content ID          object         0       0.0         962   \n",
       "1         User ID          object         0       0.0         500   \n",
       "2   Reaction Type          object         0       0.0          16   \n",
       "3        Datetime  datetime64[ns]         0       0.0       22524   \n",
       "4       Sentiment          object         0       0.0           3   \n",
       "5           Score           int64         0       0.0          15   \n",
       "6            Type          object         0       0.0           4   \n",
       "7        Category          object         0       0.0          40   \n",
       "8             URL          object         0       0.0         773   \n",
       "9           Hours           int64         0       0.0          24   \n",
       "10          Month          object         0       0.0          12   \n",
       "11           Year           int64         0       0.0           2   \n",
       "12           Date           int64         0       0.0          31   \n",
       "13            Day          object         0       0.0           7   \n",
       "14        Weekend           int64         0       0.0           2   \n",
       "15     Time_Range          object         0       0.0           5   \n",
       "16          AM/PM          object         0       0.0           2   \n",
       "\n",
       "                                        unique_sample  \n",
       "0   [97522e57-d9ab-4bd6-97bf-c24d952602d2, 9f737e0...  \n",
       "1   [5d454588-283d-459d-915d-c48a2cb4c27f, 92b87fa...  \n",
       "2              [disgust, dislike, scared, interested]  \n",
       "3   [2020-11-07T09:43:50.000000000, 2021-06-17T12:...  \n",
       "4                       [negative, positive, neutral]  \n",
       "5                                     [0, 10, 15, 30]  \n",
       "6                          [photo, video, GIF, audio]  \n",
       "7        [Studying, healthy eating, technology, food]  \n",
       "8   [https://socialbuzz.cdn.com/content/storage/97...  \n",
       "9                                      [9, 12, 5, 19]  \n",
       "10                   [November, June, April, January]  \n",
       "11                                       [2020, 2021]  \n",
       "12                                     [7, 17, 18, 6]  \n",
       "13            [Saturday, Thursday, Sunday, Wednesday]  \n",
       "14                                             [1, 0]  \n",
       "15               [Night, Afternoon, Morning, Evening]  \n",
       "16                                           [AM, PM]  "
      ]
     },
     "execution_count": 78,
     "metadata": {},
     "output_type": "execute_result"
    }
   ],
   "source": [
    "information(df)"
   ]
  },
  {
   "cell_type": "markdown",
   "id": "ac43de17",
   "metadata": {},
   "source": [
    "# Data Exploratory"
   ]
  },
  {
   "cell_type": "code",
   "execution_count": 235,
   "id": "212f9eac",
   "metadata": {
    "ExecuteTime": {
     "end_time": "2022-08-21T04:38:20.065476Z",
     "start_time": "2022-08-21T04:38:20.046854Z"
    }
   },
   "outputs": [],
   "source": [
    "pal = ['#ea698b','#d55d92','#c05299','#ac46a1','#ac46a1','#822faf','#6d23b6','#6411ad','#571089','#47126b']"
   ]
  },
  {
   "cell_type": "markdown",
   "id": "534b7da0",
   "metadata": {},
   "source": [
    "## `Reaction Type by its Sentiment Score`"
   ]
  },
  {
   "cell_type": "code",
   "execution_count": 255,
   "id": "e604b952",
   "metadata": {
    "ExecuteTime": {
     "end_time": "2022-08-21T05:41:32.560761Z",
     "start_time": "2022-08-21T05:41:30.413602Z"
    }
   },
   "outputs": [
    {
     "data": {
      "image/png": "[encoded data removed]",
      "text/plain": [
       "<Figure size 1224x576 with 1 Axes>"
      ]
     },
     "metadata": {
      "needs_background": "light"
     },
     "output_type": "display_data"
    }
   ],
   "source": [
    "react_type_score = df.groupby('Reaction Type')['Score'].mean().reset_index()\n",
    "plt.figure(figsize=(17,8))\n",
    "sns.barplot(x='Reaction Type', y='Score', data=react_type_score, \n",
    "            palette=pal, order=react_type_score.sort_values(by='Score', ascending=False)['Reaction Type'])\n",
    "\n",
    "plt.title('Reaction Type by its Sentiment Score', fontsize=20, weight='extra bold')\n",
    "plt.xlabel('Reaction Type', fontsize=15)\n",
    "plt.ylabel('Sentiment Score', fontsize=15)\n",
    "\n",
    "#plt.savefig('figure1.png', dpi=500, bbox_inches='tight', pad_inches=0.2, transparent=True)"
   ]
  },
  {
   "cell_type": "markdown",
   "id": "3d90d7a5",
   "metadata": {},
   "source": [
    "## `Reaction Type by Mean Hours`"
   ]
  },
  {
   "cell_type": "code",
   "execution_count": 256,
   "id": "4bf5ef2b",
   "metadata": {
    "ExecuteTime": {
     "end_time": "2022-08-21T05:41:55.398416Z",
     "start_time": "2022-08-21T05:41:53.315994Z"
    }
   },
   "outputs": [
    {
     "data": {
      "image/png": "[encoded data removed]",
      "text/plain": [
       "<Figure size 1224x576 with 1 Axes>"
      ]
     },
     "metadata": {
      "needs_background": "light"
     },
     "output_type": "display_data"
    }
   ],
   "source": [
    "plt.figure(figsize=(17,8))\n",
    "sns.barplot(x='Reaction Type', y='Hours', data=df, palette=pal, ci=None,\n",
    "           order=react_type_score.sort_values(by='Score', ascending=False)['Reaction Type'])\n",
    "\n",
    "plt.title('Reaction Type by Mean Hours', fontsize=20, weight='extra bold')\n",
    "plt.xlabel('Reaction Type', fontsize=15)\n",
    "plt.ylabel('Mean Hours', fontsize=15)\n",
    "\n",
    "#plt.savefig('figure2.png', dpi=500, bbox_inches='tight', pad_inches=0.2, transparent=True)"
   ]
  },
  {
   "cell_type": "markdown",
   "id": "2f755558",
   "metadata": {},
   "source": [
    "## `Sentiment by Time Range`"
   ]
  },
  {
   "cell_type": "code",
   "execution_count": 123,
   "id": "f084983a",
   "metadata": {
    "ExecuteTime": {
     "end_time": "2022-08-20T23:15:34.408402Z",
     "start_time": "2022-08-20T23:15:34.376966Z"
    }
   },
   "outputs": [
    {
     "data": {
      "text/html": [
       "<div>\n",
       "<style scoped>\n",
       "    .dataframe tbody tr th:only-of-type {\n",
       "        vertical-align: middle;\n",
       "    }\n",
       "\n",
       "    .dataframe tbody tr th {\n",
       "        vertical-align: top;\n",
       "    }\n",
       "\n",
       "    .dataframe thead th {\n",
       "        text-align: right;\n",
       "    }\n",
       "</style>\n",
       "<table border=\"1\" class=\"dataframe\">\n",
       "  <thead>\n",
       "    <tr style=\"text-align: right;\">\n",
       "      <th></th>\n",
       "      <th>Sentiment</th>\n",
       "      <th>Time_Range</th>\n",
       "      <th>Ratio</th>\n",
       "    </tr>\n",
       "  </thead>\n",
       "  <tbody>\n",
       "    <tr>\n",
       "      <th>0</th>\n",
       "      <td>negative</td>\n",
       "      <td>Afternoon</td>\n",
       "      <td>0.239733</td>\n",
       "    </tr>\n",
       "    <tr>\n",
       "      <th>1</th>\n",
       "      <td>negative</td>\n",
       "      <td>Evening</td>\n",
       "      <td>0.082137</td>\n",
       "    </tr>\n",
       "    <tr>\n",
       "      <th>2</th>\n",
       "      <td>negative</td>\n",
       "      <td>Midnight</td>\n",
       "      <td>0.165838</td>\n",
       "    </tr>\n",
       "    <tr>\n",
       "      <th>3</th>\n",
       "      <td>negative</td>\n",
       "      <td>Morning</td>\n",
       "      <td>0.175643</td>\n",
       "    </tr>\n",
       "    <tr>\n",
       "      <th>4</th>\n",
       "      <td>negative</td>\n",
       "      <td>Night</td>\n",
       "      <td>0.336649</td>\n",
       "    </tr>\n",
       "    <tr>\n",
       "      <th>5</th>\n",
       "      <td>neutral</td>\n",
       "      <td>Afternoon</td>\n",
       "      <td>0.241233</td>\n",
       "    </tr>\n",
       "    <tr>\n",
       "      <th>6</th>\n",
       "      <td>neutral</td>\n",
       "      <td>Evening</td>\n",
       "      <td>0.076514</td>\n",
       "    </tr>\n",
       "    <tr>\n",
       "      <th>7</th>\n",
       "      <td>neutral</td>\n",
       "      <td>Midnight</td>\n",
       "      <td>0.168261</td>\n",
       "    </tr>\n",
       "    <tr>\n",
       "      <th>8</th>\n",
       "      <td>neutral</td>\n",
       "      <td>Morning</td>\n",
       "      <td>0.168261</td>\n",
       "    </tr>\n",
       "    <tr>\n",
       "      <th>9</th>\n",
       "      <td>neutral</td>\n",
       "      <td>Night</td>\n",
       "      <td>0.345731</td>\n",
       "    </tr>\n",
       "    <tr>\n",
       "      <th>10</th>\n",
       "      <td>positive</td>\n",
       "      <td>Afternoon</td>\n",
       "      <td>0.246647</td>\n",
       "    </tr>\n",
       "    <tr>\n",
       "      <th>11</th>\n",
       "      <td>positive</td>\n",
       "      <td>Evening</td>\n",
       "      <td>0.084425</td>\n",
       "    </tr>\n",
       "    <tr>\n",
       "      <th>12</th>\n",
       "      <td>positive</td>\n",
       "      <td>Midnight</td>\n",
       "      <td>0.163248</td>\n",
       "    </tr>\n",
       "    <tr>\n",
       "      <th>13</th>\n",
       "      <td>positive</td>\n",
       "      <td>Morning</td>\n",
       "      <td>0.171769</td>\n",
       "    </tr>\n",
       "    <tr>\n",
       "      <th>14</th>\n",
       "      <td>positive</td>\n",
       "      <td>Night</td>\n",
       "      <td>0.333912</td>\n",
       "    </tr>\n",
       "  </tbody>\n",
       "</table>\n",
       "</div>"
      ],
      "text/plain": [
       "   Sentiment Time_Range     Ratio\n",
       "0   negative  Afternoon  0.239733\n",
       "1   negative    Evening  0.082137\n",
       "2   negative   Midnight  0.165838\n",
       "3   negative    Morning  0.175643\n",
       "4   negative      Night  0.336649\n",
       "5    neutral  Afternoon  0.241233\n",
       "6    neutral    Evening  0.076514\n",
       "7    neutral   Midnight  0.168261\n",
       "8    neutral    Morning  0.168261\n",
       "9    neutral      Night  0.345731\n",
       "10  positive  Afternoon  0.246647\n",
       "11  positive    Evening  0.084425\n",
       "12  positive   Midnight  0.163248\n",
       "13  positive    Morning  0.171769\n",
       "14  positive      Night  0.333912"
      ]
     },
     "execution_count": 123,
     "metadata": {},
     "output_type": "execute_result"
    }
   ],
   "source": [
    "abc = df.groupby(['Sentiment','Time_Range'])['Hours'].count()/df.groupby('Sentiment')['Year'].count()\n",
    "abc = abc.reset_index()\n",
    "abc = abc.rename(columns={0:'Ratio'})\n",
    "abc"
   ]
  },
  {
   "cell_type": "code",
   "execution_count": 257,
   "id": "b924f79c",
   "metadata": {
    "ExecuteTime": {
     "end_time": "2022-08-21T05:42:06.641710Z",
     "start_time": "2022-08-21T05:42:03.917531Z"
    }
   },
   "outputs": [
    {
     "data": {
      "image/png": "[encoded data removed]",
      "text/plain": [
       "<Figure size 1224x576 with 1 Axes>"
      ]
     },
     "metadata": {
      "needs_background": "light"
     },
     "output_type": "display_data"
    }
   ],
   "source": [
    "plt.figure(figsize=(17,8))\n",
    "sns.barplot(x='Sentiment', y='Ratio', palette=pal, data=abc, hue='Time_Range')\n",
    "\n",
    "plt.title('Sentiment by Time Range', fontsize=20, weight='extra bold')\n",
    "plt.xlabel('Sentiment', fontsize=15)\n",
    "plt.ylabel('Ratio', fontsize=15)\n",
    "\n",
    "#plt.savefig('figure3.png', dpi=500, bbox_inches='tight', pad_inches=0.2, transparent=True)"
   ]
  },
  {
   "cell_type": "markdown",
   "id": "3e86eebb",
   "metadata": {},
   "source": [
    "# Data Join 2"
   ]
  },
  {
   "cell_type": "code",
   "execution_count": 168,
   "id": "caeaf361",
   "metadata": {
    "ExecuteTime": {
     "end_time": "2022-08-21T03:58:10.064389Z",
     "start_time": "2022-08-21T03:58:10.010271Z"
    }
   },
   "outputs": [
    {
     "data": {
      "text/html": [
       "<div>\n",
       "<style scoped>\n",
       "    .dataframe tbody tr th:only-of-type {\n",
       "        vertical-align: middle;\n",
       "    }\n",
       "\n",
       "    .dataframe tbody tr th {\n",
       "        vertical-align: top;\n",
       "    }\n",
       "\n",
       "    .dataframe thead th {\n",
       "        text-align: right;\n",
       "    }\n",
       "</style>\n",
       "<table border=\"1\" class=\"dataframe\">\n",
       "  <thead>\n",
       "    <tr style=\"text-align: right;\">\n",
       "      <th></th>\n",
       "      <th>Content ID</th>\n",
       "      <th>User ID</th>\n",
       "      <th>Reaction Type</th>\n",
       "      <th>Datetime</th>\n",
       "      <th>Sentiment</th>\n",
       "      <th>Score</th>\n",
       "      <th>Type</th>\n",
       "      <th>Category</th>\n",
       "      <th>URL</th>\n",
       "      <th>Hours</th>\n",
       "      <th>Month</th>\n",
       "      <th>Year</th>\n",
       "      <th>Date</th>\n",
       "      <th>Day</th>\n",
       "      <th>Weekend</th>\n",
       "      <th>Time_Range</th>\n",
       "      <th>AM/PM</th>\n",
       "      <th>Interests</th>\n",
       "      <th>Age</th>\n",
       "    </tr>\n",
       "  </thead>\n",
       "  <tbody>\n",
       "    <tr>\n",
       "      <th>0</th>\n",
       "      <td>97522e57-d9ab-4bd6-97bf-c24d952602d2</td>\n",
       "      <td>5d454588-283d-459d-915d-c48a2cb4c27f</td>\n",
       "      <td>disgust</td>\n",
       "      <td>2020-11-07 09:43:50</td>\n",
       "      <td>negative</td>\n",
       "      <td>0</td>\n",
       "      <td>photo</td>\n",
       "      <td>Studying</td>\n",
       "      <td>https://socialbuzz.cdn.com/content/storage/975...</td>\n",
       "      <td>9</td>\n",
       "      <td>November</td>\n",
       "      <td>2020</td>\n",
       "      <td>7</td>\n",
       "      <td>Saturday</td>\n",
       "      <td>1</td>\n",
       "      <td>Night</td>\n",
       "      <td>AM</td>\n",
       "      <td>['travel']</td>\n",
       "      <td>6</td>\n",
       "    </tr>\n",
       "    <tr>\n",
       "      <th>1</th>\n",
       "      <td>97522e57-d9ab-4bd6-97bf-c24d952602d2</td>\n",
       "      <td>92b87fa5-f271-43e0-af66-84fac21052e6</td>\n",
       "      <td>dislike</td>\n",
       "      <td>2021-06-17 12:22:51</td>\n",
       "      <td>negative</td>\n",
       "      <td>10</td>\n",
       "      <td>photo</td>\n",
       "      <td>Studying</td>\n",
       "      <td>https://socialbuzz.cdn.com/content/storage/975...</td>\n",
       "      <td>12</td>\n",
       "      <td>June</td>\n",
       "      <td>2021</td>\n",
       "      <td>17</td>\n",
       "      <td>Thursday</td>\n",
       "      <td>0</td>\n",
       "      <td>Afternoon</td>\n",
       "      <td>AM</td>\n",
       "      <td>['cooking']</td>\n",
       "      <td>30</td>\n",
       "    </tr>\n",
       "    <tr>\n",
       "      <th>2</th>\n",
       "      <td>97522e57-d9ab-4bd6-97bf-c24d952602d2</td>\n",
       "      <td>163daa38-8b77-48c9-9af6-37a6c1447ac2</td>\n",
       "      <td>scared</td>\n",
       "      <td>2021-04-18 05:13:58</td>\n",
       "      <td>negative</td>\n",
       "      <td>15</td>\n",
       "      <td>photo</td>\n",
       "      <td>Studying</td>\n",
       "      <td>https://socialbuzz.cdn.com/content/storage/975...</td>\n",
       "      <td>5</td>\n",
       "      <td>April</td>\n",
       "      <td>2021</td>\n",
       "      <td>18</td>\n",
       "      <td>Sunday</td>\n",
       "      <td>1</td>\n",
       "      <td>Morning</td>\n",
       "      <td>AM</td>\n",
       "      <td>['studying', 'tennis', 'veganism', 'technology']</td>\n",
       "      <td>5</td>\n",
       "    </tr>\n",
       "    <tr>\n",
       "      <th>3</th>\n",
       "      <td>97522e57-d9ab-4bd6-97bf-c24d952602d2</td>\n",
       "      <td>34e8add9-0206-47fd-a501-037b994650a2</td>\n",
       "      <td>disgust</td>\n",
       "      <td>2021-01-06 19:13:01</td>\n",
       "      <td>negative</td>\n",
       "      <td>0</td>\n",
       "      <td>photo</td>\n",
       "      <td>Studying</td>\n",
       "      <td>https://socialbuzz.cdn.com/content/storage/975...</td>\n",
       "      <td>19</td>\n",
       "      <td>January</td>\n",
       "      <td>2021</td>\n",
       "      <td>6</td>\n",
       "      <td>Wednesday</td>\n",
       "      <td>0</td>\n",
       "      <td>Evening</td>\n",
       "      <td>PM</td>\n",
       "      <td>['studying', 'public speaking']</td>\n",
       "      <td>17</td>\n",
       "    </tr>\n",
       "    <tr>\n",
       "      <th>4</th>\n",
       "      <td>97522e57-d9ab-4bd6-97bf-c24d952602d2</td>\n",
       "      <td>9b6d35f9-5e15-4cd0-a8d7-b1f3340e02c4</td>\n",
       "      <td>interested</td>\n",
       "      <td>2020-08-23 12:25:58</td>\n",
       "      <td>positive</td>\n",
       "      <td>30</td>\n",
       "      <td>photo</td>\n",
       "      <td>Studying</td>\n",
       "      <td>https://socialbuzz.cdn.com/content/storage/975...</td>\n",
       "      <td>12</td>\n",
       "      <td>August</td>\n",
       "      <td>2020</td>\n",
       "      <td>23</td>\n",
       "      <td>Sunday</td>\n",
       "      <td>1</td>\n",
       "      <td>Afternoon</td>\n",
       "      <td>AM</td>\n",
       "      <td>['animals', 'animals', 'dogs']</td>\n",
       "      <td>23</td>\n",
       "    </tr>\n",
       "  </tbody>\n",
       "</table>\n",
       "</div>"
      ],
      "text/plain": [
       "                             Content ID                               User ID  \\\n",
       "0  97522e57-d9ab-4bd6-97bf-c24d952602d2  5d454588-283d-459d-915d-c48a2cb4c27f   \n",
       "1  97522e57-d9ab-4bd6-97bf-c24d952602d2  92b87fa5-f271-43e0-af66-84fac21052e6   \n",
       "2  97522e57-d9ab-4bd6-97bf-c24d952602d2  163daa38-8b77-48c9-9af6-37a6c1447ac2   \n",
       "3  97522e57-d9ab-4bd6-97bf-c24d952602d2  34e8add9-0206-47fd-a501-037b994650a2   \n",
       "4  97522e57-d9ab-4bd6-97bf-c24d952602d2  9b6d35f9-5e15-4cd0-a8d7-b1f3340e02c4   \n",
       "\n",
       "  Reaction Type            Datetime Sentiment  Score   Type  Category  \\\n",
       "0       disgust 2020-11-07 09:43:50  negative      0  photo  Studying   \n",
       "1       dislike 2021-06-17 12:22:51  negative     10  photo  Studying   \n",
       "2        scared 2021-04-18 05:13:58  negative     15  photo  Studying   \n",
       "3       disgust 2021-01-06 19:13:01  negative      0  photo  Studying   \n",
       "4    interested 2020-08-23 12:25:58  positive     30  photo  Studying   \n",
       "\n",
       "                                                 URL  Hours     Month  Year  \\\n",
       "0  https://socialbuzz.cdn.com/content/storage/975...      9  November  2020   \n",
       "1  https://socialbuzz.cdn.com/content/storage/975...     12      June  2021   \n",
       "2  https://socialbuzz.cdn.com/content/storage/975...      5     April  2021   \n",
       "3  https://socialbuzz.cdn.com/content/storage/975...     19   January  2021   \n",
       "4  https://socialbuzz.cdn.com/content/storage/975...     12    August  2020   \n",
       "\n",
       "   Date        Day  Weekend Time_Range AM/PM  \\\n",
       "0     7   Saturday        1      Night    AM   \n",
       "1    17   Thursday        0  Afternoon    AM   \n",
       "2    18     Sunday        1    Morning    AM   \n",
       "3     6  Wednesday        0    Evening    PM   \n",
       "4    23     Sunday        1  Afternoon    AM   \n",
       "\n",
       "                                          Interests  Age  \n",
       "0                                        ['travel']    6  \n",
       "1                                       ['cooking']   30  \n",
       "2  ['studying', 'tennis', 'veganism', 'technology']    5  \n",
       "3                   ['studying', 'public speaking']   17  \n",
       "4                    ['animals', 'animals', 'dogs']   23  "
      ]
     },
     "execution_count": 168,
     "metadata": {},
     "output_type": "execute_result"
    }
   ],
   "source": [
    "merge1 = df.merge(profile, on='User ID', how='left')\n",
    "merge1.head()"
   ]
  },
  {
   "cell_type": "code",
   "execution_count": 177,
   "id": "8249d8f1",
   "metadata": {
    "ExecuteTime": {
     "end_time": "2022-08-21T04:00:59.454126Z",
     "start_time": "2022-08-21T04:00:59.370981Z"
    }
   },
   "outputs": [
    {
     "data": {
      "text/html": [
       "<div>\n",
       "<style scoped>\n",
       "    .dataframe tbody tr th:only-of-type {\n",
       "        vertical-align: middle;\n",
       "    }\n",
       "\n",
       "    .dataframe tbody tr th {\n",
       "        vertical-align: top;\n",
       "    }\n",
       "\n",
       "    .dataframe thead th {\n",
       "        text-align: right;\n",
       "    }\n",
       "</style>\n",
       "<table border=\"1\" class=\"dataframe\">\n",
       "  <thead>\n",
       "    <tr style=\"text-align: right;\">\n",
       "      <th></th>\n",
       "      <th>Content ID</th>\n",
       "      <th>User ID</th>\n",
       "      <th>Reaction Type</th>\n",
       "      <th>Datetime</th>\n",
       "      <th>Sentiment</th>\n",
       "      <th>Score</th>\n",
       "      <th>Type</th>\n",
       "      <th>Category</th>\n",
       "      <th>URL</th>\n",
       "      <th>Hours</th>\n",
       "      <th>Month</th>\n",
       "      <th>Year</th>\n",
       "      <th>Date</th>\n",
       "      <th>Day</th>\n",
       "      <th>Weekend</th>\n",
       "      <th>Time_Range</th>\n",
       "      <th>AM/PM</th>\n",
       "      <th>Interests</th>\n",
       "      <th>Age</th>\n",
       "      <th>Device</th>\n",
       "      <th>Duration</th>\n",
       "    </tr>\n",
       "  </thead>\n",
       "  <tbody>\n",
       "    <tr>\n",
       "      <th>0</th>\n",
       "      <td>97522e57-d9ab-4bd6-97bf-c24d952602d2</td>\n",
       "      <td>5d454588-283d-459d-915d-c48a2cb4c27f</td>\n",
       "      <td>disgust</td>\n",
       "      <td>2020-11-07 09:43:50</td>\n",
       "      <td>negative</td>\n",
       "      <td>0</td>\n",
       "      <td>photo</td>\n",
       "      <td>Studying</td>\n",
       "      <td>https://socialbuzz.cdn.com/content/storage/975...</td>\n",
       "      <td>9</td>\n",
       "      <td>November</td>\n",
       "      <td>2020</td>\n",
       "      <td>7</td>\n",
       "      <td>Saturday</td>\n",
       "      <td>1</td>\n",
       "      <td>Night</td>\n",
       "      <td>AM</td>\n",
       "      <td>['travel']</td>\n",
       "      <td>6</td>\n",
       "      <td>Motorola</td>\n",
       "      <td>88</td>\n",
       "    </tr>\n",
       "    <tr>\n",
       "      <th>1</th>\n",
       "      <td>97522e57-d9ab-4bd6-97bf-c24d952602d2</td>\n",
       "      <td>92b87fa5-f271-43e0-af66-84fac21052e6</td>\n",
       "      <td>dislike</td>\n",
       "      <td>2021-06-17 12:22:51</td>\n",
       "      <td>negative</td>\n",
       "      <td>10</td>\n",
       "      <td>photo</td>\n",
       "      <td>Studying</td>\n",
       "      <td>https://socialbuzz.cdn.com/content/storage/975...</td>\n",
       "      <td>12</td>\n",
       "      <td>June</td>\n",
       "      <td>2021</td>\n",
       "      <td>17</td>\n",
       "      <td>Thursday</td>\n",
       "      <td>0</td>\n",
       "      <td>Afternoon</td>\n",
       "      <td>AM</td>\n",
       "      <td>['cooking']</td>\n",
       "      <td>30</td>\n",
       "      <td>Huawei</td>\n",
       "      <td>11</td>\n",
       "    </tr>\n",
       "    <tr>\n",
       "      <th>2</th>\n",
       "      <td>97522e57-d9ab-4bd6-97bf-c24d952602d2</td>\n",
       "      <td>163daa38-8b77-48c9-9af6-37a6c1447ac2</td>\n",
       "      <td>scared</td>\n",
       "      <td>2021-04-18 05:13:58</td>\n",
       "      <td>negative</td>\n",
       "      <td>15</td>\n",
       "      <td>photo</td>\n",
       "      <td>Studying</td>\n",
       "      <td>https://socialbuzz.cdn.com/content/storage/975...</td>\n",
       "      <td>5</td>\n",
       "      <td>April</td>\n",
       "      <td>2021</td>\n",
       "      <td>18</td>\n",
       "      <td>Sunday</td>\n",
       "      <td>1</td>\n",
       "      <td>Morning</td>\n",
       "      <td>AM</td>\n",
       "      <td>['studying', 'tennis', 'veganism', 'technology']</td>\n",
       "      <td>5</td>\n",
       "      <td>Motorola</td>\n",
       "      <td>26</td>\n",
       "    </tr>\n",
       "    <tr>\n",
       "      <th>3</th>\n",
       "      <td>97522e57-d9ab-4bd6-97bf-c24d952602d2</td>\n",
       "      <td>34e8add9-0206-47fd-a501-037b994650a2</td>\n",
       "      <td>disgust</td>\n",
       "      <td>2021-01-06 19:13:01</td>\n",
       "      <td>negative</td>\n",
       "      <td>0</td>\n",
       "      <td>photo</td>\n",
       "      <td>Studying</td>\n",
       "      <td>https://socialbuzz.cdn.com/content/storage/975...</td>\n",
       "      <td>19</td>\n",
       "      <td>January</td>\n",
       "      <td>2021</td>\n",
       "      <td>6</td>\n",
       "      <td>Wednesday</td>\n",
       "      <td>0</td>\n",
       "      <td>Evening</td>\n",
       "      <td>PM</td>\n",
       "      <td>['studying', 'public speaking']</td>\n",
       "      <td>17</td>\n",
       "      <td>Microsoft</td>\n",
       "      <td>96</td>\n",
       "    </tr>\n",
       "    <tr>\n",
       "      <th>4</th>\n",
       "      <td>97522e57-d9ab-4bd6-97bf-c24d952602d2</td>\n",
       "      <td>9b6d35f9-5e15-4cd0-a8d7-b1f3340e02c4</td>\n",
       "      <td>interested</td>\n",
       "      <td>2020-08-23 12:25:58</td>\n",
       "      <td>positive</td>\n",
       "      <td>30</td>\n",
       "      <td>photo</td>\n",
       "      <td>Studying</td>\n",
       "      <td>https://socialbuzz.cdn.com/content/storage/975...</td>\n",
       "      <td>12</td>\n",
       "      <td>August</td>\n",
       "      <td>2020</td>\n",
       "      <td>23</td>\n",
       "      <td>Sunday</td>\n",
       "      <td>1</td>\n",
       "      <td>Afternoon</td>\n",
       "      <td>AM</td>\n",
       "      <td>['animals', 'animals', 'dogs']</td>\n",
       "      <td>23</td>\n",
       "      <td>HTC</td>\n",
       "      <td>19</td>\n",
       "    </tr>\n",
       "  </tbody>\n",
       "</table>\n",
       "</div>"
      ],
      "text/plain": [
       "                             Content ID                               User ID  \\\n",
       "0  97522e57-d9ab-4bd6-97bf-c24d952602d2  5d454588-283d-459d-915d-c48a2cb4c27f   \n",
       "1  97522e57-d9ab-4bd6-97bf-c24d952602d2  92b87fa5-f271-43e0-af66-84fac21052e6   \n",
       "2  97522e57-d9ab-4bd6-97bf-c24d952602d2  163daa38-8b77-48c9-9af6-37a6c1447ac2   \n",
       "3  97522e57-d9ab-4bd6-97bf-c24d952602d2  34e8add9-0206-47fd-a501-037b994650a2   \n",
       "4  97522e57-d9ab-4bd6-97bf-c24d952602d2  9b6d35f9-5e15-4cd0-a8d7-b1f3340e02c4   \n",
       "\n",
       "  Reaction Type            Datetime Sentiment  Score   Type  Category  \\\n",
       "0       disgust 2020-11-07 09:43:50  negative      0  photo  Studying   \n",
       "1       dislike 2021-06-17 12:22:51  negative     10  photo  Studying   \n",
       "2        scared 2021-04-18 05:13:58  negative     15  photo  Studying   \n",
       "3       disgust 2021-01-06 19:13:01  negative      0  photo  Studying   \n",
       "4    interested 2020-08-23 12:25:58  positive     30  photo  Studying   \n",
       "\n",
       "                                                 URL  Hours     Month  Year  \\\n",
       "0  https://socialbuzz.cdn.com/content/storage/975...      9  November  2020   \n",
       "1  https://socialbuzz.cdn.com/content/storage/975...     12      June  2021   \n",
       "2  https://socialbuzz.cdn.com/content/storage/975...      5     April  2021   \n",
       "3  https://socialbuzz.cdn.com/content/storage/975...     19   January  2021   \n",
       "4  https://socialbuzz.cdn.com/content/storage/975...     12    August  2020   \n",
       "\n",
       "   Date        Day  Weekend Time_Range AM/PM  \\\n",
       "0     7   Saturday        1      Night    AM   \n",
       "1    17   Thursday        0  Afternoon    AM   \n",
       "2    18     Sunday        1    Morning    AM   \n",
       "3     6  Wednesday        0    Evening    PM   \n",
       "4    23     Sunday        1  Afternoon    AM   \n",
       "\n",
       "                                          Interests  Age     Device  Duration  \n",
       "0                                        ['travel']    6   Motorola        88  \n",
       "1                                       ['cooking']   30     Huawei        11  \n",
       "2  ['studying', 'tennis', 'veganism', 'technology']    5   Motorola        26  \n",
       "3                   ['studying', 'public speaking']   17  Microsoft        96  \n",
       "4                    ['animals', 'animals', 'dogs']   23        HTC        19  "
      ]
     },
     "execution_count": 177,
     "metadata": {},
     "output_type": "execute_result"
    }
   ],
   "source": [
    "data = merge1.merge(session, how='left', on='User ID')\n",
    "data.head()"
   ]
  },
  {
   "cell_type": "markdown",
   "id": "cbbdd2ad",
   "metadata": {},
   "source": [
    "# Exploratory Data Analysis"
   ]
  },
  {
   "cell_type": "markdown",
   "id": "d2c55b04",
   "metadata": {},
   "source": [
    "## `Device by Duration`"
   ]
  },
  {
   "cell_type": "code",
   "execution_count": 258,
   "id": "06c29445",
   "metadata": {
    "ExecuteTime": {
     "end_time": "2022-08-21T05:42:17.655980Z",
     "start_time": "2022-08-21T05:42:14.750000Z"
    }
   },
   "outputs": [
    {
     "data": {
      "image/png": "[encoded data removed]",
      "text/plain": [
       "<Figure size 1296x504 with 1 Axes>"
      ]
     },
     "metadata": {
      "needs_background": "light"
     },
     "output_type": "display_data"
    }
   ],
   "source": [
    "plt.figure(figsize=(18,7))\n",
    "sns.barplot(x='Device',y='Duration',data=data, order=data.groupby('Device')['Duration'].mean().reset_index().sort_values(by='Duration',ascending=False)['Device'].values,\n",
    "            palette=pal)\n",
    "\n",
    "plt.title('Device by Duration', fontsize=20, weight='extra bold')\n",
    "\n",
    "#plt.savefig('figure4.png', dpi=500, bbox_inches='tight', pad_inches=0.2, transparent=True)"
   ]
  },
  {
   "cell_type": "markdown",
   "id": "d0e1a248",
   "metadata": {},
   "source": [
    "## `Category by AM/PM`"
   ]
  },
  {
   "cell_type": "code",
   "execution_count": 259,
   "id": "31ac22e8",
   "metadata": {
    "ExecuteTime": {
     "end_time": "2022-08-21T05:42:28.176737Z",
     "start_time": "2022-08-21T05:42:26.660753Z"
    }
   },
   "outputs": [
    {
     "data": {
      "image/png": "[encoded data removed]",
      "text/plain": [
       "<Figure size 864x576 with 1 Axes>"
      ]
     },
     "metadata": {
      "needs_background": "light"
     },
     "output_type": "display_data"
    }
   ],
   "source": [
    "order_list = ['animals', 'healthy eating', 'technology', 'science', 'cooking',]\n",
    "\n",
    "plt.figure(figsize=(12,8))\n",
    "sns.countplot(y='Category', hue='AM/PM', data=df, palette=pal,\n",
    "              order=order_list)\n",
    "\n",
    "plt.title('Top 5 Category by Title', fontsize=20, weight='extra bold')\n",
    "\n",
    "#plt.savefig('figure5.png', dpi=500, bbox_inches='tight', pad_inches=0.2, transparent=True)"
   ]
  },
  {
   "cell_type": "markdown",
   "id": "7d13cf77",
   "metadata": {},
   "source": [
    "## `Category by Positive Sentiment`"
   ]
  },
  {
   "cell_type": "code",
   "execution_count": 260,
   "id": "4b018837",
   "metadata": {
    "ExecuteTime": {
     "end_time": "2022-08-21T05:42:39.541905Z",
     "start_time": "2022-08-21T05:42:37.981757Z"
    }
   },
   "outputs": [
    {
     "data": {
      "image/png": "[encoded data removed]",
      "text/plain": [
       "<Figure size 864x432 with 1 Axes>"
      ]
     },
     "metadata": {
      "needs_background": "light"
     },
     "output_type": "display_data"
    }
   ],
   "source": [
    "pos = df[df['Sentiment']=='positive']\n",
    "pos = pos.groupby('Category')['Hours'].count().reset_index().sort_values(by='Hours',ascending=False).reset_index(drop=True).head(10)\n",
    "\n",
    "plt.figure(figsize=(12,6))\n",
    "sns.barplot(x='Category', y='Hours', data=pos, palette=pal)\n",
    "plt.ylabel('Positive Sentiment Count', fontsize=12)\n",
    "plt.xlabel('Top 10 Category', fontsize=12)\n",
    "plt.title('Top 10 Category Positive Sentiment', fontsize=20, weight='extra bold')\n",
    "\n",
    "#plt.savefig('figure6.png', dpi=500, bbox_inches='tight', pad_inches=0.2, transparent=True)"
   ]
  },
  {
   "cell_type": "markdown",
   "id": "4d658ed5",
   "metadata": {
    "ExecuteTime": {
     "end_time": "2022-08-21T04:18:20.740849Z",
     "start_time": "2022-08-21T04:18:20.718190Z"
    }
   },
   "source": [
    "## `Category by Negative Sentiment`"
   ]
  },
  {
   "cell_type": "code",
   "execution_count": 261,
   "id": "10c2d6b3",
   "metadata": {
    "ExecuteTime": {
     "end_time": "2022-08-21T05:42:47.303246Z",
     "start_time": "2022-08-21T05:42:45.897687Z"
    }
   },
   "outputs": [
    {
     "data": {
      "image/png": "[encoded data removed]",
      "text/plain": [
       "<Figure size 864x432 with 1 Axes>"
      ]
     },
     "metadata": {
      "needs_background": "light"
     },
     "output_type": "display_data"
    }
   ],
   "source": [
    "neg = df[df['Sentiment']=='negative']\n",
    "neg = neg.groupby('Category')['Hours'].count().reset_index().sort_values(by='Hours',ascending=False).reset_index(drop=True).head(10)\n",
    "\n",
    "plt.figure(figsize=(12,6))\n",
    "sns.barplot(x='Category', y='Hours', data=neg, palette=pal)\n",
    "plt.ylabel('Negative Sentiment Count', fontsize=12)\n",
    "plt.xlabel('Top 10 Category', fontsize=12)\n",
    "plt.title('Top 10 Category Negative Sentiment', fontsize=20, weight='extra bold')\n",
    "\n",
    "#plt.savefig('figure7.png', dpi=500, bbox_inches='tight', pad_inches=0.2, transparent=True)"
   ]
  },
  {
   "cell_type": "code",
   "execution_count": 262,
   "id": "e14eb469",
   "metadata": {
    "ExecuteTime": {
     "end_time": "2022-08-21T05:42:55.280041Z",
     "start_time": "2022-08-21T05:42:53.897731Z"
    }
   },
   "outputs": [
    {
     "name": "stderr",
     "output_type": "stream",
     "text": [
      "/opt/anaconda3/lib/python3.9/site-packages/seaborn/_decorators.py:36: FutureWarning: Pass the following variable as a keyword arg: x. From version 0.12, the only valid positional argument will be `data`, and passing other arguments without an explicit keyword will result in an error or misinterpretation.\n",
      "  warnings.warn(\n"
     ]
    },
    {
     "data": {
      "image/png": "[encoded data removed]",
      "text/plain": [
       "<Figure size 864x432 with 1 Axes>"
      ]
     },
     "metadata": {
      "needs_background": "light"
     },
     "output_type": "display_data"
    }
   ],
   "source": [
    "plt.figure(figsize=(12,6))\n",
    "sns.countplot(data['Type'], palette=pal)\n",
    "plt.title('Content Type Distribution', fontsize=20, weight='extra bold')\n",
    "plt.ylabel('Count', fontsize=12)\n",
    "plt.xlabel('Content Type', fontsize=12)\n",
    "\n",
    "#plt.savefig('figure8.png', dpi=500, bbox_inches='tight', pad_inches=0.2, transparent=True)"
   ]
  }
 ],
 "metadata": {
  "kernelspec": {
   "display_name": "Python 3 (ipykernel)",
   "language": "python",
   "name": "python3"
  },
  "language_info": {
   "codemirror_mode": {
    "name": "ipython",
    "version": 3
   },
   "file_extension": ".py",
   "mimetype": "text/x-python",
   "name": "python",
   "nbconvert_exporter": "python",
   "pygments_lexer": "ipython3",
   "version": "3.9.7"
  },
  "toc": {
   "base_numbering": 1,
   "nav_menu": {},
   "number_sections": true,
   "sideBar": true,
   "skip_h1_title": false,
   "title_cell": "Table of Contents",
   "title_sidebar": "Contents",
   "toc_cell": false,
   "toc_position": {},
   "toc_section_display": true,
   "toc_window_display": true
  }
 },
 "nbformat": 4,
 "nbformat_minor": 5
}
